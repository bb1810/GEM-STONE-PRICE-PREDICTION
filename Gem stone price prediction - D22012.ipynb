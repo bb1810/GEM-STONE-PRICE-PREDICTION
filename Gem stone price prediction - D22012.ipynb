{
 "cells": [
  {
   "cell_type": "markdown",
   "id": "0f8f3877",
   "metadata": {},
   "source": [
    "                                      ~ D22012 - BHARATH BOMMEESHWAR K ~ "
   ]
  },
  {
   "cell_type": "markdown",
   "id": "dbc79899",
   "metadata": {},
   "source": [
    "### <U> Problem Statement \n",
    "<font color= green> You are hired by a company Gem Stones co ltd, which is a cubic zirconia \n",
    "manufacturer. You are provided with the dataset containing the prices and other \n",
    "attributes of almost 27,000 cubic zirconia (which is an inexpensive diamond \n",
    "alternative with many of the same qualities as a diamond). The company is earning \n",
    "different profits on different prize slots. You have to help the company in predicting \n",
    "the price for the stone on the bases of the details given in the dataset so it can \n",
    "distinguish between higher profitable stones and lower profitable stones so as to \n",
    "have better profit share. Also, provide them with the best 5 attributes that are most \n",
    "important."
   ]
  },
  {
   "cell_type": "markdown",
   "id": "9a302b8d",
   "metadata": {},
   "source": [
    "### <U>Objective\n",
    "\n",
    "To build a optimal Machine learning model for predicting the price of the gemstone. Thereby it would help to improve the business profitability."
   ]
  },
  {
   "cell_type": "markdown",
   "id": "b6c02727",
   "metadata": {},
   "source": [
    "### <U>Frame work\n",
    "   - Data acquistion\n",
    "   - Exploratory Data Analysis - Univariate and bivariate\n",
    "   - Data pre-processing \n",
    "   - Building machine learning model\n",
    "   - Model evaluation \n",
    "   - Model testing\n",
    "   - Conclusion and Recommendations"
   ]
  },
  {
   "cell_type": "markdown",
   "id": "66d3473e",
   "metadata": {},
   "source": [
    "## 1. DATA ACQUISITION"
   ]
  },
  {
   "cell_type": "markdown",
   "id": "9d52a372",
   "metadata": {},
   "source": [
    "####  IMPORTING LIBRARIES"
   ]
  },
  {
   "cell_type": "code",
   "execution_count": 1,
   "id": "c6fc333b",
   "metadata": {},
   "outputs": [],
   "source": [
    "import numpy as np\n",
    "import pandas as pd\n",
    "import seaborn as sns\n",
    "import matplotlib.pyplot as plt\n",
    "import warnings\n",
    "warnings.filterwarnings('ignore')\n",
    "import statsmodels.formula.api as sm\n",
    "\n",
    "from scipy import stats\n",
    "from sklearn.linear_model import LinearRegression\n",
    "from sklearn.model_selection import train_test_split\n",
    "from sklearn.preprocessing import StandardScaler\n",
    "from sklearn import metrics\n",
    "\n",
    "from sklearn.impute import KNNImputer"
   ]
  },
  {
   "cell_type": "markdown",
   "id": "9b034d68",
   "metadata": {},
   "source": [
    "#### READING THE FILE"
   ]
  },
  {
   "cell_type": "code",
   "execution_count": 2,
   "id": "10b19c80",
   "metadata": {},
   "outputs": [],
   "source": [
    "#Importing the cubic_zirconia dataset and making copy of original dataset. Removed the column index\n",
    "data=pd.read_csv('Gem_prices.csv')"
   ]
  },
  {
   "cell_type": "code",
   "execution_count": 3,
   "id": "d4abf2a5",
   "metadata": {},
   "outputs": [],
   "source": [
    "#dropping serial number column\n",
    "data.drop(['Unnamed: 0'],axis=1,inplace=True)"
   ]
  },
  {
   "cell_type": "code",
   "execution_count": 4,
   "id": "58cbef14",
   "metadata": {},
   "outputs": [],
   "source": [
    "#making copy of original data set\n",
    "gem = data.copy()"
   ]
  },
  {
   "cell_type": "markdown",
   "id": "42c44abf",
   "metadata": {},
   "source": [
    "#### INFORMATION ABOUT THE DATASET"
   ]
  },
  {
   "cell_type": "code",
   "execution_count": 5,
   "id": "1966c941",
   "metadata": {
    "scrolled": true
   },
   "outputs": [
    {
     "name": "stdout",
     "output_type": "stream",
     "text": [
      "<class 'pandas.core.frame.DataFrame'>\n",
      "RangeIndex: 26967 entries, 0 to 26966\n",
      "Data columns (total 10 columns):\n",
      " #   Column   Non-Null Count  Dtype  \n",
      "---  ------   --------------  -----  \n",
      " 0   carat    26967 non-null  float64\n",
      " 1   cut      26967 non-null  object \n",
      " 2   color    26967 non-null  object \n",
      " 3   clarity  26967 non-null  object \n",
      " 4   depth    26270 non-null  float64\n",
      " 5   table    26967 non-null  float64\n",
      " 6   x        26967 non-null  float64\n",
      " 7   y        26967 non-null  float64\n",
      " 8   z        26967 non-null  float64\n",
      " 9   price    26967 non-null  int64  \n",
      "dtypes: float64(6), int64(1), object(3)\n",
      "memory usage: 2.1+ MB\n"
     ]
    }
   ],
   "source": [
    "gem.info()"
   ]
  },
  {
   "cell_type": "markdown",
   "id": "0f5f3722",
   "metadata": {},
   "source": [
    "| Variable      | Description                                                                                                 |\n",
    "| ------------- | ----------------------------------------------------------------------------------------------------------- |\n",
    "| Carat         | Carat weight of the cubic zirconia    |                                                                       \n",
    "| Cut           | Describe the cut quality of the cubic zirconia. Quality is increasing order Fair, Good,VeryGood,Premium,Ideal                                                                                                        |\n",
    "| Color         | Colour of the cubic zirconia.With D being the best and J the worst                                          |\n",
    "| Clarity      | cubic zirconia Clarity refers to the absence of the Inclusions and Blemishes. (In order from Best to Worst, FL = 1. flawless, I3= level 3 inclusions) FL, IF, VVS1, VVS2, VS1, VS2, SI1, SI2, I1, I2, I3                                     |                                                                                  \n",
    "| X        | Length of the cubic zirconia in mm                                                                               |\n",
    "| Y    | Width of the cubic zirconia in mm                                                                                    |\n",
    "| Z          | Height of the cubic zirconia in mm                                                                             | \n",
    "| Depth     |The Height of a cubic zirconia, measured from the Culet to the table, divided by its average Girdle Diameter     |  \n",
    "| Table     | The Width of the cubic zirconias Table expressed as a Percentage of its Average Diameter                        |  \n",
    "| Price   | the Price of the cubic zirconia                                                                                   | \n",
    "                                                           \n"
   ]
  },
  {
   "cell_type": "markdown",
   "id": "0dd9b81c",
   "metadata": {},
   "source": [
    "### <u>The dataset contains totally 10 variables and 26967 observations\n",
    "  - 7 Numerical variables - The dataset contains 6 float datatype variables and 1 integer datatype variable  \n",
    "  - 3 Categorical variables - The dataset contains 3 object datatype variables  \n",
    "  - 1 target variable(numerical)  "
   ]
  },
  {
   "cell_type": "markdown",
   "id": "aabfdd8c",
   "metadata": {},
   "source": [
    "## 2.EXPLORATORY DATA ANALYSIS"
   ]
  },
  {
   "cell_type": "code",
   "execution_count": 6,
   "id": "12a1a0a9",
   "metadata": {},
   "outputs": [
    {
     "data": {
      "text/plain": [
       "carat        0\n",
       "cut          0\n",
       "color        0\n",
       "clarity      0\n",
       "depth      697\n",
       "table        0\n",
       "x            0\n",
       "y            0\n",
       "z            0\n",
       "price        0\n",
       "dtype: int64"
      ]
     },
     "execution_count": 6,
     "metadata": {},
     "output_type": "execute_result"
    }
   ],
   "source": [
    "# Identifying the presence of null values\n",
    "gem.isnull().sum()"
   ]
  },
  {
   "cell_type": "code",
   "execution_count": 7,
   "id": "b3d31230",
   "metadata": {
    "scrolled": true
   },
   "outputs": [
    {
     "name": "stdout",
     "output_type": "stream",
     "text": [
      "Duplicates count: 34\n"
     ]
    },
    {
     "data": {
      "text/html": [
       "<div>\n",
       "<style scoped>\n",
       "    .dataframe tbody tr th:only-of-type {\n",
       "        vertical-align: middle;\n",
       "    }\n",
       "\n",
       "    .dataframe tbody tr th {\n",
       "        vertical-align: top;\n",
       "    }\n",
       "\n",
       "    .dataframe thead th {\n",
       "        text-align: right;\n",
       "    }\n",
       "</style>\n",
       "<table border=\"1\" class=\"dataframe\">\n",
       "  <thead>\n",
       "    <tr style=\"text-align: right;\">\n",
       "      <th></th>\n",
       "      <th>carat</th>\n",
       "      <th>cut</th>\n",
       "      <th>color</th>\n",
       "      <th>clarity</th>\n",
       "      <th>depth</th>\n",
       "      <th>table</th>\n",
       "      <th>x</th>\n",
       "      <th>y</th>\n",
       "      <th>z</th>\n",
       "      <th>price</th>\n",
       "    </tr>\n",
       "  </thead>\n",
       "  <tbody>\n",
       "    <tr>\n",
       "      <th>4756</th>\n",
       "      <td>0.35</td>\n",
       "      <td>Premium</td>\n",
       "      <td>J</td>\n",
       "      <td>VS1</td>\n",
       "      <td>62.4</td>\n",
       "      <td>58.0</td>\n",
       "      <td>5.67</td>\n",
       "      <td>5.64</td>\n",
       "      <td>3.53</td>\n",
       "      <td>949</td>\n",
       "    </tr>\n",
       "    <tr>\n",
       "      <th>6215</th>\n",
       "      <td>0.71</td>\n",
       "      <td>Good</td>\n",
       "      <td>F</td>\n",
       "      <td>SI2</td>\n",
       "      <td>64.1</td>\n",
       "      <td>60.0</td>\n",
       "      <td>0.00</td>\n",
       "      <td>0.00</td>\n",
       "      <td>0.00</td>\n",
       "      <td>2130</td>\n",
       "    </tr>\n",
       "    <tr>\n",
       "      <th>8144</th>\n",
       "      <td>0.33</td>\n",
       "      <td>Ideal</td>\n",
       "      <td>G</td>\n",
       "      <td>VS1</td>\n",
       "      <td>62.1</td>\n",
       "      <td>55.0</td>\n",
       "      <td>4.46</td>\n",
       "      <td>4.43</td>\n",
       "      <td>2.76</td>\n",
       "      <td>854</td>\n",
       "    </tr>\n",
       "    <tr>\n",
       "      <th>8919</th>\n",
       "      <td>1.52</td>\n",
       "      <td>Good</td>\n",
       "      <td>E</td>\n",
       "      <td>I1</td>\n",
       "      <td>57.3</td>\n",
       "      <td>58.0</td>\n",
       "      <td>7.53</td>\n",
       "      <td>7.42</td>\n",
       "      <td>4.28</td>\n",
       "      <td>3105</td>\n",
       "    </tr>\n",
       "    <tr>\n",
       "      <th>9818</th>\n",
       "      <td>0.35</td>\n",
       "      <td>Ideal</td>\n",
       "      <td>F</td>\n",
       "      <td>VS2</td>\n",
       "      <td>61.4</td>\n",
       "      <td>54.0</td>\n",
       "      <td>4.58</td>\n",
       "      <td>4.54</td>\n",
       "      <td>2.80</td>\n",
       "      <td>906</td>\n",
       "    </tr>\n",
       "    <tr>\n",
       "      <th>10473</th>\n",
       "      <td>0.79</td>\n",
       "      <td>Ideal</td>\n",
       "      <td>G</td>\n",
       "      <td>SI1</td>\n",
       "      <td>62.3</td>\n",
       "      <td>57.0</td>\n",
       "      <td>5.90</td>\n",
       "      <td>5.85</td>\n",
       "      <td>3.66</td>\n",
       "      <td>2898</td>\n",
       "    </tr>\n",
       "    <tr>\n",
       "      <th>10500</th>\n",
       "      <td>1.00</td>\n",
       "      <td>Premium</td>\n",
       "      <td>F</td>\n",
       "      <td>VVS2</td>\n",
       "      <td>60.6</td>\n",
       "      <td>54.0</td>\n",
       "      <td>6.56</td>\n",
       "      <td>6.52</td>\n",
       "      <td>3.96</td>\n",
       "      <td>8924</td>\n",
       "    </tr>\n",
       "    <tr>\n",
       "      <th>12894</th>\n",
       "      <td>1.21</td>\n",
       "      <td>Premium</td>\n",
       "      <td>D</td>\n",
       "      <td>SI2</td>\n",
       "      <td>62.5</td>\n",
       "      <td>57.0</td>\n",
       "      <td>6.79</td>\n",
       "      <td>6.71</td>\n",
       "      <td>4.22</td>\n",
       "      <td>6505</td>\n",
       "    </tr>\n",
       "    <tr>\n",
       "      <th>13547</th>\n",
       "      <td>0.43</td>\n",
       "      <td>Ideal</td>\n",
       "      <td>G</td>\n",
       "      <td>VS1</td>\n",
       "      <td>61.9</td>\n",
       "      <td>55.0</td>\n",
       "      <td>4.84</td>\n",
       "      <td>4.86</td>\n",
       "      <td>3.00</td>\n",
       "      <td>943</td>\n",
       "    </tr>\n",
       "    <tr>\n",
       "      <th>13783</th>\n",
       "      <td>0.79</td>\n",
       "      <td>Ideal</td>\n",
       "      <td>G</td>\n",
       "      <td>SI1</td>\n",
       "      <td>62.3</td>\n",
       "      <td>57.0</td>\n",
       "      <td>5.90</td>\n",
       "      <td>5.85</td>\n",
       "      <td>3.66</td>\n",
       "      <td>2898</td>\n",
       "    </tr>\n",
       "    <tr>\n",
       "      <th>14389</th>\n",
       "      <td>0.60</td>\n",
       "      <td>Premium</td>\n",
       "      <td>D</td>\n",
       "      <td>SI2</td>\n",
       "      <td>62.0</td>\n",
       "      <td>57.0</td>\n",
       "      <td>5.43</td>\n",
       "      <td>5.35</td>\n",
       "      <td>3.34</td>\n",
       "      <td>1196</td>\n",
       "    </tr>\n",
       "    <tr>\n",
       "      <th>14410</th>\n",
       "      <td>1.00</td>\n",
       "      <td>Very Good</td>\n",
       "      <td>D</td>\n",
       "      <td>SI1</td>\n",
       "      <td>63.1</td>\n",
       "      <td>56.0</td>\n",
       "      <td>6.34</td>\n",
       "      <td>6.30</td>\n",
       "      <td>3.99</td>\n",
       "      <td>5645</td>\n",
       "    </tr>\n",
       "    <tr>\n",
       "      <th>15798</th>\n",
       "      <td>0.90</td>\n",
       "      <td>Very Good</td>\n",
       "      <td>I</td>\n",
       "      <td>VS2</td>\n",
       "      <td>58.4</td>\n",
       "      <td>62.0</td>\n",
       "      <td>6.29</td>\n",
       "      <td>6.35</td>\n",
       "      <td>3.69</td>\n",
       "      <td>3334</td>\n",
       "    </tr>\n",
       "    <tr>\n",
       "      <th>16852</th>\n",
       "      <td>0.79</td>\n",
       "      <td>Ideal</td>\n",
       "      <td>G</td>\n",
       "      <td>SI1</td>\n",
       "      <td>62.3</td>\n",
       "      <td>57.0</td>\n",
       "      <td>5.90</td>\n",
       "      <td>5.85</td>\n",
       "      <td>3.66</td>\n",
       "      <td>2898</td>\n",
       "    </tr>\n",
       "    <tr>\n",
       "      <th>17263</th>\n",
       "      <td>1.04</td>\n",
       "      <td>Premium</td>\n",
       "      <td>I</td>\n",
       "      <td>SI2</td>\n",
       "      <td>62.0</td>\n",
       "      <td>57.0</td>\n",
       "      <td>6.53</td>\n",
       "      <td>6.47</td>\n",
       "      <td>4.03</td>\n",
       "      <td>3774</td>\n",
       "    </tr>\n",
       "    <tr>\n",
       "      <th>18025</th>\n",
       "      <td>1.51</td>\n",
       "      <td>Good</td>\n",
       "      <td>I</td>\n",
       "      <td>SI1</td>\n",
       "      <td>63.8</td>\n",
       "      <td>57.0</td>\n",
       "      <td>7.21</td>\n",
       "      <td>7.18</td>\n",
       "      <td>4.59</td>\n",
       "      <td>6046</td>\n",
       "    </tr>\n",
       "    <tr>\n",
       "      <th>18777</th>\n",
       "      <td>0.32</td>\n",
       "      <td>Premium</td>\n",
       "      <td>H</td>\n",
       "      <td>VS2</td>\n",
       "      <td>60.6</td>\n",
       "      <td>58.0</td>\n",
       "      <td>4.47</td>\n",
       "      <td>4.44</td>\n",
       "      <td>2.70</td>\n",
       "      <td>648</td>\n",
       "    </tr>\n",
       "    <tr>\n",
       "      <th>18837</th>\n",
       "      <td>1.01</td>\n",
       "      <td>Premium</td>\n",
       "      <td>H</td>\n",
       "      <td>VS1</td>\n",
       "      <td>61.2</td>\n",
       "      <td>61.0</td>\n",
       "      <td>6.44</td>\n",
       "      <td>6.41</td>\n",
       "      <td>3.93</td>\n",
       "      <td>5294</td>\n",
       "    </tr>\n",
       "    <tr>\n",
       "      <th>19731</th>\n",
       "      <td>0.30</td>\n",
       "      <td>Good</td>\n",
       "      <td>J</td>\n",
       "      <td>VS1</td>\n",
       "      <td>63.4</td>\n",
       "      <td>57.0</td>\n",
       "      <td>4.23</td>\n",
       "      <td>4.26</td>\n",
       "      <td>2.69</td>\n",
       "      <td>394</td>\n",
       "    </tr>\n",
       "    <tr>\n",
       "      <th>19877</th>\n",
       "      <td>2.01</td>\n",
       "      <td>Premium</td>\n",
       "      <td>I</td>\n",
       "      <td>VS2</td>\n",
       "      <td>60.3</td>\n",
       "      <td>62.0</td>\n",
       "      <td>8.13</td>\n",
       "      <td>8.08</td>\n",
       "      <td>4.89</td>\n",
       "      <td>15939</td>\n",
       "    </tr>\n",
       "    <tr>\n",
       "      <th>20301</th>\n",
       "      <td>0.30</td>\n",
       "      <td>Ideal</td>\n",
       "      <td>H</td>\n",
       "      <td>SI1</td>\n",
       "      <td>62.2</td>\n",
       "      <td>57.0</td>\n",
       "      <td>4.26</td>\n",
       "      <td>4.29</td>\n",
       "      <td>2.66</td>\n",
       "      <td>450</td>\n",
       "    </tr>\n",
       "    <tr>\n",
       "      <th>20760</th>\n",
       "      <td>1.80</td>\n",
       "      <td>Ideal</td>\n",
       "      <td>H</td>\n",
       "      <td>VS1</td>\n",
       "      <td>62.3</td>\n",
       "      <td>56.0</td>\n",
       "      <td>7.79</td>\n",
       "      <td>7.76</td>\n",
       "      <td>4.84</td>\n",
       "      <td>15105</td>\n",
       "    </tr>\n",
       "    <tr>\n",
       "      <th>22322</th>\n",
       "      <td>2.05</td>\n",
       "      <td>Premium</td>\n",
       "      <td>I</td>\n",
       "      <td>SI2</td>\n",
       "      <td>62.0</td>\n",
       "      <td>58.0</td>\n",
       "      <td>8.13</td>\n",
       "      <td>8.08</td>\n",
       "      <td>5.02</td>\n",
       "      <td>9850</td>\n",
       "    </tr>\n",
       "    <tr>\n",
       "      <th>22488</th>\n",
       "      <td>2.42</td>\n",
       "      <td>Premium</td>\n",
       "      <td>J</td>\n",
       "      <td>VS2</td>\n",
       "      <td>61.3</td>\n",
       "      <td>59.0</td>\n",
       "      <td>8.61</td>\n",
       "      <td>8.58</td>\n",
       "      <td>5.27</td>\n",
       "      <td>17168</td>\n",
       "    </tr>\n",
       "    <tr>\n",
       "      <th>22583</th>\n",
       "      <td>0.33</td>\n",
       "      <td>Ideal</td>\n",
       "      <td>F</td>\n",
       "      <td>IF</td>\n",
       "      <td>61.2</td>\n",
       "      <td>56.0</td>\n",
       "      <td>4.47</td>\n",
       "      <td>4.49</td>\n",
       "      <td>2.74</td>\n",
       "      <td>1240</td>\n",
       "    </tr>\n",
       "    <tr>\n",
       "      <th>23458</th>\n",
       "      <td>2.66</td>\n",
       "      <td>Good</td>\n",
       "      <td>H</td>\n",
       "      <td>SI2</td>\n",
       "      <td>63.8</td>\n",
       "      <td>57.0</td>\n",
       "      <td>8.71</td>\n",
       "      <td>8.65</td>\n",
       "      <td>5.54</td>\n",
       "      <td>16239</td>\n",
       "    </tr>\n",
       "    <tr>\n",
       "      <th>23564</th>\n",
       "      <td>1.50</td>\n",
       "      <td>Premium</td>\n",
       "      <td>F</td>\n",
       "      <td>SI2</td>\n",
       "      <td>58.5</td>\n",
       "      <td>60.0</td>\n",
       "      <td>7.52</td>\n",
       "      <td>7.48</td>\n",
       "      <td>4.39</td>\n",
       "      <td>7644</td>\n",
       "    </tr>\n",
       "    <tr>\n",
       "      <th>24351</th>\n",
       "      <td>2.50</td>\n",
       "      <td>Fair</td>\n",
       "      <td>H</td>\n",
       "      <td>SI2</td>\n",
       "      <td>64.9</td>\n",
       "      <td>58.0</td>\n",
       "      <td>8.46</td>\n",
       "      <td>8.43</td>\n",
       "      <td>5.48</td>\n",
       "      <td>13278</td>\n",
       "    </tr>\n",
       "    <tr>\n",
       "      <th>24816</th>\n",
       "      <td>1.50</td>\n",
       "      <td>Good</td>\n",
       "      <td>G</td>\n",
       "      <td>SI2</td>\n",
       "      <td>57.5</td>\n",
       "      <td>63.0</td>\n",
       "      <td>7.53</td>\n",
       "      <td>7.49</td>\n",
       "      <td>4.32</td>\n",
       "      <td>6006</td>\n",
       "    </tr>\n",
       "    <tr>\n",
       "      <th>25268</th>\n",
       "      <td>1.20</td>\n",
       "      <td>Premium</td>\n",
       "      <td>I</td>\n",
       "      <td>VS2</td>\n",
       "      <td>62.6</td>\n",
       "      <td>58.0</td>\n",
       "      <td>6.77</td>\n",
       "      <td>6.72</td>\n",
       "      <td>4.22</td>\n",
       "      <td>5699</td>\n",
       "    </tr>\n",
       "    <tr>\n",
       "      <th>25759</th>\n",
       "      <td>0.30</td>\n",
       "      <td>Ideal</td>\n",
       "      <td>G</td>\n",
       "      <td>IF</td>\n",
       "      <td>62.1</td>\n",
       "      <td>55.0</td>\n",
       "      <td>4.32</td>\n",
       "      <td>4.35</td>\n",
       "      <td>2.69</td>\n",
       "      <td>863</td>\n",
       "    </tr>\n",
       "    <tr>\n",
       "      <th>25941</th>\n",
       "      <td>0.51</td>\n",
       "      <td>Premium</td>\n",
       "      <td>F</td>\n",
       "      <td>SI2</td>\n",
       "      <td>58.1</td>\n",
       "      <td>59.0</td>\n",
       "      <td>5.26</td>\n",
       "      <td>5.24</td>\n",
       "      <td>3.05</td>\n",
       "      <td>1052</td>\n",
       "    </tr>\n",
       "    <tr>\n",
       "      <th>26191</th>\n",
       "      <td>2.54</td>\n",
       "      <td>Very Good</td>\n",
       "      <td>H</td>\n",
       "      <td>SI2</td>\n",
       "      <td>63.5</td>\n",
       "      <td>56.0</td>\n",
       "      <td>8.68</td>\n",
       "      <td>8.65</td>\n",
       "      <td>5.50</td>\n",
       "      <td>16353</td>\n",
       "    </tr>\n",
       "    <tr>\n",
       "      <th>26530</th>\n",
       "      <td>0.41</td>\n",
       "      <td>Ideal</td>\n",
       "      <td>G</td>\n",
       "      <td>IF</td>\n",
       "      <td>61.7</td>\n",
       "      <td>56.0</td>\n",
       "      <td>4.77</td>\n",
       "      <td>4.80</td>\n",
       "      <td>2.95</td>\n",
       "      <td>1367</td>\n",
       "    </tr>\n",
       "  </tbody>\n",
       "</table>\n",
       "</div>"
      ],
      "text/plain": [
       "       carat        cut color clarity  depth  table     x     y     z  price\n",
       "4756    0.35    Premium     J     VS1   62.4   58.0  5.67  5.64  3.53    949\n",
       "6215    0.71       Good     F     SI2   64.1   60.0  0.00  0.00  0.00   2130\n",
       "8144    0.33      Ideal     G     VS1   62.1   55.0  4.46  4.43  2.76    854\n",
       "8919    1.52       Good     E      I1   57.3   58.0  7.53  7.42  4.28   3105\n",
       "9818    0.35      Ideal     F     VS2   61.4   54.0  4.58  4.54  2.80    906\n",
       "10473   0.79      Ideal     G     SI1   62.3   57.0  5.90  5.85  3.66   2898\n",
       "10500   1.00    Premium     F    VVS2   60.6   54.0  6.56  6.52  3.96   8924\n",
       "12894   1.21    Premium     D     SI2   62.5   57.0  6.79  6.71  4.22   6505\n",
       "13547   0.43      Ideal     G     VS1   61.9   55.0  4.84  4.86  3.00    943\n",
       "13783   0.79      Ideal     G     SI1   62.3   57.0  5.90  5.85  3.66   2898\n",
       "14389   0.60    Premium     D     SI2   62.0   57.0  5.43  5.35  3.34   1196\n",
       "14410   1.00  Very Good     D     SI1   63.1   56.0  6.34  6.30  3.99   5645\n",
       "15798   0.90  Very Good     I     VS2   58.4   62.0  6.29  6.35  3.69   3334\n",
       "16852   0.79      Ideal     G     SI1   62.3   57.0  5.90  5.85  3.66   2898\n",
       "17263   1.04    Premium     I     SI2   62.0   57.0  6.53  6.47  4.03   3774\n",
       "18025   1.51       Good     I     SI1   63.8   57.0  7.21  7.18  4.59   6046\n",
       "18777   0.32    Premium     H     VS2   60.6   58.0  4.47  4.44  2.70    648\n",
       "18837   1.01    Premium     H     VS1   61.2   61.0  6.44  6.41  3.93   5294\n",
       "19731   0.30       Good     J     VS1   63.4   57.0  4.23  4.26  2.69    394\n",
       "19877   2.01    Premium     I     VS2   60.3   62.0  8.13  8.08  4.89  15939\n",
       "20301   0.30      Ideal     H     SI1   62.2   57.0  4.26  4.29  2.66    450\n",
       "20760   1.80      Ideal     H     VS1   62.3   56.0  7.79  7.76  4.84  15105\n",
       "22322   2.05    Premium     I     SI2   62.0   58.0  8.13  8.08  5.02   9850\n",
       "22488   2.42    Premium     J     VS2   61.3   59.0  8.61  8.58  5.27  17168\n",
       "22583   0.33      Ideal     F      IF   61.2   56.0  4.47  4.49  2.74   1240\n",
       "23458   2.66       Good     H     SI2   63.8   57.0  8.71  8.65  5.54  16239\n",
       "23564   1.50    Premium     F     SI2   58.5   60.0  7.52  7.48  4.39   7644\n",
       "24351   2.50       Fair     H     SI2   64.9   58.0  8.46  8.43  5.48  13278\n",
       "24816   1.50       Good     G     SI2   57.5   63.0  7.53  7.49  4.32   6006\n",
       "25268   1.20    Premium     I     VS2   62.6   58.0  6.77  6.72  4.22   5699\n",
       "25759   0.30      Ideal     G      IF   62.1   55.0  4.32  4.35  2.69    863\n",
       "25941   0.51    Premium     F     SI2   58.1   59.0  5.26  5.24  3.05   1052\n",
       "26191   2.54  Very Good     H     SI2   63.5   56.0  8.68  8.65  5.50  16353\n",
       "26530   0.41      Ideal     G      IF   61.7   56.0  4.77  4.80  2.95   1367"
      ]
     },
     "execution_count": 7,
     "metadata": {},
     "output_type": "execute_result"
    }
   ],
   "source": [
    "# Checking for any duplicate entries\n",
    "duplicates=gem.duplicated()\n",
    "print(\"Duplicates count:\",duplicates.sum())\n",
    "gem[duplicates]"
   ]
  },
  {
   "cell_type": "code",
   "execution_count": 8,
   "id": "4aa0f156",
   "metadata": {},
   "outputs": [
    {
     "name": "stdout",
     "output_type": "stream",
     "text": [
      "Duplicates count: 0\n"
     ]
    },
    {
     "data": {
      "text/html": [
       "<div>\n",
       "<style scoped>\n",
       "    .dataframe tbody tr th:only-of-type {\n",
       "        vertical-align: middle;\n",
       "    }\n",
       "\n",
       "    .dataframe tbody tr th {\n",
       "        vertical-align: top;\n",
       "    }\n",
       "\n",
       "    .dataframe thead th {\n",
       "        text-align: right;\n",
       "    }\n",
       "</style>\n",
       "<table border=\"1\" class=\"dataframe\">\n",
       "  <thead>\n",
       "    <tr style=\"text-align: right;\">\n",
       "      <th></th>\n",
       "      <th>carat</th>\n",
       "      <th>cut</th>\n",
       "      <th>color</th>\n",
       "      <th>clarity</th>\n",
       "      <th>depth</th>\n",
       "      <th>table</th>\n",
       "      <th>x</th>\n",
       "      <th>y</th>\n",
       "      <th>z</th>\n",
       "      <th>price</th>\n",
       "    </tr>\n",
       "  </thead>\n",
       "  <tbody>\n",
       "  </tbody>\n",
       "</table>\n",
       "</div>"
      ],
      "text/plain": [
       "Empty DataFrame\n",
       "Columns: [carat, cut, color, clarity, depth, table, x, y, z, price]\n",
       "Index: []"
      ]
     },
     "execution_count": 8,
     "metadata": {},
     "output_type": "execute_result"
    }
   ],
   "source": [
    "# Dropping the duplicates\n",
    "gem.drop_duplicates(inplace=True)\n",
    "\n",
    "duplicates=gem.duplicated()\n",
    "print(\"Duplicates count:\",duplicates.sum())\n",
    "gem[duplicates]"
   ]
  },
  {
   "cell_type": "markdown",
   "id": "66b1bc5e",
   "metadata": {},
   "source": [
    "##### No duplicates are found and if any present they should be removed."
   ]
  },
  {
   "cell_type": "code",
   "execution_count": 9,
   "id": "7b563d9d",
   "metadata": {},
   "outputs": [
    {
     "data": {
      "text/html": [
       "<div>\n",
       "<style scoped>\n",
       "    .dataframe tbody tr th:only-of-type {\n",
       "        vertical-align: middle;\n",
       "    }\n",
       "\n",
       "    .dataframe tbody tr th {\n",
       "        vertical-align: top;\n",
       "    }\n",
       "\n",
       "    .dataframe thead th {\n",
       "        text-align: right;\n",
       "    }\n",
       "</style>\n",
       "<table border=\"1\" class=\"dataframe\">\n",
       "  <thead>\n",
       "    <tr style=\"text-align: right;\">\n",
       "      <th></th>\n",
       "      <th>carat</th>\n",
       "      <th>depth</th>\n",
       "      <th>table</th>\n",
       "      <th>x</th>\n",
       "      <th>y</th>\n",
       "      <th>z</th>\n",
       "      <th>price</th>\n",
       "    </tr>\n",
       "  </thead>\n",
       "  <tbody>\n",
       "    <tr>\n",
       "      <th>count</th>\n",
       "      <td>26933.000000</td>\n",
       "      <td>26236.000000</td>\n",
       "      <td>26933.000000</td>\n",
       "      <td>26933.000000</td>\n",
       "      <td>26933.000000</td>\n",
       "      <td>26933.000000</td>\n",
       "      <td>26933.000000</td>\n",
       "    </tr>\n",
       "    <tr>\n",
       "      <th>mean</th>\n",
       "      <td>0.798010</td>\n",
       "      <td>61.745285</td>\n",
       "      <td>57.455950</td>\n",
       "      <td>5.729346</td>\n",
       "      <td>5.733102</td>\n",
       "      <td>3.537769</td>\n",
       "      <td>3937.526120</td>\n",
       "    </tr>\n",
       "    <tr>\n",
       "      <th>std</th>\n",
       "      <td>0.477237</td>\n",
       "      <td>1.412243</td>\n",
       "      <td>2.232156</td>\n",
       "      <td>1.127367</td>\n",
       "      <td>1.165037</td>\n",
       "      <td>0.719964</td>\n",
       "      <td>4022.551862</td>\n",
       "    </tr>\n",
       "    <tr>\n",
       "      <th>min</th>\n",
       "      <td>0.200000</td>\n",
       "      <td>50.800000</td>\n",
       "      <td>49.000000</td>\n",
       "      <td>0.000000</td>\n",
       "      <td>0.000000</td>\n",
       "      <td>0.000000</td>\n",
       "      <td>326.000000</td>\n",
       "    </tr>\n",
       "    <tr>\n",
       "      <th>25%</th>\n",
       "      <td>0.400000</td>\n",
       "      <td>61.000000</td>\n",
       "      <td>56.000000</td>\n",
       "      <td>4.710000</td>\n",
       "      <td>4.710000</td>\n",
       "      <td>2.900000</td>\n",
       "      <td>945.000000</td>\n",
       "    </tr>\n",
       "    <tr>\n",
       "      <th>50%</th>\n",
       "      <td>0.700000</td>\n",
       "      <td>61.800000</td>\n",
       "      <td>57.000000</td>\n",
       "      <td>5.690000</td>\n",
       "      <td>5.700000</td>\n",
       "      <td>3.520000</td>\n",
       "      <td>2375.000000</td>\n",
       "    </tr>\n",
       "    <tr>\n",
       "      <th>75%</th>\n",
       "      <td>1.050000</td>\n",
       "      <td>62.500000</td>\n",
       "      <td>59.000000</td>\n",
       "      <td>6.550000</td>\n",
       "      <td>6.540000</td>\n",
       "      <td>4.040000</td>\n",
       "      <td>5356.000000</td>\n",
       "    </tr>\n",
       "    <tr>\n",
       "      <th>max</th>\n",
       "      <td>4.500000</td>\n",
       "      <td>73.600000</td>\n",
       "      <td>79.000000</td>\n",
       "      <td>10.230000</td>\n",
       "      <td>58.900000</td>\n",
       "      <td>31.800000</td>\n",
       "      <td>18818.000000</td>\n",
       "    </tr>\n",
       "  </tbody>\n",
       "</table>\n",
       "</div>"
      ],
      "text/plain": [
       "              carat         depth         table             x             y  \\\n",
       "count  26933.000000  26236.000000  26933.000000  26933.000000  26933.000000   \n",
       "mean       0.798010     61.745285     57.455950      5.729346      5.733102   \n",
       "std        0.477237      1.412243      2.232156      1.127367      1.165037   \n",
       "min        0.200000     50.800000     49.000000      0.000000      0.000000   \n",
       "25%        0.400000     61.000000     56.000000      4.710000      4.710000   \n",
       "50%        0.700000     61.800000     57.000000      5.690000      5.700000   \n",
       "75%        1.050000     62.500000     59.000000      6.550000      6.540000   \n",
       "max        4.500000     73.600000     79.000000     10.230000     58.900000   \n",
       "\n",
       "                  z         price  \n",
       "count  26933.000000  26933.000000  \n",
       "mean       3.537769   3937.526120  \n",
       "std        0.719964   4022.551862  \n",
       "min        0.000000    326.000000  \n",
       "25%        2.900000    945.000000  \n",
       "50%        3.520000   2375.000000  \n",
       "75%        4.040000   5356.000000  \n",
       "max       31.800000  18818.000000  "
      ]
     },
     "execution_count": 9,
     "metadata": {},
     "output_type": "execute_result"
    }
   ],
   "source": [
    "# Descriptive statistics of all the 7 numerical variables\n",
    "gem.describe()"
   ]
  },
  {
   "cell_type": "markdown",
   "id": "fcc39f33",
   "metadata": {},
   "source": [
    "#####  From the descriptive statistics, its clearly visible that mean for most of the variables differ from the median i.e. skewed data  and 50% of the gems price fall below 2375 INR  "
   ]
  },
  {
   "cell_type": "code",
   "execution_count": 10,
   "id": "796ce426",
   "metadata": {
    "scrolled": true
   },
   "outputs": [
    {
     "data": {
      "text/html": [
       "<div>\n",
       "<style scoped>\n",
       "    .dataframe tbody tr th:only-of-type {\n",
       "        vertical-align: middle;\n",
       "    }\n",
       "\n",
       "    .dataframe tbody tr th {\n",
       "        vertical-align: top;\n",
       "    }\n",
       "\n",
       "    .dataframe thead th {\n",
       "        text-align: right;\n",
       "    }\n",
       "</style>\n",
       "<table border=\"1\" class=\"dataframe\">\n",
       "  <thead>\n",
       "    <tr style=\"text-align: right;\">\n",
       "      <th></th>\n",
       "      <th>cut</th>\n",
       "      <th>color</th>\n",
       "      <th>clarity</th>\n",
       "    </tr>\n",
       "  </thead>\n",
       "  <tbody>\n",
       "    <tr>\n",
       "      <th>count</th>\n",
       "      <td>26933</td>\n",
       "      <td>26933</td>\n",
       "      <td>26933</td>\n",
       "    </tr>\n",
       "    <tr>\n",
       "      <th>unique</th>\n",
       "      <td>5</td>\n",
       "      <td>7</td>\n",
       "      <td>8</td>\n",
       "    </tr>\n",
       "    <tr>\n",
       "      <th>top</th>\n",
       "      <td>Ideal</td>\n",
       "      <td>G</td>\n",
       "      <td>SI1</td>\n",
       "    </tr>\n",
       "    <tr>\n",
       "      <th>freq</th>\n",
       "      <td>10805</td>\n",
       "      <td>5653</td>\n",
       "      <td>6565</td>\n",
       "    </tr>\n",
       "  </tbody>\n",
       "</table>\n",
       "</div>"
      ],
      "text/plain": [
       "          cut  color clarity\n",
       "count   26933  26933   26933\n",
       "unique      5      7       8\n",
       "top     Ideal      G     SI1\n",
       "freq    10805   5653    6565"
      ]
     },
     "execution_count": 10,
     "metadata": {},
     "output_type": "execute_result"
    }
   ],
   "source": [
    "# Descriptive statistics of all the 3 categorical variables\n",
    "gem.describe(include=object)"
   ]
  },
  {
   "cell_type": "code",
   "execution_count": null,
   "id": "5a88431e",
   "metadata": {},
   "outputs": [],
   "source": []
  },
  {
   "cell_type": "markdown",
   "id": "4cc8a3cf",
   "metadata": {},
   "source": [
    "# Univariate analysis"
   ]
  },
  {
   "cell_type": "markdown",
   "id": "36ccc1ae",
   "metadata": {},
   "source": [
    "#### <I> NUMERICAL VARIABLES"
   ]
  },
  {
   "cell_type": "code",
   "execution_count": 11,
   "id": "4fe8b206",
   "metadata": {},
   "outputs": [
    {
     "data": {
      "text/plain": [
       "Text(0.5, 1.0, 'Box Plot of price Distribution')"
      ]
     },
     "execution_count": 11,
     "metadata": {},
     "output_type": "execute_result"
    },
    {
     "data": {
      "image/png": "[encoded data removed]",
      "text/plain": [
       "<Figure size 1080x2520 with 14 Axes>"
      ]
     },
     "metadata": {
      "needs_background": "light"
     },
     "output_type": "display_data"
    }
   ],
   "source": [
    "fig,axes=plt.subplots(nrows=7,ncols=2)\n",
    "fig.set_size_inches(15,35)\n",
    "\n",
    "# Carat\n",
    "\n",
    "carat=sns.distplot(gem['carat'], ax=axes[0][0], kde_kws={\"color\": \"r\"})\n",
    "carat.set_title('Histogram of Carat Distribution')\n",
    "carat=sns.boxplot(gem['carat'], ax=axes[0][1])\n",
    "carat.set_title('Box Plot of Carat Distribution')\n",
    "\n",
    "# depth\n",
    "\n",
    "depth=sns.distplot(gem['depth'], ax=axes[1][0], kde_kws={\"color\": \"r\"})\n",
    "depth.set_title('Histogram of depth Distribution')\n",
    "depth=sns.boxplot(gem['depth'], ax=axes[1][1])\n",
    "depth.set_title('Box Plot of depth Distribution')\n",
    "\n",
    "# table\n",
    "\n",
    "table=sns.distplot(gem['table'], ax=axes[2][0], kde_kws={\"color\": \"r\"})\n",
    "table.set_title('Histogram of table Distribution')\n",
    "table=sns.boxplot(gem['table'], ax=axes[2][1])\n",
    "table.set_title('Box Plot of table Distribution')\n",
    "\n",
    "# x\n",
    "\n",
    "x=sns.distplot(gem['x'], ax=axes[3][0], kde_kws={\"color\": \"r\"})\n",
    "x.set_title('Histogram of x Distribution')\n",
    "x=sns.boxplot(gem['x'], ax=axes[3][1])\n",
    "x.set_title('Box Plot of x Distribution')\n",
    "\n",
    "# y\n",
    "\n",
    "y=sns.distplot(gem['y'], ax=axes[4][0], kde_kws={\"color\": \"r\"})\n",
    "y.set_title('Histogram of y Distribution')\n",
    "y=sns.boxplot(gem['y'], ax=axes[4][1])\n",
    "y.set_title('Box Plot of y Distribution')\n",
    "\n",
    "# z\n",
    "\n",
    "z=sns.distplot(gem['z'], ax=axes[5][0], kde_kws={\"color\": \"r\"})\n",
    "z.set_title('Histogram of z Distribution')\n",
    "z=sns.boxplot(gem['z'], ax=axes[5][1])\n",
    "z.set_title('Box Plot of z Distribution')\n",
    "\n",
    "# price\n",
    "\n",
    "price=sns.distplot(gem['price'], ax=axes[6][0], kde_kws={\"color\": \"r\"})\n",
    "price.set_title('Histogram of price Distribution')\n",
    "price=sns.boxplot(gem['price'], ax=axes[6][1])\n",
    "price.set_title('Box Plot of price Distribution')"
   ]
  },
  {
   "cell_type": "markdown",
   "id": "d00fefcf",
   "metadata": {},
   "source": [
    "#### INSIGHTS :\n",
    "* <b><i>Under our analysis among all the variables, variable 'depth' has got the normally distributed curve, other variables    have got the skewed distribution  \n",
    "* <b><i>Outliers are seen in almost all the variables since they might be influential they are retained for now.After seeing the performance of the model they will be dealt upon later.   "
   ]
  },
  {
   "cell_type": "markdown",
   "id": "eafb5728",
   "metadata": {},
   "source": [
    "### <I> CATEGORICAL VARIABLES"
   ]
  },
  {
   "cell_type": "markdown",
   "id": "3b3c846c",
   "metadata": {},
   "source": [
    "#### Variable - \"Cut\""
   ]
  },
  {
   "cell_type": "code",
   "execution_count": 12,
   "id": "dd9e427f",
   "metadata": {},
   "outputs": [
    {
     "data": {
      "text/html": [
       "<div>\n",
       "<style scoped>\n",
       "    .dataframe tbody tr th:only-of-type {\n",
       "        vertical-align: middle;\n",
       "    }\n",
       "\n",
       "    .dataframe tbody tr th {\n",
       "        vertical-align: top;\n",
       "    }\n",
       "\n",
       "    .dataframe thead th {\n",
       "        text-align: right;\n",
       "    }\n",
       "</style>\n",
       "<table border=\"1\" class=\"dataframe\">\n",
       "  <thead>\n",
       "    <tr style=\"text-align: right;\">\n",
       "      <th>col_0</th>\n",
       "      <th>Frequency</th>\n",
       "    </tr>\n",
       "    <tr>\n",
       "      <th>cut</th>\n",
       "      <th></th>\n",
       "    </tr>\n",
       "  </thead>\n",
       "  <tbody>\n",
       "    <tr>\n",
       "      <th>Fair</th>\n",
       "      <td>780</td>\n",
       "    </tr>\n",
       "    <tr>\n",
       "      <th>Good</th>\n",
       "      <td>2435</td>\n",
       "    </tr>\n",
       "    <tr>\n",
       "      <th>Ideal</th>\n",
       "      <td>10805</td>\n",
       "    </tr>\n",
       "    <tr>\n",
       "      <th>Premium</th>\n",
       "      <td>6886</td>\n",
       "    </tr>\n",
       "    <tr>\n",
       "      <th>Very Good</th>\n",
       "      <td>6027</td>\n",
       "    </tr>\n",
       "  </tbody>\n",
       "</table>\n",
       "</div>"
      ],
      "text/plain": [
       "col_0      Frequency\n",
       "cut                 \n",
       "Fair             780\n",
       "Good            2435\n",
       "Ideal          10805\n",
       "Premium         6886\n",
       "Very Good       6027"
      ]
     },
     "execution_count": 12,
     "metadata": {},
     "output_type": "execute_result"
    }
   ],
   "source": [
    "#Frequency plots to see the counts\n",
    "cut_table=pd.crosstab(gem.cut,columns=\"Frequency\")\n",
    "cut_table"
   ]
  },
  {
   "cell_type": "code",
   "execution_count": 13,
   "id": "c2ee22f7",
   "metadata": {},
   "outputs": [
    {
     "data": {
      "text/html": [
       "<div>\n",
       "<style scoped>\n",
       "    .dataframe tbody tr th:only-of-type {\n",
       "        vertical-align: middle;\n",
       "    }\n",
       "\n",
       "    .dataframe tbody tr th {\n",
       "        vertical-align: top;\n",
       "    }\n",
       "\n",
       "    .dataframe thead th {\n",
       "        text-align: right;\n",
       "    }\n",
       "</style>\n",
       "<table border=\"1\" class=\"dataframe\">\n",
       "  <thead>\n",
       "    <tr style=\"text-align: right;\">\n",
       "      <th>col_0</th>\n",
       "      <th>Frequency</th>\n",
       "    </tr>\n",
       "    <tr>\n",
       "      <th>cut</th>\n",
       "      <th></th>\n",
       "    </tr>\n",
       "  </thead>\n",
       "  <tbody>\n",
       "    <tr>\n",
       "      <th>Fair</th>\n",
       "      <td>2.896075</td>\n",
       "    </tr>\n",
       "    <tr>\n",
       "      <th>Good</th>\n",
       "      <td>9.040953</td>\n",
       "    </tr>\n",
       "    <tr>\n",
       "      <th>Ideal</th>\n",
       "      <td>40.118071</td>\n",
       "    </tr>\n",
       "    <tr>\n",
       "      <th>Premium</th>\n",
       "      <td>25.567148</td>\n",
       "    </tr>\n",
       "    <tr>\n",
       "      <th>Very Good</th>\n",
       "      <td>22.377752</td>\n",
       "    </tr>\n",
       "  </tbody>\n",
       "</table>\n",
       "</div>"
      ],
      "text/plain": [
       "col_0      Frequency\n",
       "cut                 \n",
       "Fair        2.896075\n",
       "Good        9.040953\n",
       "Ideal      40.118071\n",
       "Premium    25.567148\n",
       "Very Good  22.377752"
      ]
     },
     "execution_count": 13,
     "metadata": {},
     "output_type": "execute_result"
    }
   ],
   "source": [
    "#In percentage total\n",
    "cut_coltotal=cut_table.sum(axis=0)\n",
    "cut_table.div(cut_coltotal,axis=1)*100"
   ]
  },
  {
   "cell_type": "code",
   "execution_count": 14,
   "id": "f6793fd0",
   "metadata": {},
   "outputs": [
    {
     "data": {
      "text/plain": [
       "<AxesSubplot:xlabel='cut', ylabel='count'>"
      ]
     },
     "execution_count": 14,
     "metadata": {},
     "output_type": "execute_result"
    },
    {
     "data": {
      "image/png": "[encoded data removed]",
      "text/plain": [
       "<Figure size 432x288 with 1 Axes>"
      ]
     },
     "metadata": {
      "needs_background": "light"
     },
     "output_type": "display_data"
    }
   ],
   "source": [
    "sns.countplot(gem['cut'],order=gem['cut'].value_counts().index)"
   ]
  },
  {
   "cell_type": "markdown",
   "id": "19fed26b",
   "metadata": {},
   "source": [
    "#### Variable - \"Color\""
   ]
  },
  {
   "cell_type": "code",
   "execution_count": 15,
   "id": "fe164354",
   "metadata": {},
   "outputs": [
    {
     "data": {
      "text/html": [
       "<div>\n",
       "<style scoped>\n",
       "    .dataframe tbody tr th:only-of-type {\n",
       "        vertical-align: middle;\n",
       "    }\n",
       "\n",
       "    .dataframe tbody tr th {\n",
       "        vertical-align: top;\n",
       "    }\n",
       "\n",
       "    .dataframe thead th {\n",
       "        text-align: right;\n",
       "    }\n",
       "</style>\n",
       "<table border=\"1\" class=\"dataframe\">\n",
       "  <thead>\n",
       "    <tr style=\"text-align: right;\">\n",
       "      <th>col_0</th>\n",
       "      <th>Frequency</th>\n",
       "    </tr>\n",
       "    <tr>\n",
       "      <th>color</th>\n",
       "      <th></th>\n",
       "    </tr>\n",
       "  </thead>\n",
       "  <tbody>\n",
       "    <tr>\n",
       "      <th>D</th>\n",
       "      <td>3341</td>\n",
       "    </tr>\n",
       "    <tr>\n",
       "      <th>E</th>\n",
       "      <td>4916</td>\n",
       "    </tr>\n",
       "    <tr>\n",
       "      <th>F</th>\n",
       "      <td>4723</td>\n",
       "    </tr>\n",
       "    <tr>\n",
       "      <th>G</th>\n",
       "      <td>5653</td>\n",
       "    </tr>\n",
       "    <tr>\n",
       "      <th>H</th>\n",
       "      <td>4095</td>\n",
       "    </tr>\n",
       "    <tr>\n",
       "      <th>I</th>\n",
       "      <td>2765</td>\n",
       "    </tr>\n",
       "    <tr>\n",
       "      <th>J</th>\n",
       "      <td>1440</td>\n",
       "    </tr>\n",
       "  </tbody>\n",
       "</table>\n",
       "</div>"
      ],
      "text/plain": [
       "col_0  Frequency\n",
       "color           \n",
       "D           3341\n",
       "E           4916\n",
       "F           4723\n",
       "G           5653\n",
       "H           4095\n",
       "I           2765\n",
       "J           1440"
      ]
     },
     "execution_count": 15,
     "metadata": {},
     "output_type": "execute_result"
    }
   ],
   "source": [
    "color_table=pd.crosstab(gem.color,columns=\"Frequency\")\n",
    "color_table"
   ]
  },
  {
   "cell_type": "code",
   "execution_count": 16,
   "id": "3a723ab4",
   "metadata": {},
   "outputs": [
    {
     "data": {
      "text/html": [
       "<div>\n",
       "<style scoped>\n",
       "    .dataframe tbody tr th:only-of-type {\n",
       "        vertical-align: middle;\n",
       "    }\n",
       "\n",
       "    .dataframe tbody tr th {\n",
       "        vertical-align: top;\n",
       "    }\n",
       "\n",
       "    .dataframe thead th {\n",
       "        text-align: right;\n",
       "    }\n",
       "</style>\n",
       "<table border=\"1\" class=\"dataframe\">\n",
       "  <thead>\n",
       "    <tr style=\"text-align: right;\">\n",
       "      <th>col_0</th>\n",
       "      <th>Frequency</th>\n",
       "    </tr>\n",
       "    <tr>\n",
       "      <th>color</th>\n",
       "      <th></th>\n",
       "    </tr>\n",
       "  </thead>\n",
       "  <tbody>\n",
       "    <tr>\n",
       "      <th>D</th>\n",
       "      <td>12.404856</td>\n",
       "    </tr>\n",
       "    <tr>\n",
       "      <th>E</th>\n",
       "      <td>18.252701</td>\n",
       "    </tr>\n",
       "    <tr>\n",
       "      <th>F</th>\n",
       "      <td>17.536108</td>\n",
       "    </tr>\n",
       "    <tr>\n",
       "      <th>G</th>\n",
       "      <td>20.989121</td>\n",
       "    </tr>\n",
       "    <tr>\n",
       "      <th>H</th>\n",
       "      <td>15.204396</td>\n",
       "    </tr>\n",
       "    <tr>\n",
       "      <th>I</th>\n",
       "      <td>10.266216</td>\n",
       "    </tr>\n",
       "    <tr>\n",
       "      <th>J</th>\n",
       "      <td>5.346601</td>\n",
       "    </tr>\n",
       "  </tbody>\n",
       "</table>\n",
       "</div>"
      ],
      "text/plain": [
       "col_0  Frequency\n",
       "color           \n",
       "D      12.404856\n",
       "E      18.252701\n",
       "F      17.536108\n",
       "G      20.989121\n",
       "H      15.204396\n",
       "I      10.266216\n",
       "J       5.346601"
      ]
     },
     "execution_count": 16,
     "metadata": {},
     "output_type": "execute_result"
    }
   ],
   "source": [
    "color_coltotal=color_table.sum(axis=0)\n",
    "color_table.div(color_coltotal,axis=1)*100"
   ]
  },
  {
   "cell_type": "code",
   "execution_count": 17,
   "id": "815ea126",
   "metadata": {
    "scrolled": true
   },
   "outputs": [
    {
     "data": {
      "text/plain": [
       "<AxesSubplot:xlabel='color', ylabel='count'>"
      ]
     },
     "execution_count": 17,
     "metadata": {},
     "output_type": "execute_result"
    },
    {
     "data": {
      "image/png": "[encoded data removed]",
      "text/plain": [
       "<Figure size 432x288 with 1 Axes>"
      ]
     },
     "metadata": {
      "needs_background": "light"
     },
     "output_type": "display_data"
    }
   ],
   "source": [
    "sns.countplot(gem['color'],order=gem['color'].value_counts().index)"
   ]
  },
  {
   "cell_type": "markdown",
   "id": "bea82ba5",
   "metadata": {},
   "source": [
    "#### Variable - \"Clarity\""
   ]
  },
  {
   "cell_type": "code",
   "execution_count": 18,
   "id": "c147fd7d",
   "metadata": {},
   "outputs": [
    {
     "data": {
      "text/html": [
       "<div>\n",
       "<style scoped>\n",
       "    .dataframe tbody tr th:only-of-type {\n",
       "        vertical-align: middle;\n",
       "    }\n",
       "\n",
       "    .dataframe tbody tr th {\n",
       "        vertical-align: top;\n",
       "    }\n",
       "\n",
       "    .dataframe thead th {\n",
       "        text-align: right;\n",
       "    }\n",
       "</style>\n",
       "<table border=\"1\" class=\"dataframe\">\n",
       "  <thead>\n",
       "    <tr style=\"text-align: right;\">\n",
       "      <th>col_0</th>\n",
       "      <th>Frequency</th>\n",
       "    </tr>\n",
       "    <tr>\n",
       "      <th>clarity</th>\n",
       "      <th></th>\n",
       "    </tr>\n",
       "  </thead>\n",
       "  <tbody>\n",
       "    <tr>\n",
       "      <th>I1</th>\n",
       "      <td>364</td>\n",
       "    </tr>\n",
       "    <tr>\n",
       "      <th>IF</th>\n",
       "      <td>891</td>\n",
       "    </tr>\n",
       "    <tr>\n",
       "      <th>SI1</th>\n",
       "      <td>6565</td>\n",
       "    </tr>\n",
       "    <tr>\n",
       "      <th>SI2</th>\n",
       "      <td>4564</td>\n",
       "    </tr>\n",
       "    <tr>\n",
       "      <th>VS1</th>\n",
       "      <td>4087</td>\n",
       "    </tr>\n",
       "    <tr>\n",
       "      <th>VS2</th>\n",
       "      <td>6093</td>\n",
       "    </tr>\n",
       "    <tr>\n",
       "      <th>VVS1</th>\n",
       "      <td>1839</td>\n",
       "    </tr>\n",
       "    <tr>\n",
       "      <th>VVS2</th>\n",
       "      <td>2530</td>\n",
       "    </tr>\n",
       "  </tbody>\n",
       "</table>\n",
       "</div>"
      ],
      "text/plain": [
       "col_0    Frequency\n",
       "clarity           \n",
       "I1             364\n",
       "IF             891\n",
       "SI1           6565\n",
       "SI2           4564\n",
       "VS1           4087\n",
       "VS2           6093\n",
       "VVS1          1839\n",
       "VVS2          2530"
      ]
     },
     "execution_count": 18,
     "metadata": {},
     "output_type": "execute_result"
    }
   ],
   "source": [
    "clarity_table=pd.crosstab(gem.clarity,columns=\"Frequency\")\n",
    "clarity_table"
   ]
  },
  {
   "cell_type": "code",
   "execution_count": 19,
   "id": "a3bbf6f9",
   "metadata": {},
   "outputs": [
    {
     "data": {
      "text/html": [
       "<div>\n",
       "<style scoped>\n",
       "    .dataframe tbody tr th:only-of-type {\n",
       "        vertical-align: middle;\n",
       "    }\n",
       "\n",
       "    .dataframe tbody tr th {\n",
       "        vertical-align: top;\n",
       "    }\n",
       "\n",
       "    .dataframe thead th {\n",
       "        text-align: right;\n",
       "    }\n",
       "</style>\n",
       "<table border=\"1\" class=\"dataframe\">\n",
       "  <thead>\n",
       "    <tr style=\"text-align: right;\">\n",
       "      <th>col_0</th>\n",
       "      <th>Frequency</th>\n",
       "    </tr>\n",
       "    <tr>\n",
       "      <th>clarity</th>\n",
       "      <th></th>\n",
       "    </tr>\n",
       "  </thead>\n",
       "  <tbody>\n",
       "    <tr>\n",
       "      <th>I1</th>\n",
       "      <td>1.351502</td>\n",
       "    </tr>\n",
       "    <tr>\n",
       "      <th>IF</th>\n",
       "      <td>3.308209</td>\n",
       "    </tr>\n",
       "    <tr>\n",
       "      <th>SI1</th>\n",
       "      <td>24.375302</td>\n",
       "    </tr>\n",
       "    <tr>\n",
       "      <th>SI2</th>\n",
       "      <td>16.945754</td>\n",
       "    </tr>\n",
       "    <tr>\n",
       "      <th>VS1</th>\n",
       "      <td>15.174693</td>\n",
       "    </tr>\n",
       "    <tr>\n",
       "      <th>VS2</th>\n",
       "      <td>22.622805</td>\n",
       "    </tr>\n",
       "    <tr>\n",
       "      <th>VVS1</th>\n",
       "      <td>6.828055</td>\n",
       "    </tr>\n",
       "    <tr>\n",
       "      <th>VVS2</th>\n",
       "      <td>9.393681</td>\n",
       "    </tr>\n",
       "  </tbody>\n",
       "</table>\n",
       "</div>"
      ],
      "text/plain": [
       "col_0    Frequency\n",
       "clarity           \n",
       "I1        1.351502\n",
       "IF        3.308209\n",
       "SI1      24.375302\n",
       "SI2      16.945754\n",
       "VS1      15.174693\n",
       "VS2      22.622805\n",
       "VVS1      6.828055\n",
       "VVS2      9.393681"
      ]
     },
     "execution_count": 19,
     "metadata": {},
     "output_type": "execute_result"
    }
   ],
   "source": [
    "clarity_coltotal=clarity_table.sum(axis=0)\n",
    "clarity_table.div(clarity_coltotal,axis=1)*100"
   ]
  },
  {
   "cell_type": "code",
   "execution_count": 20,
   "id": "ade9eab7",
   "metadata": {},
   "outputs": [
    {
     "data": {
      "text/plain": [
       "<AxesSubplot:xlabel='clarity', ylabel='count'>"
      ]
     },
     "execution_count": 20,
     "metadata": {},
     "output_type": "execute_result"
    },
    {
     "data": {
      "image/png": "[encoded data removed]",
      "text/plain": [
       "<Figure size 432x288 with 1 Axes>"
      ]
     },
     "metadata": {
      "needs_background": "light"
     },
     "output_type": "display_data"
    }
   ],
   "source": [
    "sns.countplot(gem['clarity'],order = gem['clarity'].value_counts().index)"
   ]
  },
  {
   "cell_type": "markdown",
   "id": "89859747",
   "metadata": {},
   "source": [
    "#### INSIGHTS:\n",
    "* <b><i> Under our analysis, nearly 25 % of the gems have SI1 clarity whereas only 1 % of the gems have I1 clarity\n",
    "* <b><i> Under our analysis, 40% of the gems have ideal cuts whereas only 3 % of the gems have fair cuts \n",
    "* <b><i> Under our analysis, around 21 % of the gems have color 'G' whereas around 5 % of the gems have color 'J'"
   ]
  },
  {
   "cell_type": "code",
   "execution_count": null,
   "id": "3021bf94",
   "metadata": {},
   "outputs": [],
   "source": []
  },
  {
   "cell_type": "markdown",
   "id": "cf34a687",
   "metadata": {},
   "source": [
    "# Bivariate analysis"
   ]
  },
  {
   "cell_type": "markdown",
   "id": "d1abc7bf",
   "metadata": {},
   "source": [
    "#### <I> NUMERICAL VARIABLES"
   ]
  },
  {
   "cell_type": "code",
   "execution_count": 21,
   "id": "8fe0e43c",
   "metadata": {},
   "outputs": [
    {
     "data": {
      "text/plain": [
       "<seaborn.axisgrid.PairGrid at 0x2198730a4f0>"
      ]
     },
     "execution_count": 21,
     "metadata": {},
     "output_type": "execute_result"
    },
    {
     "data": {
      "image/png": "[encoded data removed]",
      "text/plain": [
       "<Figure size 1260x1260 with 56 Axes>"
      ]
     },
     "metadata": {
      "needs_background": "light"
     },
     "output_type": "display_data"
    }
   ],
   "source": [
    "# Pairplot to see the linear relationship between variables\n",
    "sns.pairplot(gem,diag_kind='kde')"
   ]
  },
  {
   "cell_type": "markdown",
   "id": "04025e7b",
   "metadata": {},
   "source": [
    "* <b><i>Under our analysis, from the pairplot it can be clearly seen that the price of gems lineraly increasing with the increase in carat weight  \n",
    "* <b><i>Also the dimensions of gems (x-length,y-breadth,z-height) have also got the linear relationship on the price. As the size of the gem varies, the price is also getting affected "
   ]
  },
  {
   "cell_type": "code",
   "execution_count": 22,
   "id": "2a1b24f0",
   "metadata": {},
   "outputs": [
    {
     "data": {
      "text/html": [
       "<div>\n",
       "<style scoped>\n",
       "    .dataframe tbody tr th:only-of-type {\n",
       "        vertical-align: middle;\n",
       "    }\n",
       "\n",
       "    .dataframe tbody tr th {\n",
       "        vertical-align: top;\n",
       "    }\n",
       "\n",
       "    .dataframe thead th {\n",
       "        text-align: right;\n",
       "    }\n",
       "</style>\n",
       "<table border=\"1\" class=\"dataframe\">\n",
       "  <thead>\n",
       "    <tr style=\"text-align: right;\">\n",
       "      <th></th>\n",
       "      <th>carat</th>\n",
       "      <th>depth</th>\n",
       "      <th>table</th>\n",
       "      <th>x</th>\n",
       "      <th>y</th>\n",
       "      <th>z</th>\n",
       "      <th>price</th>\n",
       "    </tr>\n",
       "  </thead>\n",
       "  <tbody>\n",
       "    <tr>\n",
       "      <th>carat</th>\n",
       "      <td>1.000000</td>\n",
       "      <td>0.035240</td>\n",
       "      <td>0.181539</td>\n",
       "      <td>0.976858</td>\n",
       "      <td>0.941442</td>\n",
       "      <td>0.940982</td>\n",
       "      <td>0.922409</td>\n",
       "    </tr>\n",
       "    <tr>\n",
       "      <th>depth</th>\n",
       "      <td>0.035240</td>\n",
       "      <td>1.000000</td>\n",
       "      <td>-0.297768</td>\n",
       "      <td>-0.018401</td>\n",
       "      <td>-0.024453</td>\n",
       "      <td>0.101973</td>\n",
       "      <td>-0.002895</td>\n",
       "    </tr>\n",
       "    <tr>\n",
       "      <th>table</th>\n",
       "      <td>0.181539</td>\n",
       "      <td>-0.297768</td>\n",
       "      <td>1.000000</td>\n",
       "      <td>0.196254</td>\n",
       "      <td>0.182352</td>\n",
       "      <td>0.148994</td>\n",
       "      <td>0.126844</td>\n",
       "    </tr>\n",
       "    <tr>\n",
       "      <th>x</th>\n",
       "      <td>0.976858</td>\n",
       "      <td>-0.018401</td>\n",
       "      <td>0.196254</td>\n",
       "      <td>1.000000</td>\n",
       "      <td>0.962601</td>\n",
       "      <td>0.956490</td>\n",
       "      <td>0.886554</td>\n",
       "    </tr>\n",
       "    <tr>\n",
       "      <th>y</th>\n",
       "      <td>0.941442</td>\n",
       "      <td>-0.024453</td>\n",
       "      <td>0.182352</td>\n",
       "      <td>0.962601</td>\n",
       "      <td>1.000000</td>\n",
       "      <td>0.928725</td>\n",
       "      <td>0.856441</td>\n",
       "    </tr>\n",
       "    <tr>\n",
       "      <th>z</th>\n",
       "      <td>0.940982</td>\n",
       "      <td>0.101973</td>\n",
       "      <td>0.148994</td>\n",
       "      <td>0.956490</td>\n",
       "      <td>0.928725</td>\n",
       "      <td>1.000000</td>\n",
       "      <td>0.850682</td>\n",
       "    </tr>\n",
       "    <tr>\n",
       "      <th>price</th>\n",
       "      <td>0.922409</td>\n",
       "      <td>-0.002895</td>\n",
       "      <td>0.126844</td>\n",
       "      <td>0.886554</td>\n",
       "      <td>0.856441</td>\n",
       "      <td>0.850682</td>\n",
       "      <td>1.000000</td>\n",
       "    </tr>\n",
       "  </tbody>\n",
       "</table>\n",
       "</div>"
      ],
      "text/plain": [
       "          carat     depth     table         x         y         z     price\n",
       "carat  1.000000  0.035240  0.181539  0.976858  0.941442  0.940982  0.922409\n",
       "depth  0.035240  1.000000 -0.297768 -0.018401 -0.024453  0.101973 -0.002895\n",
       "table  0.181539 -0.297768  1.000000  0.196254  0.182352  0.148994  0.126844\n",
       "x      0.976858 -0.018401  0.196254  1.000000  0.962601  0.956490  0.886554\n",
       "y      0.941442 -0.024453  0.182352  0.962601  1.000000  0.928725  0.856441\n",
       "z      0.940982  0.101973  0.148994  0.956490  0.928725  1.000000  0.850682\n",
       "price  0.922409 -0.002895  0.126844  0.886554  0.856441  0.850682  1.000000"
      ]
     },
     "execution_count": 22,
     "metadata": {},
     "output_type": "execute_result"
    }
   ],
   "source": [
    "# Correlation between the numerical variables\n",
    "gem.corr()"
   ]
  },
  {
   "cell_type": "code",
   "execution_count": 23,
   "id": "30eaf199",
   "metadata": {},
   "outputs": [
    {
     "data": {
      "text/plain": [
       "carat    0.922409\n",
       "depth   -0.002895\n",
       "table    0.126844\n",
       "x        0.886554\n",
       "y        0.856441\n",
       "z        0.850682\n",
       "price    1.000000\n",
       "Name: price, dtype: float64"
      ]
     },
     "execution_count": 23,
     "metadata": {},
     "output_type": "execute_result"
    }
   ],
   "source": [
    "#Check Correlation with Price\n",
    "gem.corr().price"
   ]
  },
  {
   "cell_type": "markdown",
   "id": "3b36b606",
   "metadata": {},
   "source": [
    "#### INSIGHTS:\n",
    "* <b><I> Variable carat has got the highest positive correlation with x, y, z and price\n",
    "* <b><I> Variable price has got the second highest positive correlation with carat, x, y and z\n",
    "* <b><I> Variables depth and table have got the least positive correlation / negative correlation with other variables\n",
    "* <b><I> Especially, variable depth is negatively correlated with almost all the variables "
   ]
  },
  {
   "cell_type": "markdown",
   "id": "795c2d8e",
   "metadata": {},
   "source": [
    "### <I> CATEGORICAL VARIABLES"
   ]
  },
  {
   "cell_type": "code",
   "execution_count": 24,
   "id": "9d939ee1",
   "metadata": {},
   "outputs": [
    {
     "data": {
      "text/plain": [
       "Index(['carat', 'cut', 'color', 'clarity', 'depth', 'table', 'x', 'y', 'z',\n",
       "       'price'],\n",
       "      dtype='object')"
      ]
     },
     "execution_count": 24,
     "metadata": {},
     "output_type": "execute_result"
    }
   ],
   "source": [
    "gem.columns"
   ]
  },
  {
   "cell_type": "code",
   "execution_count": 25,
   "id": "dc2b6d38",
   "metadata": {},
   "outputs": [
    {
     "data": {
      "image/png": "[encoded data removed]",
      "text/plain": [
       "<Figure size 1080x288 with 1 Axes>"
      ]
     },
     "metadata": {
      "needs_background": "light"
     },
     "output_type": "display_data"
    },
    {
     "data": {
      "image/png": "[encoded data removed]",
      "text/plain": [
       "<Figure size 1080x288 with 1 Axes>"
      ]
     },
     "metadata": {
      "needs_background": "light"
     },
     "output_type": "display_data"
    },
    {
     "data": {
      "image/png": "[encoded data removed]",
      "text/plain": [
       "<Figure size 1080x288 with 1 Axes>"
      ]
     },
     "metadata": {
      "needs_background": "light"
     },
     "output_type": "display_data"
    }
   ],
   "source": [
    "\n",
    "# Groupby aggregate using barplot \n",
    "\n",
    "cat_disc = ['color', 'cut', 'clarity']\n",
    "\n",
    "for i in cat_disc:    \n",
    "    gem.groupby([i])['price'].mean().plot(kind='bar',figsize=(15,4),color=\"blue\",fontsize=10,edgecolor=\"black\")\n",
    "    plt.xlabel(i,fontsize=12)\n",
    "    plt.ylabel('Avg price',fontsize=12)\n",
    "    plt.title('Avg Price'+ 'vs'+i ,fontsize=14)\n",
    "    plt.show()"
   ]
  },
  {
   "cell_type": "markdown",
   "id": "ac9de8dc",
   "metadata": {},
   "source": [
    "#### INSIGHTS:\n",
    "* <b><I> Color of the stone shows correlation with price(\"D\" least priced to \"J\" high priced)  \n",
    "* <b><I> The price doesnot differ much with respect to every individual cuts.  \n",
    "* <b><I> Average Price of S12 clarity is higher compared to other clarity stones.  \n"
   ]
  },
  {
   "cell_type": "markdown",
   "id": "951961ba",
   "metadata": {},
   "source": [
    "## 3.DATA PRE-PROCESSING"
   ]
  },
  {
   "cell_type": "markdown",
   "id": "a57ce6ea",
   "metadata": {},
   "source": [
    "#### <I> NULL VALUE IMPUTATION"
   ]
  },
  {
   "cell_type": "code",
   "execution_count": 26,
   "id": "c842817d",
   "metadata": {},
   "outputs": [
    {
     "data": {
      "text/plain": [
       "carat        0\n",
       "cut          0\n",
       "color        0\n",
       "clarity      0\n",
       "depth      697\n",
       "table        0\n",
       "x            0\n",
       "y            0\n",
       "z            0\n",
       "price        0\n",
       "dtype: int64"
      ]
     },
     "execution_count": 26,
     "metadata": {},
     "output_type": "execute_result"
    }
   ],
   "source": [
    "#Rectifying the null values for input the data in model for training\n",
    "gem.isnull().sum()"
   ]
  },
  {
   "cell_type": "markdown",
   "id": "78be00cd",
   "metadata": {},
   "source": [
    "* <b> Here the variable 'depth' has got 697  (around 2.5 % of the data- its meaningless to drop) null values which needs to be imputed with the mean since the variable is normally distributed "
   ]
  },
  {
   "cell_type": "code",
   "execution_count": 27,
   "id": "80223af6",
   "metadata": {},
   "outputs": [],
   "source": [
    "# Assigning mean values to all the nulls of variable depth(continuous)\n",
    "depth_mean=gem['depth'].mean()\n",
    "gem['depth']=gem['depth'].fillna(value=depth_mean)"
   ]
  },
  {
   "cell_type": "code",
   "execution_count": 28,
   "id": "3e599cb4",
   "metadata": {},
   "outputs": [],
   "source": [
    "#KNN imputer can also be used but due to time complexity we go with mean imputation which is appropriate in this case\n",
    "#imputer = KNNImputer(n_neighbors = 10)\n",
    "#imputer.fit_transform(df)"
   ]
  },
  {
   "cell_type": "code",
   "execution_count": 29,
   "id": "0c25cbdf",
   "metadata": {},
   "outputs": [
    {
     "data": {
      "text/plain": [
       "carat      0\n",
       "cut        0\n",
       "color      0\n",
       "clarity    0\n",
       "depth      0\n",
       "table      0\n",
       "x          0\n",
       "y          0\n",
       "z          0\n",
       "price      0\n",
       "dtype: int64"
      ]
     },
     "execution_count": 29,
     "metadata": {},
     "output_type": "execute_result"
    }
   ],
   "source": [
    "# After imputation, checking for any null values\n",
    "gem.isnull().sum()"
   ]
  },
  {
   "cell_type": "markdown",
   "id": "60a81bb9",
   "metadata": {},
   "source": [
    "#### <I> CHECKING FOR ZERO VALUES IN THE DATASET"
   ]
  },
  {
   "cell_type": "code",
   "execution_count": 30,
   "id": "3f421614",
   "metadata": {},
   "outputs": [
    {
     "name": "stdout",
     "output_type": "stream",
     "text": [
      "\n",
      "Variable:  carat\n",
      "Empty DataFrame\n",
      "Columns: [carat, cut, color, clarity, depth, table, x, y, z, price]\n",
      "Index: []\n",
      "\n",
      "Variable:  cut\n",
      "Empty DataFrame\n",
      "Columns: [carat, cut, color, clarity, depth, table, x, y, z, price]\n",
      "Index: []\n",
      "\n",
      "Variable:  color\n",
      "Empty DataFrame\n",
      "Columns: [carat, cut, color, clarity, depth, table, x, y, z, price]\n",
      "Index: []\n",
      "\n",
      "Variable:  clarity\n",
      "Empty DataFrame\n",
      "Columns: [carat, cut, color, clarity, depth, table, x, y, z, price]\n",
      "Index: []\n",
      "\n",
      "Variable:  depth\n",
      "Empty DataFrame\n",
      "Columns: [carat, cut, color, clarity, depth, table, x, y, z, price]\n",
      "Index: []\n",
      "\n",
      "Variable:  table\n",
      "Empty DataFrame\n",
      "Columns: [carat, cut, color, clarity, depth, table, x, y, z, price]\n",
      "Index: []\n",
      "\n",
      "Variable:  x\n",
      "       carat   cut color clarity  depth  table    x    y    z  price\n",
      "5821    0.71  Good     F     SI2   64.1   60.0  0.0  0.0  0.0   2130\n",
      "17506   1.14  Fair     G     VS1   57.5   67.0  0.0  0.0  0.0   6381\n",
      "\n",
      "Variable:  y\n",
      "       carat   cut color clarity  depth  table    x    y    z  price\n",
      "5821    0.71  Good     F     SI2   64.1   60.0  0.0  0.0  0.0   2130\n",
      "17506   1.14  Fair     G     VS1   57.5   67.0  0.0  0.0  0.0   6381\n",
      "\n",
      "Variable:  z\n",
      "       carat      cut color clarity  depth  table     x     y    z  price\n",
      "5821    0.71     Good     F     SI2   64.1   60.0  0.00  0.00  0.0   2130\n",
      "6034    2.02  Premium     H     VS2   62.7   53.0  8.02  7.95  0.0  18207\n",
      "10827   2.20  Premium     H     SI1   61.2   59.0  8.42  8.37  0.0  17265\n",
      "12498   2.18  Premium     H     SI2   59.4   61.0  8.49  8.45  0.0  12631\n",
      "12689   1.10  Premium     G     SI2   63.0   59.0  6.50  6.47  0.0   3696\n",
      "17506   1.14     Fair     G     VS1   57.5   67.0  0.00  0.00  0.0   6381\n",
      "18194   1.01  Premium     H      I1   58.1   59.0  6.66  6.60  0.0   3167\n",
      "23758   1.12  Premium     G      I1   60.4   59.0  6.71  6.67  0.0   2383\n",
      "\n",
      "Variable:  price\n",
      "Empty DataFrame\n",
      "Columns: [carat, cut, color, clarity, depth, table, x, y, z, price]\n",
      "Index: []\n"
     ]
    }
   ],
   "source": [
    "for variable in gem.columns: \n",
    "    print(\"\\nVariable: \",variable)\n",
    "    print(gem.loc[gem[variable]==0])"
   ]
  },
  {
   "cell_type": "markdown",
   "id": "3db7c8f8",
   "metadata": {},
   "source": [
    "* <b> Variables x, y and z which are dimensions have got few 0 value records. Since zero values are meaningless in dimension of an item they need to be imputed \n",
    "* <b> 0's are imputed with median values since x, y and z data distribution is skewed"
   ]
  },
  {
   "cell_type": "code",
   "execution_count": 31,
   "id": "32220f5b",
   "metadata": {},
   "outputs": [],
   "source": [
    "#Imputing with median\n",
    "gem['x']=gem['x'].replace(0,gem['x'].median())\n",
    "gem['y']=gem['y'].replace(0,gem['y'].median())\n",
    "gem['z']=gem['z'].replace(0,gem['z'].median())"
   ]
  },
  {
   "cell_type": "code",
   "execution_count": 32,
   "id": "448b48e7",
   "metadata": {},
   "outputs": [
    {
     "name": "stdout",
     "output_type": "stream",
     "text": [
      "\n",
      " Variable: price\n",
      "Empty DataFrame\n",
      "Columns: [carat, cut, color, clarity, depth, table, x, y, z, price]\n",
      "Index: []\n",
      "\n",
      " Variable: price\n",
      "Empty DataFrame\n",
      "Columns: [carat, cut, color, clarity, depth, table, x, y, z, price]\n",
      "Index: []\n",
      "\n",
      " Variable: price\n",
      "Empty DataFrame\n",
      "Columns: [carat, cut, color, clarity, depth, table, x, y, z, price]\n",
      "Index: []\n",
      "\n",
      " Variable: price\n",
      "Empty DataFrame\n",
      "Columns: [carat, cut, color, clarity, depth, table, x, y, z, price]\n",
      "Index: []\n",
      "\n",
      " Variable: price\n",
      "Empty DataFrame\n",
      "Columns: [carat, cut, color, clarity, depth, table, x, y, z, price]\n",
      "Index: []\n",
      "\n",
      " Variable: price\n",
      "Empty DataFrame\n",
      "Columns: [carat, cut, color, clarity, depth, table, x, y, z, price]\n",
      "Index: []\n",
      "\n",
      " Variable: price\n",
      "Empty DataFrame\n",
      "Columns: [carat, cut, color, clarity, depth, table, x, y, z, price]\n",
      "Index: []\n",
      "\n",
      " Variable: price\n",
      "Empty DataFrame\n",
      "Columns: [carat, cut, color, clarity, depth, table, x, y, z, price]\n",
      "Index: []\n",
      "\n",
      " Variable: price\n",
      "Empty DataFrame\n",
      "Columns: [carat, cut, color, clarity, depth, table, x, y, z, price]\n",
      "Index: []\n",
      "\n",
      " Variable: price\n",
      "Empty DataFrame\n",
      "Columns: [carat, cut, color, clarity, depth, table, x, y, z, price]\n",
      "Index: []\n"
     ]
    }
   ],
   "source": [
    "# Rechecking for zero values after imputation\n",
    "for varaible in gem.columns:\n",
    "    print(\"\\n Variable:\",variable)\n",
    "    print(gem.loc[gem[variable]==0])"
   ]
  },
  {
   "cell_type": "code",
   "execution_count": 33,
   "id": "bb535458",
   "metadata": {},
   "outputs": [],
   "source": [
    "#Making of a copy of dataset before encoding\n",
    "gem1 = gem.copy()"
   ]
  },
  {
   "cell_type": "markdown",
   "id": "3462ec62",
   "metadata": {},
   "source": [
    "#### <I> ENCODING CATEGORICAL VARIABLES\n",
    "Since Algorithms cannot deal with strings ther are converted to numerics    "
   ]
  },
  {
   "cell_type": "code",
   "execution_count": 34,
   "id": "c09e41a4",
   "metadata": {
    "scrolled": true
   },
   "outputs": [
    {
     "data": {
      "text/html": [
       "<div>\n",
       "<style scoped>\n",
       "    .dataframe tbody tr th:only-of-type {\n",
       "        vertical-align: middle;\n",
       "    }\n",
       "\n",
       "    .dataframe tbody tr th {\n",
       "        vertical-align: top;\n",
       "    }\n",
       "\n",
       "    .dataframe thead th {\n",
       "        text-align: right;\n",
       "    }\n",
       "</style>\n",
       "<table border=\"1\" class=\"dataframe\">\n",
       "  <thead>\n",
       "    <tr style=\"text-align: right;\">\n",
       "      <th></th>\n",
       "      <th>carat</th>\n",
       "      <th>depth</th>\n",
       "      <th>table</th>\n",
       "      <th>x</th>\n",
       "      <th>y</th>\n",
       "      <th>z</th>\n",
       "      <th>price</th>\n",
       "      <th>cut_Good</th>\n",
       "      <th>cut_Ideal</th>\n",
       "      <th>cut_Premium</th>\n",
       "      <th>...</th>\n",
       "      <th>color_H</th>\n",
       "      <th>color_I</th>\n",
       "      <th>color_J</th>\n",
       "      <th>clarity_IF</th>\n",
       "      <th>clarity_SI1</th>\n",
       "      <th>clarity_SI2</th>\n",
       "      <th>clarity_VS1</th>\n",
       "      <th>clarity_VS2</th>\n",
       "      <th>clarity_VVS1</th>\n",
       "      <th>clarity_VVS2</th>\n",
       "    </tr>\n",
       "  </thead>\n",
       "  <tbody>\n",
       "    <tr>\n",
       "      <th>0</th>\n",
       "      <td>0.30</td>\n",
       "      <td>62.1</td>\n",
       "      <td>58.0</td>\n",
       "      <td>4.27</td>\n",
       "      <td>4.29</td>\n",
       "      <td>2.66</td>\n",
       "      <td>499</td>\n",
       "      <td>0</td>\n",
       "      <td>1</td>\n",
       "      <td>0</td>\n",
       "      <td>...</td>\n",
       "      <td>0</td>\n",
       "      <td>0</td>\n",
       "      <td>0</td>\n",
       "      <td>0</td>\n",
       "      <td>1</td>\n",
       "      <td>0</td>\n",
       "      <td>0</td>\n",
       "      <td>0</td>\n",
       "      <td>0</td>\n",
       "      <td>0</td>\n",
       "    </tr>\n",
       "    <tr>\n",
       "      <th>1</th>\n",
       "      <td>0.33</td>\n",
       "      <td>60.8</td>\n",
       "      <td>58.0</td>\n",
       "      <td>4.42</td>\n",
       "      <td>4.46</td>\n",
       "      <td>2.70</td>\n",
       "      <td>984</td>\n",
       "      <td>0</td>\n",
       "      <td>0</td>\n",
       "      <td>1</td>\n",
       "      <td>...</td>\n",
       "      <td>0</td>\n",
       "      <td>0</td>\n",
       "      <td>0</td>\n",
       "      <td>1</td>\n",
       "      <td>0</td>\n",
       "      <td>0</td>\n",
       "      <td>0</td>\n",
       "      <td>0</td>\n",
       "      <td>0</td>\n",
       "      <td>0</td>\n",
       "    </tr>\n",
       "    <tr>\n",
       "      <th>2</th>\n",
       "      <td>0.90</td>\n",
       "      <td>62.2</td>\n",
       "      <td>60.0</td>\n",
       "      <td>6.04</td>\n",
       "      <td>6.12</td>\n",
       "      <td>3.78</td>\n",
       "      <td>6289</td>\n",
       "      <td>0</td>\n",
       "      <td>0</td>\n",
       "      <td>0</td>\n",
       "      <td>...</td>\n",
       "      <td>0</td>\n",
       "      <td>0</td>\n",
       "      <td>0</td>\n",
       "      <td>0</td>\n",
       "      <td>0</td>\n",
       "      <td>0</td>\n",
       "      <td>0</td>\n",
       "      <td>0</td>\n",
       "      <td>0</td>\n",
       "      <td>1</td>\n",
       "    </tr>\n",
       "    <tr>\n",
       "      <th>3</th>\n",
       "      <td>0.42</td>\n",
       "      <td>61.6</td>\n",
       "      <td>56.0</td>\n",
       "      <td>4.82</td>\n",
       "      <td>4.80</td>\n",
       "      <td>2.96</td>\n",
       "      <td>1082</td>\n",
       "      <td>0</td>\n",
       "      <td>1</td>\n",
       "      <td>0</td>\n",
       "      <td>...</td>\n",
       "      <td>0</td>\n",
       "      <td>0</td>\n",
       "      <td>0</td>\n",
       "      <td>0</td>\n",
       "      <td>0</td>\n",
       "      <td>0</td>\n",
       "      <td>1</td>\n",
       "      <td>0</td>\n",
       "      <td>0</td>\n",
       "      <td>0</td>\n",
       "    </tr>\n",
       "    <tr>\n",
       "      <th>4</th>\n",
       "      <td>0.31</td>\n",
       "      <td>60.4</td>\n",
       "      <td>59.0</td>\n",
       "      <td>4.35</td>\n",
       "      <td>4.43</td>\n",
       "      <td>2.65</td>\n",
       "      <td>779</td>\n",
       "      <td>0</td>\n",
       "      <td>1</td>\n",
       "      <td>0</td>\n",
       "      <td>...</td>\n",
       "      <td>0</td>\n",
       "      <td>0</td>\n",
       "      <td>0</td>\n",
       "      <td>0</td>\n",
       "      <td>0</td>\n",
       "      <td>0</td>\n",
       "      <td>0</td>\n",
       "      <td>0</td>\n",
       "      <td>1</td>\n",
       "      <td>0</td>\n",
       "    </tr>\n",
       "    <tr>\n",
       "      <th>...</th>\n",
       "      <td>...</td>\n",
       "      <td>...</td>\n",
       "      <td>...</td>\n",
       "      <td>...</td>\n",
       "      <td>...</td>\n",
       "      <td>...</td>\n",
       "      <td>...</td>\n",
       "      <td>...</td>\n",
       "      <td>...</td>\n",
       "      <td>...</td>\n",
       "      <td>...</td>\n",
       "      <td>...</td>\n",
       "      <td>...</td>\n",
       "      <td>...</td>\n",
       "      <td>...</td>\n",
       "      <td>...</td>\n",
       "      <td>...</td>\n",
       "      <td>...</td>\n",
       "      <td>...</td>\n",
       "      <td>...</td>\n",
       "      <td>...</td>\n",
       "    </tr>\n",
       "    <tr>\n",
       "      <th>26962</th>\n",
       "      <td>1.11</td>\n",
       "      <td>62.3</td>\n",
       "      <td>58.0</td>\n",
       "      <td>6.61</td>\n",
       "      <td>6.52</td>\n",
       "      <td>4.09</td>\n",
       "      <td>5408</td>\n",
       "      <td>0</td>\n",
       "      <td>0</td>\n",
       "      <td>1</td>\n",
       "      <td>...</td>\n",
       "      <td>0</td>\n",
       "      <td>0</td>\n",
       "      <td>0</td>\n",
       "      <td>0</td>\n",
       "      <td>1</td>\n",
       "      <td>0</td>\n",
       "      <td>0</td>\n",
       "      <td>0</td>\n",
       "      <td>0</td>\n",
       "      <td>0</td>\n",
       "    </tr>\n",
       "    <tr>\n",
       "      <th>26963</th>\n",
       "      <td>0.33</td>\n",
       "      <td>61.9</td>\n",
       "      <td>55.0</td>\n",
       "      <td>4.44</td>\n",
       "      <td>4.42</td>\n",
       "      <td>2.74</td>\n",
       "      <td>1114</td>\n",
       "      <td>0</td>\n",
       "      <td>1</td>\n",
       "      <td>0</td>\n",
       "      <td>...</td>\n",
       "      <td>1</td>\n",
       "      <td>0</td>\n",
       "      <td>0</td>\n",
       "      <td>1</td>\n",
       "      <td>0</td>\n",
       "      <td>0</td>\n",
       "      <td>0</td>\n",
       "      <td>0</td>\n",
       "      <td>0</td>\n",
       "      <td>0</td>\n",
       "    </tr>\n",
       "    <tr>\n",
       "      <th>26964</th>\n",
       "      <td>0.51</td>\n",
       "      <td>61.7</td>\n",
       "      <td>58.0</td>\n",
       "      <td>5.12</td>\n",
       "      <td>5.15</td>\n",
       "      <td>3.17</td>\n",
       "      <td>1656</td>\n",
       "      <td>0</td>\n",
       "      <td>0</td>\n",
       "      <td>1</td>\n",
       "      <td>...</td>\n",
       "      <td>0</td>\n",
       "      <td>0</td>\n",
       "      <td>0</td>\n",
       "      <td>0</td>\n",
       "      <td>0</td>\n",
       "      <td>0</td>\n",
       "      <td>0</td>\n",
       "      <td>1</td>\n",
       "      <td>0</td>\n",
       "      <td>0</td>\n",
       "    </tr>\n",
       "    <tr>\n",
       "      <th>26965</th>\n",
       "      <td>0.27</td>\n",
       "      <td>61.8</td>\n",
       "      <td>56.0</td>\n",
       "      <td>4.19</td>\n",
       "      <td>4.20</td>\n",
       "      <td>2.60</td>\n",
       "      <td>682</td>\n",
       "      <td>0</td>\n",
       "      <td>0</td>\n",
       "      <td>0</td>\n",
       "      <td>...</td>\n",
       "      <td>0</td>\n",
       "      <td>0</td>\n",
       "      <td>0</td>\n",
       "      <td>0</td>\n",
       "      <td>0</td>\n",
       "      <td>0</td>\n",
       "      <td>0</td>\n",
       "      <td>0</td>\n",
       "      <td>0</td>\n",
       "      <td>1</td>\n",
       "    </tr>\n",
       "    <tr>\n",
       "      <th>26966</th>\n",
       "      <td>1.25</td>\n",
       "      <td>62.0</td>\n",
       "      <td>58.0</td>\n",
       "      <td>6.90</td>\n",
       "      <td>6.88</td>\n",
       "      <td>4.27</td>\n",
       "      <td>5166</td>\n",
       "      <td>0</td>\n",
       "      <td>0</td>\n",
       "      <td>1</td>\n",
       "      <td>...</td>\n",
       "      <td>0</td>\n",
       "      <td>0</td>\n",
       "      <td>1</td>\n",
       "      <td>0</td>\n",
       "      <td>1</td>\n",
       "      <td>0</td>\n",
       "      <td>0</td>\n",
       "      <td>0</td>\n",
       "      <td>0</td>\n",
       "      <td>0</td>\n",
       "    </tr>\n",
       "  </tbody>\n",
       "</table>\n",
       "<p>26933 rows × 24 columns</p>\n",
       "</div>"
      ],
      "text/plain": [
       "       carat  depth  table     x     y     z  price  cut_Good  cut_Ideal  \\\n",
       "0       0.30   62.1   58.0  4.27  4.29  2.66    499         0          1   \n",
       "1       0.33   60.8   58.0  4.42  4.46  2.70    984         0          0   \n",
       "2       0.90   62.2   60.0  6.04  6.12  3.78   6289         0          0   \n",
       "3       0.42   61.6   56.0  4.82  4.80  2.96   1082         0          1   \n",
       "4       0.31   60.4   59.0  4.35  4.43  2.65    779         0          1   \n",
       "...      ...    ...    ...   ...   ...   ...    ...       ...        ...   \n",
       "26962   1.11   62.3   58.0  6.61  6.52  4.09   5408         0          0   \n",
       "26963   0.33   61.9   55.0  4.44  4.42  2.74   1114         0          1   \n",
       "26964   0.51   61.7   58.0  5.12  5.15  3.17   1656         0          0   \n",
       "26965   0.27   61.8   56.0  4.19  4.20  2.60    682         0          0   \n",
       "26966   1.25   62.0   58.0  6.90  6.88  4.27   5166         0          0   \n",
       "\n",
       "       cut_Premium  ...  color_H  color_I  color_J  clarity_IF  clarity_SI1  \\\n",
       "0                0  ...        0        0        0           0            1   \n",
       "1                1  ...        0        0        0           1            0   \n",
       "2                0  ...        0        0        0           0            0   \n",
       "3                0  ...        0        0        0           0            0   \n",
       "4                0  ...        0        0        0           0            0   \n",
       "...            ...  ...      ...      ...      ...         ...          ...   \n",
       "26962            1  ...        0        0        0           0            1   \n",
       "26963            0  ...        1        0        0           1            0   \n",
       "26964            1  ...        0        0        0           0            0   \n",
       "26965            0  ...        0        0        0           0            0   \n",
       "26966            1  ...        0        0        1           0            1   \n",
       "\n",
       "       clarity_SI2  clarity_VS1  clarity_VS2  clarity_VVS1  clarity_VVS2  \n",
       "0                0            0            0             0             0  \n",
       "1                0            0            0             0             0  \n",
       "2                0            0            0             0             1  \n",
       "3                0            1            0             0             0  \n",
       "4                0            0            0             1             0  \n",
       "...            ...          ...          ...           ...           ...  \n",
       "26962            0            0            0             0             0  \n",
       "26963            0            0            0             0             0  \n",
       "26964            0            0            1             0             0  \n",
       "26965            0            0            0             0             1  \n",
       "26966            0            0            0             0             0  \n",
       "\n",
       "[26933 rows x 24 columns]"
      ]
     },
     "execution_count": 34,
     "metadata": {},
     "output_type": "execute_result"
    }
   ],
   "source": [
    "gem1=pd.get_dummies(gem1,columns=['cut', 'color', 'clarity'],drop_first=True)\n",
    "gem1             # cut_fair,color_D,clarity_I1 are the references,so we drop those in dummies"
   ]
  },
  {
   "cell_type": "code",
   "execution_count": 35,
   "id": "b8bb44b6",
   "metadata": {},
   "outputs": [
    {
     "data": {
      "text/html": [
       "<div>\n",
       "<style scoped>\n",
       "    .dataframe tbody tr th:only-of-type {\n",
       "        vertical-align: middle;\n",
       "    }\n",
       "\n",
       "    .dataframe tbody tr th {\n",
       "        vertical-align: top;\n",
       "    }\n",
       "\n",
       "    .dataframe thead th {\n",
       "        text-align: right;\n",
       "    }\n",
       "</style>\n",
       "<table border=\"1\" class=\"dataframe\">\n",
       "  <thead>\n",
       "    <tr style=\"text-align: right;\">\n",
       "      <th></th>\n",
       "      <th>carat</th>\n",
       "      <th>depth</th>\n",
       "      <th>table</th>\n",
       "      <th>x</th>\n",
       "      <th>y</th>\n",
       "      <th>z</th>\n",
       "      <th>price</th>\n",
       "      <th>cut_Good</th>\n",
       "      <th>cut_Ideal</th>\n",
       "      <th>cut_Premium</th>\n",
       "      <th>...</th>\n",
       "      <th>color_H</th>\n",
       "      <th>color_I</th>\n",
       "      <th>color_J</th>\n",
       "      <th>clarity_IF</th>\n",
       "      <th>clarity_SI1</th>\n",
       "      <th>clarity_SI2</th>\n",
       "      <th>clarity_VS1</th>\n",
       "      <th>clarity_VS2</th>\n",
       "      <th>clarity_VVS1</th>\n",
       "      <th>clarity_VVS2</th>\n",
       "    </tr>\n",
       "  </thead>\n",
       "  <tbody>\n",
       "    <tr>\n",
       "      <th>0</th>\n",
       "      <td>0.30</td>\n",
       "      <td>62.1</td>\n",
       "      <td>58.0</td>\n",
       "      <td>4.27</td>\n",
       "      <td>4.29</td>\n",
       "      <td>2.66</td>\n",
       "      <td>499</td>\n",
       "      <td>0</td>\n",
       "      <td>1</td>\n",
       "      <td>0</td>\n",
       "      <td>...</td>\n",
       "      <td>0</td>\n",
       "      <td>0</td>\n",
       "      <td>0</td>\n",
       "      <td>0</td>\n",
       "      <td>1</td>\n",
       "      <td>0</td>\n",
       "      <td>0</td>\n",
       "      <td>0</td>\n",
       "      <td>0</td>\n",
       "      <td>0</td>\n",
       "    </tr>\n",
       "    <tr>\n",
       "      <th>1</th>\n",
       "      <td>0.33</td>\n",
       "      <td>60.8</td>\n",
       "      <td>58.0</td>\n",
       "      <td>4.42</td>\n",
       "      <td>4.46</td>\n",
       "      <td>2.70</td>\n",
       "      <td>984</td>\n",
       "      <td>0</td>\n",
       "      <td>0</td>\n",
       "      <td>1</td>\n",
       "      <td>...</td>\n",
       "      <td>0</td>\n",
       "      <td>0</td>\n",
       "      <td>0</td>\n",
       "      <td>1</td>\n",
       "      <td>0</td>\n",
       "      <td>0</td>\n",
       "      <td>0</td>\n",
       "      <td>0</td>\n",
       "      <td>0</td>\n",
       "      <td>0</td>\n",
       "    </tr>\n",
       "    <tr>\n",
       "      <th>2</th>\n",
       "      <td>0.90</td>\n",
       "      <td>62.2</td>\n",
       "      <td>60.0</td>\n",
       "      <td>6.04</td>\n",
       "      <td>6.12</td>\n",
       "      <td>3.78</td>\n",
       "      <td>6289</td>\n",
       "      <td>0</td>\n",
       "      <td>0</td>\n",
       "      <td>0</td>\n",
       "      <td>...</td>\n",
       "      <td>0</td>\n",
       "      <td>0</td>\n",
       "      <td>0</td>\n",
       "      <td>0</td>\n",
       "      <td>0</td>\n",
       "      <td>0</td>\n",
       "      <td>0</td>\n",
       "      <td>0</td>\n",
       "      <td>0</td>\n",
       "      <td>1</td>\n",
       "    </tr>\n",
       "    <tr>\n",
       "      <th>3</th>\n",
       "      <td>0.42</td>\n",
       "      <td>61.6</td>\n",
       "      <td>56.0</td>\n",
       "      <td>4.82</td>\n",
       "      <td>4.80</td>\n",
       "      <td>2.96</td>\n",
       "      <td>1082</td>\n",
       "      <td>0</td>\n",
       "      <td>1</td>\n",
       "      <td>0</td>\n",
       "      <td>...</td>\n",
       "      <td>0</td>\n",
       "      <td>0</td>\n",
       "      <td>0</td>\n",
       "      <td>0</td>\n",
       "      <td>0</td>\n",
       "      <td>0</td>\n",
       "      <td>1</td>\n",
       "      <td>0</td>\n",
       "      <td>0</td>\n",
       "      <td>0</td>\n",
       "    </tr>\n",
       "    <tr>\n",
       "      <th>4</th>\n",
       "      <td>0.31</td>\n",
       "      <td>60.4</td>\n",
       "      <td>59.0</td>\n",
       "      <td>4.35</td>\n",
       "      <td>4.43</td>\n",
       "      <td>2.65</td>\n",
       "      <td>779</td>\n",
       "      <td>0</td>\n",
       "      <td>1</td>\n",
       "      <td>0</td>\n",
       "      <td>...</td>\n",
       "      <td>0</td>\n",
       "      <td>0</td>\n",
       "      <td>0</td>\n",
       "      <td>0</td>\n",
       "      <td>0</td>\n",
       "      <td>0</td>\n",
       "      <td>0</td>\n",
       "      <td>0</td>\n",
       "      <td>1</td>\n",
       "      <td>0</td>\n",
       "    </tr>\n",
       "    <tr>\n",
       "      <th>...</th>\n",
       "      <td>...</td>\n",
       "      <td>...</td>\n",
       "      <td>...</td>\n",
       "      <td>...</td>\n",
       "      <td>...</td>\n",
       "      <td>...</td>\n",
       "      <td>...</td>\n",
       "      <td>...</td>\n",
       "      <td>...</td>\n",
       "      <td>...</td>\n",
       "      <td>...</td>\n",
       "      <td>...</td>\n",
       "      <td>...</td>\n",
       "      <td>...</td>\n",
       "      <td>...</td>\n",
       "      <td>...</td>\n",
       "      <td>...</td>\n",
       "      <td>...</td>\n",
       "      <td>...</td>\n",
       "      <td>...</td>\n",
       "      <td>...</td>\n",
       "    </tr>\n",
       "    <tr>\n",
       "      <th>26962</th>\n",
       "      <td>1.11</td>\n",
       "      <td>62.3</td>\n",
       "      <td>58.0</td>\n",
       "      <td>6.61</td>\n",
       "      <td>6.52</td>\n",
       "      <td>4.09</td>\n",
       "      <td>5408</td>\n",
       "      <td>0</td>\n",
       "      <td>0</td>\n",
       "      <td>1</td>\n",
       "      <td>...</td>\n",
       "      <td>0</td>\n",
       "      <td>0</td>\n",
       "      <td>0</td>\n",
       "      <td>0</td>\n",
       "      <td>1</td>\n",
       "      <td>0</td>\n",
       "      <td>0</td>\n",
       "      <td>0</td>\n",
       "      <td>0</td>\n",
       "      <td>0</td>\n",
       "    </tr>\n",
       "    <tr>\n",
       "      <th>26963</th>\n",
       "      <td>0.33</td>\n",
       "      <td>61.9</td>\n",
       "      <td>55.0</td>\n",
       "      <td>4.44</td>\n",
       "      <td>4.42</td>\n",
       "      <td>2.74</td>\n",
       "      <td>1114</td>\n",
       "      <td>0</td>\n",
       "      <td>1</td>\n",
       "      <td>0</td>\n",
       "      <td>...</td>\n",
       "      <td>1</td>\n",
       "      <td>0</td>\n",
       "      <td>0</td>\n",
       "      <td>1</td>\n",
       "      <td>0</td>\n",
       "      <td>0</td>\n",
       "      <td>0</td>\n",
       "      <td>0</td>\n",
       "      <td>0</td>\n",
       "      <td>0</td>\n",
       "    </tr>\n",
       "    <tr>\n",
       "      <th>26964</th>\n",
       "      <td>0.51</td>\n",
       "      <td>61.7</td>\n",
       "      <td>58.0</td>\n",
       "      <td>5.12</td>\n",
       "      <td>5.15</td>\n",
       "      <td>3.17</td>\n",
       "      <td>1656</td>\n",
       "      <td>0</td>\n",
       "      <td>0</td>\n",
       "      <td>1</td>\n",
       "      <td>...</td>\n",
       "      <td>0</td>\n",
       "      <td>0</td>\n",
       "      <td>0</td>\n",
       "      <td>0</td>\n",
       "      <td>0</td>\n",
       "      <td>0</td>\n",
       "      <td>0</td>\n",
       "      <td>1</td>\n",
       "      <td>0</td>\n",
       "      <td>0</td>\n",
       "    </tr>\n",
       "    <tr>\n",
       "      <th>26965</th>\n",
       "      <td>0.27</td>\n",
       "      <td>61.8</td>\n",
       "      <td>56.0</td>\n",
       "      <td>4.19</td>\n",
       "      <td>4.20</td>\n",
       "      <td>2.60</td>\n",
       "      <td>682</td>\n",
       "      <td>0</td>\n",
       "      <td>0</td>\n",
       "      <td>0</td>\n",
       "      <td>...</td>\n",
       "      <td>0</td>\n",
       "      <td>0</td>\n",
       "      <td>0</td>\n",
       "      <td>0</td>\n",
       "      <td>0</td>\n",
       "      <td>0</td>\n",
       "      <td>0</td>\n",
       "      <td>0</td>\n",
       "      <td>0</td>\n",
       "      <td>1</td>\n",
       "    </tr>\n",
       "    <tr>\n",
       "      <th>26966</th>\n",
       "      <td>1.25</td>\n",
       "      <td>62.0</td>\n",
       "      <td>58.0</td>\n",
       "      <td>6.90</td>\n",
       "      <td>6.88</td>\n",
       "      <td>4.27</td>\n",
       "      <td>5166</td>\n",
       "      <td>0</td>\n",
       "      <td>0</td>\n",
       "      <td>1</td>\n",
       "      <td>...</td>\n",
       "      <td>0</td>\n",
       "      <td>0</td>\n",
       "      <td>1</td>\n",
       "      <td>0</td>\n",
       "      <td>1</td>\n",
       "      <td>0</td>\n",
       "      <td>0</td>\n",
       "      <td>0</td>\n",
       "      <td>0</td>\n",
       "      <td>0</td>\n",
       "    </tr>\n",
       "  </tbody>\n",
       "</table>\n",
       "<p>26933 rows × 24 columns</p>\n",
       "</div>"
      ],
      "text/plain": [
       "       carat  depth  table     x     y     z  price  cut_Good  cut_Ideal  \\\n",
       "0       0.30   62.1   58.0  4.27  4.29  2.66    499         0          1   \n",
       "1       0.33   60.8   58.0  4.42  4.46  2.70    984         0          0   \n",
       "2       0.90   62.2   60.0  6.04  6.12  3.78   6289         0          0   \n",
       "3       0.42   61.6   56.0  4.82  4.80  2.96   1082         0          1   \n",
       "4       0.31   60.4   59.0  4.35  4.43  2.65    779         0          1   \n",
       "...      ...    ...    ...   ...   ...   ...    ...       ...        ...   \n",
       "26962   1.11   62.3   58.0  6.61  6.52  4.09   5408         0          0   \n",
       "26963   0.33   61.9   55.0  4.44  4.42  2.74   1114         0          1   \n",
       "26964   0.51   61.7   58.0  5.12  5.15  3.17   1656         0          0   \n",
       "26965   0.27   61.8   56.0  4.19  4.20  2.60    682         0          0   \n",
       "26966   1.25   62.0   58.0  6.90  6.88  4.27   5166         0          0   \n",
       "\n",
       "       cut_Premium  ...  color_H  color_I  color_J  clarity_IF  clarity_SI1  \\\n",
       "0                0  ...        0        0        0           0            1   \n",
       "1                1  ...        0        0        0           1            0   \n",
       "2                0  ...        0        0        0           0            0   \n",
       "3                0  ...        0        0        0           0            0   \n",
       "4                0  ...        0        0        0           0            0   \n",
       "...            ...  ...      ...      ...      ...         ...          ...   \n",
       "26962            1  ...        0        0        0           0            1   \n",
       "26963            0  ...        1        0        0           1            0   \n",
       "26964            1  ...        0        0        0           0            0   \n",
       "26965            0  ...        0        0        0           0            0   \n",
       "26966            1  ...        0        0        1           0            1   \n",
       "\n",
       "       clarity_SI2  clarity_VS1  clarity_VS2  clarity_VVS1  clarity_VVS2  \n",
       "0                0            0            0             0             0  \n",
       "1                0            0            0             0             0  \n",
       "2                0            0            0             0             1  \n",
       "3                0            1            0             0             0  \n",
       "4                0            0            0             1             0  \n",
       "...            ...          ...          ...           ...           ...  \n",
       "26962            0            0            0             0             0  \n",
       "26963            0            0            0             0             0  \n",
       "26964            0            0            1             0             0  \n",
       "26965            0            0            0             0             1  \n",
       "26966            0            0            0             0             0  \n",
       "\n",
       "[26933 rows x 24 columns]"
      ]
     },
     "execution_count": 35,
     "metadata": {},
     "output_type": "execute_result"
    }
   ],
   "source": [
    "gem2 = gem1.copy()\n",
    "gem2"
   ]
  },
  {
   "cell_type": "markdown",
   "id": "6d6c8584",
   "metadata": {},
   "source": [
    "#### <I>SPLITTING DATASET INTO TRAIN VALIDATION SPLIT"
   ]
  },
  {
   "cell_type": "code",
   "execution_count": 36,
   "id": "bfe1b340",
   "metadata": {},
   "outputs": [],
   "source": [
    "X=gem1.drop('price',axis=1)\n",
    "y=gem1.pop('price')"
   ]
  },
  {
   "cell_type": "code",
   "execution_count": 37,
   "id": "a1f71c7d",
   "metadata": {},
   "outputs": [],
   "source": [
    "from sklearn.model_selection import train_test_split"
   ]
  },
  {
   "cell_type": "code",
   "execution_count": 38,
   "id": "98814bb9",
   "metadata": {},
   "outputs": [],
   "source": [
    "#Splitting into Train Test 70:30 ratio\n",
    "#The test data kept under complete darkness for final testing of the model.\n",
    "X_train,X_test,y_train,y_test=train_test_split(X,y,test_size=0.3,random_state=42)"
   ]
  },
  {
   "cell_type": "code",
   "execution_count": 39,
   "id": "2a37857e",
   "metadata": {},
   "outputs": [
    {
     "name": "stdout",
     "output_type": "stream",
     "text": [
      "(18853, 23)\n",
      "(18853,)\n",
      "(8080, 23)\n",
      "(8080,)\n"
     ]
    }
   ],
   "source": [
    "#Whole data is splitted into Train and Test\n",
    "print(X_train.shape)\n",
    "print(y_train.shape)\n",
    "print(X_test.shape)\n",
    "print(y_test.shape)"
   ]
  },
  {
   "cell_type": "code",
   "execution_count": 40,
   "id": "bc48fe4e",
   "metadata": {},
   "outputs": [],
   "source": [
    "#From the train data now we can split the validation data which can be used to validate the trained model over this data.\n",
    "#Here we are again making 70:30 split,which is 30% of 70% which is 0.43\n",
    "X_train,X_valid,y_train,y_valid = train_test_split(X_train,y_train,test_size=0.43,random_state=42) "
   ]
  },
  {
   "cell_type": "code",
   "execution_count": 41,
   "id": "c9fc74a5",
   "metadata": {},
   "outputs": [
    {
     "name": "stdout",
     "output_type": "stream",
     "text": [
      "(10746, 23)\n",
      "(10746,)\n",
      "(8107, 23)\n",
      "(8107,)\n"
     ]
    }
   ],
   "source": [
    "#Train data is splitted into Train and validation\n",
    "print(X_train.shape)\n",
    "print(y_train.shape)\n",
    "print(X_valid.shape)\n",
    "print(y_valid.shape)"
   ]
  },
  {
   "cell_type": "markdown",
   "id": "4d37adb8",
   "metadata": {},
   "source": [
    "## 4.BUILDING MACHINE LEARNING MODEL & EVALUATING"
   ]
  },
  {
   "cell_type": "markdown",
   "id": "f8f40f20",
   "metadata": {},
   "source": [
    "### NOTE:\n",
    "*<font color= green> <b><i>From the EDA we could see the dependent variable has linear relationship with most of the independent variables so \n",
    "    we choose to use Linear Regression Model ,in addition we will try with other models such as KNN and Decision Tree"
   ]
  },
  {
   "cell_type": "markdown",
   "id": "8280738a",
   "metadata": {},
   "source": [
    "### <i> <u>TRIAL 1\n",
    "* <b> <i> Include all variables"
   ]
  },
  {
   "cell_type": "markdown",
   "id": "c76446fb",
   "metadata": {},
   "source": [
    "##### <U>MODEL TRAINING"
   ]
  },
  {
   "cell_type": "code",
   "execution_count": 42,
   "id": "06c6dcb4",
   "metadata": {},
   "outputs": [
    {
     "data": {
      "text/plain": [
       "LinearRegression()"
      ]
     },
     "execution_count": 42,
     "metadata": {},
     "output_type": "execute_result"
    }
   ],
   "source": [
    "#Fitting the linear model to the train dataset for the model to get trained\n",
    "reg1 = LinearRegression()\n",
    "reg1.fit(X_train,y_train)"
   ]
  },
  {
   "cell_type": "code",
   "execution_count": 43,
   "id": "c46633be",
   "metadata": {},
   "outputs": [
    {
     "data": {
      "text/plain": [
       "-957.1096002624608"
      ]
     },
     "execution_count": 43,
     "metadata": {},
     "output_type": "execute_result"
    }
   ],
   "source": [
    "#Point of intercept of the Regression line over yaxis\n",
    "reg1.intercept_"
   ]
  },
  {
   "cell_type": "code",
   "execution_count": 44,
   "id": "af829ca8",
   "metadata": {},
   "outputs": [
    {
     "data": {
      "text/plain": [
       "array([11613.54349152,   -17.30476626,   -13.48082367,  -714.89392914,\n",
       "          36.94274132,  -779.80935947,   543.51494624,   888.51608385,\n",
       "         741.64409769,   706.96715417,  -194.20796805,  -286.24452749,\n",
       "        -502.73636795,  -982.47364358, -1552.24465618, -2419.06570506,\n",
       "        5246.47996213,  3658.00314544,  2639.27924655,  4590.28678243,\n",
       "        4276.85143359,  5017.1566809 ,  4925.20476647])"
      ]
     },
     "execution_count": 44,
     "metadata": {},
     "output_type": "execute_result"
    }
   ],
   "source": [
    "#the regressors of each predictor variable  which determines the prediction\n",
    "reg1.coef_"
   ]
  },
  {
   "cell_type": "code",
   "execution_count": 45,
   "id": "c363437f",
   "metadata": {},
   "outputs": [
    {
     "data": {
      "text/plain": [
       "0.9218502152100582"
      ]
     },
     "execution_count": 45,
     "metadata": {},
     "output_type": "execute_result"
    }
   ],
   "source": [
    "#Rsquare value gives the fitness of the model with data(proportion of explained error over total error in prediction)\n",
    "T1_R2 = reg1.score(X_train,y_train)\n",
    "T1_R2"
   ]
  },
  {
   "cell_type": "markdown",
   "id": "8636e8a6",
   "metadata": {},
   "source": [
    "##### <U> MODEL VALIDATION"
   ]
  },
  {
   "cell_type": "code",
   "execution_count": 46,
   "id": "84479d4e",
   "metadata": {},
   "outputs": [
    {
     "data": {
      "text/plain": [
       "Index(['carat', 'depth', 'table', 'x', 'y', 'z', 'cut_Good', 'cut_Ideal',\n",
       "       'cut_Premium', 'cut_Very Good', 'color_E', 'color_F', 'color_G',\n",
       "       'color_H', 'color_I', 'color_J', 'clarity_IF', 'clarity_SI1',\n",
       "       'clarity_SI2', 'clarity_VS1', 'clarity_VS2', 'clarity_VVS1',\n",
       "       'clarity_VVS2'],\n",
       "      dtype='object')"
      ]
     },
     "execution_count": 46,
     "metadata": {},
     "output_type": "execute_result"
    }
   ],
   "source": [
    "X_train.columns"
   ]
  },
  {
   "cell_type": "code",
   "execution_count": 47,
   "id": "be1462a1",
   "metadata": {},
   "outputs": [
    {
     "data": {
      "text/plain": [
       "array([12930.32819959,  2868.08577613,  5864.86978343, ...,\n",
       "         174.35811472,   496.26877471,  2348.00293102])"
      ]
     },
     "execution_count": 47,
     "metadata": {},
     "output_type": "execute_result"
    }
   ],
   "source": [
    "#Using validation data to check the model performance over prediction\n",
    "reg_pred1 = reg1.predict(X_valid)\n",
    "reg_pred1"
   ]
  },
  {
   "cell_type": "code",
   "execution_count": 48,
   "id": "bc6c03d6",
   "metadata": {},
   "outputs": [
    {
     "data": {
      "text/plain": [
       "736.0084838886662"
      ]
     },
     "execution_count": 48,
     "metadata": {},
     "output_type": "execute_result"
    }
   ],
   "source": [
    "#MAE (mean absolute error)\n",
    "T1_MAE = np.mean(np.abs(y_valid-reg_pred1))\n",
    "T1_MAE"
   ]
  },
  {
   "cell_type": "code",
   "execution_count": 49,
   "id": "72b33e9c",
   "metadata": {},
   "outputs": [
    {
     "data": {
      "text/plain": [
       "1265686.5170108841"
      ]
     },
     "execution_count": 49,
     "metadata": {},
     "output_type": "execute_result"
    }
   ],
   "source": [
    "#MSE\n",
    "T1_MSE = np.mean((y_valid -reg_pred1)**2)\n",
    "T1_MSE"
   ]
  },
  {
   "cell_type": "code",
   "execution_count": 50,
   "id": "bfcdc5fb",
   "metadata": {},
   "outputs": [
    {
     "data": {
      "text/plain": [
       "1125.0273405615012"
      ]
     },
     "execution_count": 50,
     "metadata": {},
     "output_type": "execute_result"
    }
   ],
   "source": [
    "#RMSE\n",
    "T1_RMSE = np.sqrt(np.mean((y_valid-reg_pred1)**2))\n",
    "T1_RMSE"
   ]
  },
  {
   "cell_type": "code",
   "execution_count": 51,
   "id": "6d344a59",
   "metadata": {},
   "outputs": [
    {
     "data": {
      "text/plain": [
       "40.14910743581456"
      ]
     },
     "execution_count": 51,
     "metadata": {},
     "output_type": "execute_result"
    }
   ],
   "source": [
    "#MAPE\n",
    "T1_MAPE = np.mean(np.abs(y_valid-reg_pred1)/y_valid)*100\n",
    "T1_MAPE"
   ]
  },
  {
   "cell_type": "markdown",
   "id": "8a988860",
   "metadata": {},
   "source": [
    "### <U><I>MODEL TESTING"
   ]
  },
  {
   "cell_type": "code",
   "execution_count": 52,
   "id": "e118ebf9",
   "metadata": {},
   "outputs": [],
   "source": [
    "#Testing with Trial1 model"
   ]
  },
  {
   "cell_type": "code",
   "execution_count": 53,
   "id": "ec73e103",
   "metadata": {},
   "outputs": [
    {
     "data": {
      "text/plain": [
       "array([ 942.03245638,  -74.57815665, -813.28737521, ..., -356.12559815,\n",
       "       6154.01471457,  434.75422675])"
      ]
     },
     "execution_count": 53,
     "metadata": {},
     "output_type": "execute_result"
    }
   ],
   "source": [
    "#Using test data to check the model performance over prediction\n",
    "reg_pred1 = reg1.predict(X_test)\n",
    "reg_pred1"
   ]
  },
  {
   "cell_type": "code",
   "execution_count": 54,
   "id": "192732a6",
   "metadata": {},
   "outputs": [
    {
     "data": {
      "text/html": [
       "<div>\n",
       "<style scoped>\n",
       "    .dataframe tbody tr th:only-of-type {\n",
       "        vertical-align: middle;\n",
       "    }\n",
       "\n",
       "    .dataframe tbody tr th {\n",
       "        vertical-align: top;\n",
       "    }\n",
       "\n",
       "    .dataframe thead th {\n",
       "        text-align: right;\n",
       "    }\n",
       "</style>\n",
       "<table border=\"1\" class=\"dataframe\">\n",
       "  <thead>\n",
       "    <tr style=\"text-align: right;\">\n",
       "      <th></th>\n",
       "      <th>carat</th>\n",
       "      <th>depth</th>\n",
       "      <th>table</th>\n",
       "      <th>x</th>\n",
       "      <th>y</th>\n",
       "      <th>z</th>\n",
       "      <th>cut_Good</th>\n",
       "      <th>cut_Ideal</th>\n",
       "      <th>cut_Premium</th>\n",
       "      <th>cut_Very Good</th>\n",
       "      <th>...</th>\n",
       "      <th>color_H</th>\n",
       "      <th>color_I</th>\n",
       "      <th>color_J</th>\n",
       "      <th>clarity_IF</th>\n",
       "      <th>clarity_SI1</th>\n",
       "      <th>clarity_SI2</th>\n",
       "      <th>clarity_VS1</th>\n",
       "      <th>clarity_VS2</th>\n",
       "      <th>clarity_VVS1</th>\n",
       "      <th>clarity_VVS2</th>\n",
       "    </tr>\n",
       "  </thead>\n",
       "  <tbody>\n",
       "    <tr>\n",
       "      <th>3916</th>\n",
       "      <td>0.41</td>\n",
       "      <td>61.8</td>\n",
       "      <td>59.0</td>\n",
       "      <td>4.76</td>\n",
       "      <td>4.72</td>\n",
       "      <td>2.93</td>\n",
       "      <td>0</td>\n",
       "      <td>0</td>\n",
       "      <td>1</td>\n",
       "      <td>0</td>\n",
       "      <td>...</td>\n",
       "      <td>0</td>\n",
       "      <td>0</td>\n",
       "      <td>0</td>\n",
       "      <td>0</td>\n",
       "      <td>0</td>\n",
       "      <td>0</td>\n",
       "      <td>0</td>\n",
       "      <td>1</td>\n",
       "      <td>0</td>\n",
       "      <td>0</td>\n",
       "    </tr>\n",
       "    <tr>\n",
       "      <th>10439</th>\n",
       "      <td>0.31</td>\n",
       "      <td>62.2</td>\n",
       "      <td>60.0</td>\n",
       "      <td>4.30</td>\n",
       "      <td>4.32</td>\n",
       "      <td>2.68</td>\n",
       "      <td>0</td>\n",
       "      <td>0</td>\n",
       "      <td>0</td>\n",
       "      <td>1</td>\n",
       "      <td>...</td>\n",
       "      <td>0</td>\n",
       "      <td>1</td>\n",
       "      <td>0</td>\n",
       "      <td>0</td>\n",
       "      <td>0</td>\n",
       "      <td>0</td>\n",
       "      <td>0</td>\n",
       "      <td>0</td>\n",
       "      <td>1</td>\n",
       "      <td>0</td>\n",
       "    </tr>\n",
       "    <tr>\n",
       "      <th>24237</th>\n",
       "      <td>0.41</td>\n",
       "      <td>61.7</td>\n",
       "      <td>55.0</td>\n",
       "      <td>4.79</td>\n",
       "      <td>4.81</td>\n",
       "      <td>2.96</td>\n",
       "      <td>0</td>\n",
       "      <td>1</td>\n",
       "      <td>0</td>\n",
       "      <td>0</td>\n",
       "      <td>...</td>\n",
       "      <td>0</td>\n",
       "      <td>0</td>\n",
       "      <td>1</td>\n",
       "      <td>0</td>\n",
       "      <td>0</td>\n",
       "      <td>0</td>\n",
       "      <td>0</td>\n",
       "      <td>1</td>\n",
       "      <td>0</td>\n",
       "      <td>0</td>\n",
       "    </tr>\n",
       "    <tr>\n",
       "      <th>9590</th>\n",
       "      <td>0.27</td>\n",
       "      <td>58.6</td>\n",
       "      <td>61.0</td>\n",
       "      <td>4.27</td>\n",
       "      <td>4.30</td>\n",
       "      <td>2.51</td>\n",
       "      <td>0</td>\n",
       "      <td>0</td>\n",
       "      <td>0</td>\n",
       "      <td>1</td>\n",
       "      <td>...</td>\n",
       "      <td>0</td>\n",
       "      <td>0</td>\n",
       "      <td>0</td>\n",
       "      <td>0</td>\n",
       "      <td>0</td>\n",
       "      <td>0</td>\n",
       "      <td>0</td>\n",
       "      <td>0</td>\n",
       "      <td>0</td>\n",
       "      <td>1</td>\n",
       "    </tr>\n",
       "    <tr>\n",
       "      <th>7451</th>\n",
       "      <td>1.24</td>\n",
       "      <td>62.4</td>\n",
       "      <td>59.0</td>\n",
       "      <td>6.82</td>\n",
       "      <td>6.86</td>\n",
       "      <td>4.27</td>\n",
       "      <td>0</td>\n",
       "      <td>0</td>\n",
       "      <td>1</td>\n",
       "      <td>0</td>\n",
       "      <td>...</td>\n",
       "      <td>0</td>\n",
       "      <td>0</td>\n",
       "      <td>0</td>\n",
       "      <td>0</td>\n",
       "      <td>1</td>\n",
       "      <td>0</td>\n",
       "      <td>0</td>\n",
       "      <td>0</td>\n",
       "      <td>0</td>\n",
       "      <td>0</td>\n",
       "    </tr>\n",
       "    <tr>\n",
       "      <th>...</th>\n",
       "      <td>...</td>\n",
       "      <td>...</td>\n",
       "      <td>...</td>\n",
       "      <td>...</td>\n",
       "      <td>...</td>\n",
       "      <td>...</td>\n",
       "      <td>...</td>\n",
       "      <td>...</td>\n",
       "      <td>...</td>\n",
       "      <td>...</td>\n",
       "      <td>...</td>\n",
       "      <td>...</td>\n",
       "      <td>...</td>\n",
       "      <td>...</td>\n",
       "      <td>...</td>\n",
       "      <td>...</td>\n",
       "      <td>...</td>\n",
       "      <td>...</td>\n",
       "      <td>...</td>\n",
       "      <td>...</td>\n",
       "      <td>...</td>\n",
       "    </tr>\n",
       "    <tr>\n",
       "      <th>19796</th>\n",
       "      <td>0.60</td>\n",
       "      <td>63.7</td>\n",
       "      <td>56.0</td>\n",
       "      <td>5.34</td>\n",
       "      <td>5.36</td>\n",
       "      <td>3.41</td>\n",
       "      <td>0</td>\n",
       "      <td>0</td>\n",
       "      <td>0</td>\n",
       "      <td>1</td>\n",
       "      <td>...</td>\n",
       "      <td>0</td>\n",
       "      <td>0</td>\n",
       "      <td>0</td>\n",
       "      <td>0</td>\n",
       "      <td>0</td>\n",
       "      <td>0</td>\n",
       "      <td>0</td>\n",
       "      <td>1</td>\n",
       "      <td>0</td>\n",
       "      <td>0</td>\n",
       "    </tr>\n",
       "    <tr>\n",
       "      <th>10346</th>\n",
       "      <td>0.45</td>\n",
       "      <td>57.6</td>\n",
       "      <td>62.5</td>\n",
       "      <td>5.05</td>\n",
       "      <td>5.09</td>\n",
       "      <td>2.91</td>\n",
       "      <td>1</td>\n",
       "      <td>0</td>\n",
       "      <td>0</td>\n",
       "      <td>0</td>\n",
       "      <td>...</td>\n",
       "      <td>0</td>\n",
       "      <td>0</td>\n",
       "      <td>0</td>\n",
       "      <td>0</td>\n",
       "      <td>0</td>\n",
       "      <td>0</td>\n",
       "      <td>1</td>\n",
       "      <td>0</td>\n",
       "      <td>0</td>\n",
       "      <td>0</td>\n",
       "    </tr>\n",
       "    <tr>\n",
       "      <th>11273</th>\n",
       "      <td>0.43</td>\n",
       "      <td>61.8</td>\n",
       "      <td>57.0</td>\n",
       "      <td>4.88</td>\n",
       "      <td>4.83</td>\n",
       "      <td>3.00</td>\n",
       "      <td>0</td>\n",
       "      <td>0</td>\n",
       "      <td>1</td>\n",
       "      <td>0</td>\n",
       "      <td>...</td>\n",
       "      <td>0</td>\n",
       "      <td>0</td>\n",
       "      <td>0</td>\n",
       "      <td>0</td>\n",
       "      <td>0</td>\n",
       "      <td>1</td>\n",
       "      <td>0</td>\n",
       "      <td>0</td>\n",
       "      <td>0</td>\n",
       "      <td>0</td>\n",
       "    </tr>\n",
       "    <tr>\n",
       "      <th>21889</th>\n",
       "      <td>1.01</td>\n",
       "      <td>62.5</td>\n",
       "      <td>58.0</td>\n",
       "      <td>6.43</td>\n",
       "      <td>6.40</td>\n",
       "      <td>4.01</td>\n",
       "      <td>0</td>\n",
       "      <td>0</td>\n",
       "      <td>1</td>\n",
       "      <td>0</td>\n",
       "      <td>...</td>\n",
       "      <td>0</td>\n",
       "      <td>0</td>\n",
       "      <td>0</td>\n",
       "      <td>0</td>\n",
       "      <td>0</td>\n",
       "      <td>0</td>\n",
       "      <td>0</td>\n",
       "      <td>1</td>\n",
       "      <td>0</td>\n",
       "      <td>0</td>\n",
       "    </tr>\n",
       "    <tr>\n",
       "      <th>25511</th>\n",
       "      <td>0.30</td>\n",
       "      <td>62.5</td>\n",
       "      <td>59.0</td>\n",
       "      <td>4.29</td>\n",
       "      <td>4.26</td>\n",
       "      <td>2.67</td>\n",
       "      <td>0</td>\n",
       "      <td>0</td>\n",
       "      <td>1</td>\n",
       "      <td>0</td>\n",
       "      <td>...</td>\n",
       "      <td>1</td>\n",
       "      <td>0</td>\n",
       "      <td>0</td>\n",
       "      <td>0</td>\n",
       "      <td>0</td>\n",
       "      <td>0</td>\n",
       "      <td>0</td>\n",
       "      <td>0</td>\n",
       "      <td>1</td>\n",
       "      <td>0</td>\n",
       "    </tr>\n",
       "  </tbody>\n",
       "</table>\n",
       "<p>8080 rows × 23 columns</p>\n",
       "</div>"
      ],
      "text/plain": [
       "       carat  depth  table     x     y     z  cut_Good  cut_Ideal  \\\n",
       "3916    0.41   61.8   59.0  4.76  4.72  2.93         0          0   \n",
       "10439   0.31   62.2   60.0  4.30  4.32  2.68         0          0   \n",
       "24237   0.41   61.7   55.0  4.79  4.81  2.96         0          1   \n",
       "9590    0.27   58.6   61.0  4.27  4.30  2.51         0          0   \n",
       "7451    1.24   62.4   59.0  6.82  6.86  4.27         0          0   \n",
       "...      ...    ...    ...   ...   ...   ...       ...        ...   \n",
       "19796   0.60   63.7   56.0  5.34  5.36  3.41         0          0   \n",
       "10346   0.45   57.6   62.5  5.05  5.09  2.91         1          0   \n",
       "11273   0.43   61.8   57.0  4.88  4.83  3.00         0          0   \n",
       "21889   1.01   62.5   58.0  6.43  6.40  4.01         0          0   \n",
       "25511   0.30   62.5   59.0  4.29  4.26  2.67         0          0   \n",
       "\n",
       "       cut_Premium  cut_Very Good  ...  color_H  color_I  color_J  clarity_IF  \\\n",
       "3916             1              0  ...        0        0        0           0   \n",
       "10439            0              1  ...        0        1        0           0   \n",
       "24237            0              0  ...        0        0        1           0   \n",
       "9590             0              1  ...        0        0        0           0   \n",
       "7451             1              0  ...        0        0        0           0   \n",
       "...            ...            ...  ...      ...      ...      ...         ...   \n",
       "19796            0              1  ...        0        0        0           0   \n",
       "10346            0              0  ...        0        0        0           0   \n",
       "11273            1              0  ...        0        0        0           0   \n",
       "21889            1              0  ...        0        0        0           0   \n",
       "25511            1              0  ...        1        0        0           0   \n",
       "\n",
       "       clarity_SI1  clarity_SI2  clarity_VS1  clarity_VS2  clarity_VVS1  \\\n",
       "3916             0            0            0            1             0   \n",
       "10439            0            0            0            0             1   \n",
       "24237            0            0            0            1             0   \n",
       "9590             0            0            0            0             0   \n",
       "7451             1            0            0            0             0   \n",
       "...            ...          ...          ...          ...           ...   \n",
       "19796            0            0            0            1             0   \n",
       "10346            0            0            1            0             0   \n",
       "11273            0            1            0            0             0   \n",
       "21889            0            0            0            1             0   \n",
       "25511            0            0            0            0             1   \n",
       "\n",
       "       clarity_VVS2  \n",
       "3916              0  \n",
       "10439             0  \n",
       "24237             0  \n",
       "9590              1  \n",
       "7451              0  \n",
       "...             ...  \n",
       "19796             0  \n",
       "10346             0  \n",
       "11273             0  \n",
       "21889             0  \n",
       "25511             0  \n",
       "\n",
       "[8080 rows x 23 columns]"
      ]
     },
     "execution_count": 54,
     "metadata": {},
     "output_type": "execute_result"
    }
   ],
   "source": [
    "X_test"
   ]
  },
  {
   "cell_type": "code",
   "execution_count": 55,
   "id": "5d3787da",
   "metadata": {},
   "outputs": [
    {
     "data": {
      "text/plain": [
       "747.3224221790449"
      ]
     },
     "execution_count": 55,
     "metadata": {},
     "output_type": "execute_result"
    }
   ],
   "source": [
    "#MAE (mean absolute error)\n",
    "T1_MAE_T = np.mean(np.abs(y_test-reg_pred1))\n",
    "T1_MAE_T"
   ]
  },
  {
   "cell_type": "code",
   "execution_count": 56,
   "id": "79be46ae",
   "metadata": {},
   "outputs": [
    {
     "data": {
      "text/plain": [
       "1354560.03095797"
      ]
     },
     "execution_count": 56,
     "metadata": {},
     "output_type": "execute_result"
    }
   ],
   "source": [
    "#MSE\n",
    "T1_MSE_T = np.mean((y_test -reg_pred1)**2)\n",
    "T1_MSE_T"
   ]
  },
  {
   "cell_type": "code",
   "execution_count": 57,
   "id": "23a16ed2",
   "metadata": {},
   "outputs": [
    {
     "data": {
      "text/plain": [
       "1163.855674453654"
      ]
     },
     "execution_count": 57,
     "metadata": {},
     "output_type": "execute_result"
    }
   ],
   "source": [
    "#RMSE\n",
    "T1_RMSE_T = np.sqrt(np.mean((y_test-reg_pred1)**2))\n",
    "T1_RMSE_T"
   ]
  },
  {
   "cell_type": "code",
   "execution_count": 58,
   "id": "61b7199a",
   "metadata": {},
   "outputs": [
    {
     "data": {
      "text/plain": [
       "40.39298178935069"
      ]
     },
     "execution_count": 58,
     "metadata": {},
     "output_type": "execute_result"
    }
   ],
   "source": [
    "#MAPE\n",
    "T1_MAPE_T = np.mean(np.abs(y_test-reg_pred1)/y_test)*100\n",
    "T1_MAPE_T"
   ]
  },
  {
   "cell_type": "markdown",
   "id": "26a3a8af",
   "metadata": {},
   "source": [
    "### <i> <u>TRIAL 2\n",
    "* <b> <i> Log transformation of Target variable"
   ]
  },
  {
   "cell_type": "code",
   "execution_count": 59,
   "id": "cc4f5c4c",
   "metadata": {},
   "outputs": [],
   "source": [
    "#Log transformation bring down the scale/magnitude of the values.This is used when the range of values are high\n",
    "y_train_tranf = y_train.copy()"
   ]
  },
  {
   "cell_type": "code",
   "execution_count": 60,
   "id": "5e494833",
   "metadata": {},
   "outputs": [],
   "source": [
    "#taking log of y\n",
    "log_y = np.log(y_train_tranf)"
   ]
  },
  {
   "cell_type": "code",
   "execution_count": 61,
   "id": "790619ff",
   "metadata": {},
   "outputs": [
    {
     "data": {
      "text/plain": [
       "9526     7.693026\n",
       "8391     9.549096\n",
       "16806    8.621733\n",
       "14842    7.920447\n",
       "22637    8.963160\n",
       "           ...   \n",
       "14456    9.562053\n",
       "10898    7.732808\n",
       "506      8.748305\n",
       "21069    6.388561\n",
       "24529    7.945201\n",
       "Name: price, Length: 10746, dtype: float64"
      ]
     },
     "execution_count": 61,
     "metadata": {},
     "output_type": "execute_result"
    }
   ],
   "source": [
    "log_y"
   ]
  },
  {
   "cell_type": "markdown",
   "id": "90cb4f25",
   "metadata": {},
   "source": [
    "##### <U>MODEL TRAINING"
   ]
  },
  {
   "cell_type": "code",
   "execution_count": 62,
   "id": "6b290411",
   "metadata": {},
   "outputs": [
    {
     "data": {
      "text/plain": [
       "LinearRegression()"
      ]
     },
     "execution_count": 62,
     "metadata": {},
     "output_type": "execute_result"
    }
   ],
   "source": [
    "#Fitting the linear model to the train dataset for the model to get trained\n",
    "reg2 = LinearRegression()\n",
    "reg2.fit(X_train,log_y)"
   ]
  },
  {
   "cell_type": "code",
   "execution_count": 63,
   "id": "63e7ae86",
   "metadata": {},
   "outputs": [
    {
     "data": {
      "text/plain": [
       "-3.1715146523950644"
      ]
     },
     "execution_count": 63,
     "metadata": {},
     "output_type": "execute_result"
    }
   ],
   "source": [
    "#Point of intercept of the Regression line over yaxis\n",
    "reg2.intercept_"
   ]
  },
  {
   "cell_type": "code",
   "execution_count": 64,
   "id": "0702280b",
   "metadata": {},
   "outputs": [
    {
     "data": {
      "text/plain": [
       "array([-1.02077834,  0.04039962,  0.00990557,  1.1951491 , -0.01649522,\n",
       "        0.36037125,  0.08931404,  0.15740412,  0.11163241,  0.12404381,\n",
       "       -0.06047492, -0.09642612, -0.16677998, -0.25751877, -0.37708292,\n",
       "       -0.50486098,  1.12832872,  0.61220496,  0.43555072,  0.82702072,\n",
       "        0.75636803,  1.02849054,  0.9593794 ])"
      ]
     },
     "execution_count": 64,
     "metadata": {},
     "output_type": "execute_result"
    }
   ],
   "source": [
    "#the regressors of each predictor variable  which determines the prediction\n",
    "reg2.coef_"
   ]
  },
  {
   "cell_type": "code",
   "execution_count": 65,
   "id": "273f6f74",
   "metadata": {},
   "outputs": [
    {
     "data": {
      "text/plain": [
       "0.9816968965028442"
      ]
     },
     "execution_count": 65,
     "metadata": {},
     "output_type": "execute_result"
    }
   ],
   "source": [
    "#Rsquare value gives the fitness of the model with data(proportion of explained error over total error in prediction)\n",
    "T2_R2 = reg2.score(X_train,log_y)\n",
    "T2_R2"
   ]
  },
  {
   "cell_type": "markdown",
   "id": "e47243a9",
   "metadata": {},
   "source": [
    "##### <U> MODEL VALIDATION"
   ]
  },
  {
   "cell_type": "code",
   "execution_count": 66,
   "id": "f8ec5d3f",
   "metadata": {},
   "outputs": [
    {
     "data": {
      "text/plain": [
       "Index(['carat', 'depth', 'table', 'x', 'y', 'z', 'cut_Good', 'cut_Ideal',\n",
       "       'cut_Premium', 'cut_Very Good', 'color_E', 'color_F', 'color_G',\n",
       "       'color_H', 'color_I', 'color_J', 'clarity_IF', 'clarity_SI1',\n",
       "       'clarity_SI2', 'clarity_VS1', 'clarity_VS2', 'clarity_VVS1',\n",
       "       'clarity_VVS2'],\n",
       "      dtype='object')"
      ]
     },
     "execution_count": 66,
     "metadata": {},
     "output_type": "execute_result"
    }
   ],
   "source": [
    "X_train.columns"
   ]
  },
  {
   "cell_type": "code",
   "execution_count": 67,
   "id": "1b9270e3",
   "metadata": {},
   "outputs": [
    {
     "data": {
      "text/plain": [
       "array([9.20660815, 7.94703738, 8.54850786, ..., 6.33155659, 6.39967365,\n",
       "       7.55920992])"
      ]
     },
     "execution_count": 67,
     "metadata": {},
     "output_type": "execute_result"
    }
   ],
   "source": [
    "#Using validation data to check the model performance over prediction\n",
    "reg_pred2 = reg2.predict(X_valid)\n",
    "reg_pred2"
   ]
  },
  {
   "cell_type": "code",
   "execution_count": 68,
   "id": "6f1e6c8b",
   "metadata": {},
   "outputs": [
    {
     "data": {
      "text/plain": [
       "array([9962.7472949 , 2827.18665698, 5159.05063868, ...,  562.03076705,\n",
       "        601.64865915, 1918.32927494])"
      ]
     },
     "execution_count": 68,
     "metadata": {},
     "output_type": "execute_result"
    }
   ],
   "source": [
    "#taking antilog before measuring the error metrics\n",
    "np.exp(reg_pred2)"
   ]
  },
  {
   "cell_type": "code",
   "execution_count": 69,
   "id": "5f5980a9",
   "metadata": {},
   "outputs": [
    {
     "data": {
      "text/plain": [
       "435.6079676128975"
      ]
     },
     "execution_count": 69,
     "metadata": {},
     "output_type": "execute_result"
    }
   ],
   "source": [
    "#MAE (mean absolute error)\n",
    "T2_MAE = np.mean(np.abs(y_valid-np.exp(reg_pred2)))\n",
    "T2_MAE"
   ]
  },
  {
   "cell_type": "code",
   "execution_count": 70,
   "id": "0d6db10c",
   "metadata": {},
   "outputs": [
    {
     "data": {
      "text/plain": [
       "745571.5558161311"
      ]
     },
     "execution_count": 70,
     "metadata": {},
     "output_type": "execute_result"
    }
   ],
   "source": [
    "#MSE\n",
    "T2_MSE = np.mean((y_valid -np.exp(reg_pred2))**2)\n",
    "T2_MSE"
   ]
  },
  {
   "cell_type": "code",
   "execution_count": 71,
   "id": "2e4839b1",
   "metadata": {},
   "outputs": [
    {
     "data": {
      "text/plain": [
       "863.4648549976606"
      ]
     },
     "execution_count": 71,
     "metadata": {},
     "output_type": "execute_result"
    }
   ],
   "source": [
    "#RMSE\n",
    "T2_RMSE = np.sqrt(np.mean((y_valid-np.exp(reg_pred2))**2))\n",
    "T2_RMSE"
   ]
  },
  {
   "cell_type": "code",
   "execution_count": 72,
   "id": "590d4691",
   "metadata": {},
   "outputs": [
    {
     "data": {
      "text/plain": [
       "10.587780746160647"
      ]
     },
     "execution_count": 72,
     "metadata": {},
     "output_type": "execute_result"
    }
   ],
   "source": [
    "#MAPE\n",
    "T2_MAPE = np.mean(np.abs(y_valid-np.exp(reg_pred2))/y_valid)*100\n",
    "T2_MAPE"
   ]
  },
  {
   "cell_type": "markdown",
   "id": "e40eb2c7",
   "metadata": {},
   "source": [
    "##### <U> MODEL TESTING"
   ]
  },
  {
   "cell_type": "code",
   "execution_count": 73,
   "id": "6a1f24ab",
   "metadata": {},
   "outputs": [
    {
     "data": {
      "text/plain": [
       "array([6.859252  , 6.4283629 , 6.56846151, ..., 6.73539125, 8.692901  ,\n",
       "       6.53337227])"
      ]
     },
     "execution_count": 73,
     "metadata": {},
     "output_type": "execute_result"
    }
   ],
   "source": [
    "#Using validation data to check the model performance over prediction\n",
    "reg_pred2 = reg2.predict(X_test)\n",
    "reg_pred2"
   ]
  },
  {
   "cell_type": "code",
   "execution_count": 74,
   "id": "41c51ff1",
   "metadata": {},
   "outputs": [
    {
     "data": {
      "text/plain": [
       "array([ 952.65421339,  619.1594937 ,  712.27317666, ...,  841.67272146,\n",
       "       5960.44841789,  687.71346328])"
      ]
     },
     "execution_count": 74,
     "metadata": {},
     "output_type": "execute_result"
    }
   ],
   "source": [
    "#taking antilog before measuring the error metrics\n",
    "np.exp(reg_pred2)"
   ]
  },
  {
   "cell_type": "code",
   "execution_count": 75,
   "id": "3622eb0b",
   "metadata": {},
   "outputs": [
    {
     "data": {
      "text/plain": [
       "6634.7369798137415"
      ]
     },
     "execution_count": 75,
     "metadata": {},
     "output_type": "execute_result"
    }
   ],
   "source": [
    "#MAE (mean absolute error)\n",
    "T2_MAE_T = np.mean(np.abs(y_test-np.exp(reg_pred2)))\n",
    "T2_MAE_T"
   ]
  },
  {
   "cell_type": "code",
   "execution_count": 76,
   "id": "40f9a035",
   "metadata": {},
   "outputs": [
    {
     "data": {
      "text/plain": [
       "310177813808.39655"
      ]
     },
     "execution_count": 76,
     "metadata": {},
     "output_type": "execute_result"
    }
   ],
   "source": [
    "#MSE\n",
    "T2_MSE_T = np.mean((y_test -np.exp(reg_pred2))**2)\n",
    "T2_MSE_T"
   ]
  },
  {
   "cell_type": "code",
   "execution_count": 77,
   "id": "7c6cacd3",
   "metadata": {},
   "outputs": [
    {
     "data": {
      "text/plain": [
       "556936.094905328"
      ]
     },
     "execution_count": 77,
     "metadata": {},
     "output_type": "execute_result"
    }
   ],
   "source": [
    "#RMSE\n",
    "T2_RMSE_T = np.sqrt(np.mean((y_test-np.exp(reg_pred2))**2))\n",
    "T2_RMSE_T"
   ]
  },
  {
   "cell_type": "code",
   "execution_count": 78,
   "id": "669de587",
   "metadata": {},
   "outputs": [
    {
     "data": {
      "text/plain": [
       "325.138725698602"
      ]
     },
     "execution_count": 78,
     "metadata": {},
     "output_type": "execute_result"
    }
   ],
   "source": [
    "#MAPE\n",
    "T2_MAPE_T = np.mean(np.abs(y_test-np.exp(reg_pred2))/y_test)*100\n",
    "T2_MAPE_T"
   ]
  },
  {
   "cell_type": "markdown",
   "id": "deab7fb6",
   "metadata": {},
   "source": [
    "### <i> <u>TRIAL 3\n",
    " <b> <i>Standardize the Numerical variable: (Z-score)\n",
    " * Standardizing the features makes the mean of the variable to 0 and variance to 1 ,by doing so the model could give equal weightage to all variable. Whereas normalization bring the values between 0 and 1(variance is not altered but the mean is changed to 0)."
   ]
  },
  {
   "cell_type": "code",
   "execution_count": 79,
   "id": "08bfeda3",
   "metadata": {},
   "outputs": [
    {
     "data": {
      "text/plain": [
       "['carat', 'depth', 'table', 'x', 'y', 'z', 'price']"
      ]
     },
     "execution_count": 79,
     "metadata": {},
     "output_type": "execute_result"
    }
   ],
   "source": [
    "# Seperating the continuous and categorical features\n",
    "continuous,category=[],[]\n",
    "for cols in gem2:\n",
    "    if len(gem2[cols].unique())>5:\n",
    "        continuous.append(cols)        \n",
    "    else:\n",
    "        category.append(cols)\n",
    "continuous        "
   ]
  },
  {
   "cell_type": "code",
   "execution_count": 80,
   "id": "6c29bd71",
   "metadata": {},
   "outputs": [],
   "source": [
    "# Using standard scalar\n",
    "from sklearn.preprocessing import StandardScaler\n",
    "\n",
    "scaler = StandardScaler()\n",
    "gem2[continuous]= scaler.fit_transform(gem2[continuous])"
   ]
  },
  {
   "cell_type": "code",
   "execution_count": 81,
   "id": "aa9618e3",
   "metadata": {},
   "outputs": [
    {
     "data": {
      "text/html": [
       "<div>\n",
       "<style scoped>\n",
       "    .dataframe tbody tr th:only-of-type {\n",
       "        vertical-align: middle;\n",
       "    }\n",
       "\n",
       "    .dataframe tbody tr th {\n",
       "        vertical-align: top;\n",
       "    }\n",
       "\n",
       "    .dataframe thead th {\n",
       "        text-align: right;\n",
       "    }\n",
       "</style>\n",
       "<table border=\"1\" class=\"dataframe\">\n",
       "  <thead>\n",
       "    <tr style=\"text-align: right;\">\n",
       "      <th></th>\n",
       "      <th>carat</th>\n",
       "      <th>depth</th>\n",
       "      <th>table</th>\n",
       "      <th>x</th>\n",
       "      <th>y</th>\n",
       "      <th>z</th>\n",
       "      <th>price</th>\n",
       "      <th>cut_Good</th>\n",
       "      <th>cut_Ideal</th>\n",
       "      <th>cut_Premium</th>\n",
       "      <th>...</th>\n",
       "      <th>color_H</th>\n",
       "      <th>color_I</th>\n",
       "      <th>color_J</th>\n",
       "      <th>clarity_IF</th>\n",
       "      <th>clarity_SI1</th>\n",
       "      <th>clarity_SI2</th>\n",
       "      <th>clarity_VS1</th>\n",
       "      <th>clarity_VS2</th>\n",
       "      <th>clarity_VVS1</th>\n",
       "      <th>clarity_VVS2</th>\n",
       "    </tr>\n",
       "  </thead>\n",
       "  <tbody>\n",
       "    <tr>\n",
       "      <th>0</th>\n",
       "      <td>-1.043547</td>\n",
       "      <td>0.254491</td>\n",
       "      <td>0.243737</td>\n",
       "      <td>-1.296116</td>\n",
       "      <td>-1.240176</td>\n",
       "      <td>-1.225062</td>\n",
       "      <td>-0.854828</td>\n",
       "      <td>0</td>\n",
       "      <td>1</td>\n",
       "      <td>0</td>\n",
       "      <td>...</td>\n",
       "      <td>0</td>\n",
       "      <td>0</td>\n",
       "      <td>0</td>\n",
       "      <td>0</td>\n",
       "      <td>1</td>\n",
       "      <td>0</td>\n",
       "      <td>0</td>\n",
       "      <td>0</td>\n",
       "      <td>0</td>\n",
       "      <td>0</td>\n",
       "    </tr>\n",
       "    <tr>\n",
       "      <th>1</th>\n",
       "      <td>-0.980684</td>\n",
       "      <td>-0.678196</td>\n",
       "      <td>0.243737</td>\n",
       "      <td>-1.162932</td>\n",
       "      <td>-1.094124</td>\n",
       "      <td>-1.169302</td>\n",
       "      <td>-0.734256</td>\n",
       "      <td>0</td>\n",
       "      <td>0</td>\n",
       "      <td>1</td>\n",
       "      <td>...</td>\n",
       "      <td>0</td>\n",
       "      <td>0</td>\n",
       "      <td>0</td>\n",
       "      <td>1</td>\n",
       "      <td>0</td>\n",
       "      <td>0</td>\n",
       "      <td>0</td>\n",
       "      <td>0</td>\n",
       "      <td>0</td>\n",
       "      <td>0</td>\n",
       "    </tr>\n",
       "    <tr>\n",
       "      <th>2</th>\n",
       "      <td>0.213713</td>\n",
       "      <td>0.326236</td>\n",
       "      <td>1.139749</td>\n",
       "      <td>0.275452</td>\n",
       "      <td>0.332032</td>\n",
       "      <td>0.336211</td>\n",
       "      <td>0.584584</td>\n",
       "      <td>0</td>\n",
       "      <td>0</td>\n",
       "      <td>0</td>\n",
       "      <td>...</td>\n",
       "      <td>0</td>\n",
       "      <td>0</td>\n",
       "      <td>0</td>\n",
       "      <td>0</td>\n",
       "      <td>0</td>\n",
       "      <td>0</td>\n",
       "      <td>0</td>\n",
       "      <td>0</td>\n",
       "      <td>0</td>\n",
       "      <td>1</td>\n",
       "    </tr>\n",
       "    <tr>\n",
       "      <th>3</th>\n",
       "      <td>-0.792095</td>\n",
       "      <td>-0.104235</td>\n",
       "      <td>-0.652274</td>\n",
       "      <td>-0.807776</td>\n",
       "      <td>-0.802020</td>\n",
       "      <td>-0.806864</td>\n",
       "      <td>-0.709892</td>\n",
       "      <td>0</td>\n",
       "      <td>1</td>\n",
       "      <td>0</td>\n",
       "      <td>...</td>\n",
       "      <td>0</td>\n",
       "      <td>0</td>\n",
       "      <td>0</td>\n",
       "      <td>0</td>\n",
       "      <td>0</td>\n",
       "      <td>0</td>\n",
       "      <td>1</td>\n",
       "      <td>0</td>\n",
       "      <td>0</td>\n",
       "      <td>0</td>\n",
       "    </tr>\n",
       "    <tr>\n",
       "      <th>4</th>\n",
       "      <td>-1.022593</td>\n",
       "      <td>-0.965177</td>\n",
       "      <td>0.691743</td>\n",
       "      <td>-1.225085</td>\n",
       "      <td>-1.119898</td>\n",
       "      <td>-1.239002</td>\n",
       "      <td>-0.785219</td>\n",
       "      <td>0</td>\n",
       "      <td>1</td>\n",
       "      <td>0</td>\n",
       "      <td>...</td>\n",
       "      <td>0</td>\n",
       "      <td>0</td>\n",
       "      <td>0</td>\n",
       "      <td>0</td>\n",
       "      <td>0</td>\n",
       "      <td>0</td>\n",
       "      <td>0</td>\n",
       "      <td>0</td>\n",
       "      <td>1</td>\n",
       "      <td>0</td>\n",
       "    </tr>\n",
       "    <tr>\n",
       "      <th>...</th>\n",
       "      <td>...</td>\n",
       "      <td>...</td>\n",
       "      <td>...</td>\n",
       "      <td>...</td>\n",
       "      <td>...</td>\n",
       "      <td>...</td>\n",
       "      <td>...</td>\n",
       "      <td>...</td>\n",
       "      <td>...</td>\n",
       "      <td>...</td>\n",
       "      <td>...</td>\n",
       "      <td>...</td>\n",
       "      <td>...</td>\n",
       "      <td>...</td>\n",
       "      <td>...</td>\n",
       "      <td>...</td>\n",
       "      <td>...</td>\n",
       "      <td>...</td>\n",
       "      <td>...</td>\n",
       "      <td>...</td>\n",
       "      <td>...</td>\n",
       "    </tr>\n",
       "    <tr>\n",
       "      <th>26962</th>\n",
       "      <td>0.653754</td>\n",
       "      <td>0.397981</td>\n",
       "      <td>0.243737</td>\n",
       "      <td>0.781550</td>\n",
       "      <td>0.675685</td>\n",
       "      <td>0.768349</td>\n",
       "      <td>0.365564</td>\n",
       "      <td>0</td>\n",
       "      <td>0</td>\n",
       "      <td>1</td>\n",
       "      <td>...</td>\n",
       "      <td>0</td>\n",
       "      <td>0</td>\n",
       "      <td>0</td>\n",
       "      <td>0</td>\n",
       "      <td>1</td>\n",
       "      <td>0</td>\n",
       "      <td>0</td>\n",
       "      <td>0</td>\n",
       "      <td>0</td>\n",
       "      <td>0</td>\n",
       "    </tr>\n",
       "    <tr>\n",
       "      <th>26963</th>\n",
       "      <td>-0.980684</td>\n",
       "      <td>0.111000</td>\n",
       "      <td>-1.100279</td>\n",
       "      <td>-1.145174</td>\n",
       "      <td>-1.128489</td>\n",
       "      <td>-1.113543</td>\n",
       "      <td>-0.701937</td>\n",
       "      <td>0</td>\n",
       "      <td>1</td>\n",
       "      <td>0</td>\n",
       "      <td>...</td>\n",
       "      <td>1</td>\n",
       "      <td>0</td>\n",
       "      <td>0</td>\n",
       "      <td>1</td>\n",
       "      <td>0</td>\n",
       "      <td>0</td>\n",
       "      <td>0</td>\n",
       "      <td>0</td>\n",
       "      <td>0</td>\n",
       "      <td>0</td>\n",
       "    </tr>\n",
       "    <tr>\n",
       "      <th>26964</th>\n",
       "      <td>-0.603506</td>\n",
       "      <td>-0.032490</td>\n",
       "      <td>0.243737</td>\n",
       "      <td>-0.541408</td>\n",
       "      <td>-0.501324</td>\n",
       "      <td>-0.514126</td>\n",
       "      <td>-0.567194</td>\n",
       "      <td>0</td>\n",
       "      <td>0</td>\n",
       "      <td>1</td>\n",
       "      <td>...</td>\n",
       "      <td>0</td>\n",
       "      <td>0</td>\n",
       "      <td>0</td>\n",
       "      <td>0</td>\n",
       "      <td>0</td>\n",
       "      <td>0</td>\n",
       "      <td>0</td>\n",
       "      <td>1</td>\n",
       "      <td>0</td>\n",
       "      <td>0</td>\n",
       "    </tr>\n",
       "    <tr>\n",
       "      <th>26965</th>\n",
       "      <td>-1.106410</td>\n",
       "      <td>0.039255</td>\n",
       "      <td>-0.652274</td>\n",
       "      <td>-1.367147</td>\n",
       "      <td>-1.317498</td>\n",
       "      <td>-1.308702</td>\n",
       "      <td>-0.809334</td>\n",
       "      <td>0</td>\n",
       "      <td>0</td>\n",
       "      <td>0</td>\n",
       "      <td>...</td>\n",
       "      <td>0</td>\n",
       "      <td>0</td>\n",
       "      <td>0</td>\n",
       "      <td>0</td>\n",
       "      <td>0</td>\n",
       "      <td>0</td>\n",
       "      <td>0</td>\n",
       "      <td>0</td>\n",
       "      <td>0</td>\n",
       "      <td>1</td>\n",
       "    </tr>\n",
       "    <tr>\n",
       "      <th>26966</th>\n",
       "      <td>0.947114</td>\n",
       "      <td>0.182746</td>\n",
       "      <td>0.243737</td>\n",
       "      <td>1.039038</td>\n",
       "      <td>0.984972</td>\n",
       "      <td>1.019267</td>\n",
       "      <td>0.305402</td>\n",
       "      <td>0</td>\n",
       "      <td>0</td>\n",
       "      <td>1</td>\n",
       "      <td>...</td>\n",
       "      <td>0</td>\n",
       "      <td>0</td>\n",
       "      <td>1</td>\n",
       "      <td>0</td>\n",
       "      <td>1</td>\n",
       "      <td>0</td>\n",
       "      <td>0</td>\n",
       "      <td>0</td>\n",
       "      <td>0</td>\n",
       "      <td>0</td>\n",
       "    </tr>\n",
       "  </tbody>\n",
       "</table>\n",
       "<p>26933 rows × 24 columns</p>\n",
       "</div>"
      ],
      "text/plain": [
       "          carat     depth     table         x         y         z     price  \\\n",
       "0     -1.043547  0.254491  0.243737 -1.296116 -1.240176 -1.225062 -0.854828   \n",
       "1     -0.980684 -0.678196  0.243737 -1.162932 -1.094124 -1.169302 -0.734256   \n",
       "2      0.213713  0.326236  1.139749  0.275452  0.332032  0.336211  0.584584   \n",
       "3     -0.792095 -0.104235 -0.652274 -0.807776 -0.802020 -0.806864 -0.709892   \n",
       "4     -1.022593 -0.965177  0.691743 -1.225085 -1.119898 -1.239002 -0.785219   \n",
       "...         ...       ...       ...       ...       ...       ...       ...   \n",
       "26962  0.653754  0.397981  0.243737  0.781550  0.675685  0.768349  0.365564   \n",
       "26963 -0.980684  0.111000 -1.100279 -1.145174 -1.128489 -1.113543 -0.701937   \n",
       "26964 -0.603506 -0.032490  0.243737 -0.541408 -0.501324 -0.514126 -0.567194   \n",
       "26965 -1.106410  0.039255 -0.652274 -1.367147 -1.317498 -1.308702 -0.809334   \n",
       "26966  0.947114  0.182746  0.243737  1.039038  0.984972  1.019267  0.305402   \n",
       "\n",
       "       cut_Good  cut_Ideal  cut_Premium  ...  color_H  color_I  color_J  \\\n",
       "0             0          1            0  ...        0        0        0   \n",
       "1             0          0            1  ...        0        0        0   \n",
       "2             0          0            0  ...        0        0        0   \n",
       "3             0          1            0  ...        0        0        0   \n",
       "4             0          1            0  ...        0        0        0   \n",
       "...         ...        ...          ...  ...      ...      ...      ...   \n",
       "26962         0          0            1  ...        0        0        0   \n",
       "26963         0          1            0  ...        1        0        0   \n",
       "26964         0          0            1  ...        0        0        0   \n",
       "26965         0          0            0  ...        0        0        0   \n",
       "26966         0          0            1  ...        0        0        1   \n",
       "\n",
       "       clarity_IF  clarity_SI1  clarity_SI2  clarity_VS1  clarity_VS2  \\\n",
       "0               0            1            0            0            0   \n",
       "1               1            0            0            0            0   \n",
       "2               0            0            0            0            0   \n",
       "3               0            0            0            1            0   \n",
       "4               0            0            0            0            0   \n",
       "...           ...          ...          ...          ...          ...   \n",
       "26962           0            1            0            0            0   \n",
       "26963           1            0            0            0            0   \n",
       "26964           0            0            0            0            1   \n",
       "26965           0            0            0            0            0   \n",
       "26966           0            1            0            0            0   \n",
       "\n",
       "       clarity_VVS1  clarity_VVS2  \n",
       "0                 0             0  \n",
       "1                 0             0  \n",
       "2                 0             1  \n",
       "3                 0             0  \n",
       "4                 1             0  \n",
       "...             ...           ...  \n",
       "26962             0             0  \n",
       "26963             0             0  \n",
       "26964             0             0  \n",
       "26965             0             1  \n",
       "26966             0             0  \n",
       "\n",
       "[26933 rows x 24 columns]"
      ]
     },
     "execution_count": 81,
     "metadata": {},
     "output_type": "execute_result"
    }
   ],
   "source": [
    "gem2"
   ]
  },
  {
   "cell_type": "markdown",
   "id": "80600a79",
   "metadata": {},
   "source": [
    "#### <I>SPLITTING DATASET INTO TRAIN VALIDATION SPLIT ON STANDARDIZED DATA"
   ]
  },
  {
   "cell_type": "code",
   "execution_count": 82,
   "id": "421f5871",
   "metadata": {},
   "outputs": [],
   "source": [
    "X=gem2.drop('price',axis=1)\n",
    "y=gem2.pop('price')"
   ]
  },
  {
   "cell_type": "code",
   "execution_count": 83,
   "id": "afbd5c36",
   "metadata": {},
   "outputs": [],
   "source": [
    "#Train test split\n",
    "X_train,X_test,y_train,y_test=train_test_split(X,y,test_size=0.3,random_state=42)"
   ]
  },
  {
   "cell_type": "code",
   "execution_count": 84,
   "id": "adb32012",
   "metadata": {},
   "outputs": [
    {
     "name": "stdout",
     "output_type": "stream",
     "text": [
      "(18853, 23)\n",
      "(18853,)\n",
      "(8080, 23)\n",
      "(8080,)\n"
     ]
    }
   ],
   "source": [
    "#Whole data is splitted into Train and Test\n",
    "print(X_train.shape)\n",
    "print(y_train.shape)\n",
    "print(X_test.shape)\n",
    "print(y_test.shape)"
   ]
  },
  {
   "cell_type": "code",
   "execution_count": 85,
   "id": "7c17a789",
   "metadata": {},
   "outputs": [],
   "source": [
    "#Train Validation split\n",
    "X_train,X_valid,y_train,y_valid = train_test_split(X_train,y_train,test_size=0.43,random_state=42) "
   ]
  },
  {
   "cell_type": "code",
   "execution_count": 86,
   "id": "e3400dfa",
   "metadata": {},
   "outputs": [
    {
     "name": "stdout",
     "output_type": "stream",
     "text": [
      "(10746, 23)\n",
      "(10746,)\n",
      "(8107, 23)\n",
      "(8107,)\n"
     ]
    }
   ],
   "source": [
    "#Train data is splitted into Train and validation(70:30)\n",
    "print(X_train.shape)\n",
    "print(y_train.shape)\n",
    "print(X_valid.shape)\n",
    "print(y_valid.shape)"
   ]
  },
  {
   "cell_type": "markdown",
   "id": "6978bd8b",
   "metadata": {},
   "source": [
    "##### <U>MODEL TRAINING"
   ]
  },
  {
   "cell_type": "code",
   "execution_count": 87,
   "id": "fa3e5b20",
   "metadata": {},
   "outputs": [
    {
     "data": {
      "text/plain": [
       "LinearRegression()"
      ]
     },
     "execution_count": 87,
     "metadata": {},
     "output_type": "execute_result"
    }
   ],
   "source": [
    "#Fitting the linear model to the train dataset for the model to get trained\n",
    "reg3 = LinearRegression()\n",
    "reg3.fit(X_train,y_train)"
   ]
  },
  {
   "cell_type": "code",
   "execution_count": 88,
   "id": "d32d9a25",
   "metadata": {},
   "outputs": [
    {
     "data": {
      "text/plain": [
       "-1.022731942916867"
      ]
     },
     "execution_count": 88,
     "metadata": {},
     "output_type": "execute_result"
    }
   ],
   "source": [
    "#Point of intercept of the Regression line over yaxis\n",
    "reg3.intercept_"
   ]
  },
  {
   "cell_type": "code",
   "execution_count": 89,
   "id": "193c3ecb",
   "metadata": {},
   "outputs": [
    {
     "data": {
      "text/plain": [
       "array([ 1.37783534, -0.00599625, -0.00748065, -0.20016503,  0.01068997,\n",
       "       -0.1390702 ,  0.13511946,  0.22088779,  0.18437497,  0.17575417,\n",
       "       -0.04828069, -0.07116126, -0.12498178, -0.24424592, -0.38589272,\n",
       "       -0.60138705,  1.30429079,  0.90939065,  0.65613281,  1.14115918,\n",
       "        1.06323821,  1.24728033,  1.22442081])"
      ]
     },
     "execution_count": 89,
     "metadata": {},
     "output_type": "execute_result"
    }
   ],
   "source": [
    "#the regressors of each predictor variable  which determines the prediction\n",
    "reg3.coef_"
   ]
  },
  {
   "cell_type": "code",
   "execution_count": 90,
   "id": "5ec02f01",
   "metadata": {},
   "outputs": [
    {
     "data": {
      "text/plain": [
       "0.9218502152100582"
      ]
     },
     "execution_count": 90,
     "metadata": {},
     "output_type": "execute_result"
    }
   ],
   "source": [
    "#Rsquare value gives the fitness of the model with data(proportion of explained error over total error in prediction)\n",
    "T3_R2 = reg3.score(X_train,y_train)\n",
    "T3_R2"
   ]
  },
  {
   "cell_type": "markdown",
   "id": "0881600f",
   "metadata": {},
   "source": [
    "##### <U> MODEL VALIDATION"
   ]
  },
  {
   "cell_type": "code",
   "execution_count": 91,
   "id": "56d30fbc",
   "metadata": {},
   "outputs": [
    {
     "data": {
      "text/plain": [
       "Index(['carat', 'depth', 'table', 'x', 'y', 'z', 'cut_Good', 'cut_Ideal',\n",
       "       'cut_Premium', 'cut_Very Good', 'color_E', 'color_F', 'color_G',\n",
       "       'color_H', 'color_I', 'color_J', 'clarity_IF', 'clarity_SI1',\n",
       "       'clarity_SI2', 'clarity_VS1', 'clarity_VS2', 'clarity_VVS1',\n",
       "       'clarity_VVS2'],\n",
       "      dtype='object')"
      ]
     },
     "execution_count": 91,
     "metadata": {},
     "output_type": "execute_result"
    }
   ],
   "source": [
    "X_train.columns"
   ]
  },
  {
   "cell_type": "code",
   "execution_count": 92,
   "id": "166e8235",
   "metadata": {},
   "outputs": [
    {
     "data": {
      "text/plain": [
       "array([ 2.23563781, -0.26586611,  0.47914347, ..., -0.93553495,\n",
       "       -0.85550699, -0.39516027])"
      ]
     },
     "execution_count": 92,
     "metadata": {},
     "output_type": "execute_result"
    }
   ],
   "source": [
    "#Using validation data to check the model performance over prediction\n",
    "reg_pred3 = reg3.predict(X_valid)\n",
    "reg_pred3"
   ]
  },
  {
   "cell_type": "code",
   "execution_count": 93,
   "id": "2f47b2ac",
   "metadata": {},
   "outputs": [
    {
     "data": {
      "text/plain": [
       "0.1829739362386376"
      ]
     },
     "execution_count": 93,
     "metadata": {},
     "output_type": "execute_result"
    }
   ],
   "source": [
    "#MAE (mean absolute error)\n",
    "T3_MAE = np.mean(np.abs(y_valid-reg_pred3))\n",
    "T3_MAE"
   ]
  },
  {
   "cell_type": "code",
   "execution_count": 94,
   "id": "c11bca26",
   "metadata": {},
   "outputs": [
    {
     "data": {
      "text/plain": [
       "0.07822381175304365"
      ]
     },
     "execution_count": 94,
     "metadata": {},
     "output_type": "execute_result"
    }
   ],
   "source": [
    "#MSE\n",
    "T3_MSE = np.mean((y_valid -reg_pred3)**2)\n",
    "T3_MSE"
   ]
  },
  {
   "cell_type": "code",
   "execution_count": 95,
   "id": "74b52649",
   "metadata": {},
   "outputs": [
    {
     "data": {
      "text/plain": [
       "0.27968520116917817"
      ]
     },
     "execution_count": 95,
     "metadata": {},
     "output_type": "execute_result"
    }
   ],
   "source": [
    "#RMSE\n",
    "T3_RMSE =np.sqrt(np.mean((y_valid-reg_pred3)**2))\n",
    "T3_RMSE"
   ]
  },
  {
   "cell_type": "code",
   "execution_count": 96,
   "id": "e3b4abdb",
   "metadata": {},
   "outputs": [
    {
     "data": {
      "text/plain": [
       "-29.07355065960204"
      ]
     },
     "execution_count": 96,
     "metadata": {},
     "output_type": "execute_result"
    }
   ],
   "source": [
    "#MAPE (since we have standarized all the features,the mape value droped to negative which is uninterpretable)\n",
    "T3_MAPE = np.mean(np.abs(y_valid-reg_pred3)/y_valid)*100\n",
    "T3_MAPE"
   ]
  },
  {
   "cell_type": "markdown",
   "id": "47c98f86",
   "metadata": {},
   "source": [
    "##### <U> MODEL TESTING"
   ]
  },
  {
   "cell_type": "code",
   "execution_count": 97,
   "id": "faf5a8b1",
   "metadata": {},
   "outputs": [
    {
     "data": {
      "text/plain": [
       "array([-0.74468879, -0.99742126, -1.18106661, ..., -1.06741481,\n",
       "        0.55102577, -0.87079969])"
      ]
     },
     "execution_count": 97,
     "metadata": {},
     "output_type": "execute_result"
    }
   ],
   "source": [
    "#Using validation data to check the model performance over prediction\n",
    "reg_pred3 = reg3.predict(X_test)\n",
    "reg_pred3"
   ]
  },
  {
   "cell_type": "code",
   "execution_count": 98,
   "id": "f83bba57",
   "metadata": {},
   "outputs": [
    {
     "data": {
      "text/plain": [
       "0.18578661553332979"
      ]
     },
     "execution_count": 98,
     "metadata": {},
     "output_type": "execute_result"
    }
   ],
   "source": [
    "#MAE (mean absolute error)\n",
    "T3_MAE_T = np.mean(np.abs(y_test-reg_pred3))\n",
    "T3_MAE_T"
   ]
  },
  {
   "cell_type": "code",
   "execution_count": 99,
   "id": "bf87b6d6",
   "metadata": {},
   "outputs": [
    {
     "data": {
      "text/plain": [
       "0.08371650281942826"
      ]
     },
     "execution_count": 99,
     "metadata": {},
     "output_type": "execute_result"
    }
   ],
   "source": [
    "#MSE\n",
    "T3_MSE_T = np.mean((y_test -reg_pred3)**2)\n",
    "T3_MSE_T"
   ]
  },
  {
   "cell_type": "code",
   "execution_count": 100,
   "id": "bf8241a2",
   "metadata": {},
   "outputs": [
    {
     "data": {
      "text/plain": [
       "0.28933804246836997"
      ]
     },
     "execution_count": 100,
     "metadata": {},
     "output_type": "execute_result"
    }
   ],
   "source": [
    "#RMSE\n",
    "T3_RMSE_T =np.sqrt(np.mean((y_test-reg_pred3)**2))\n",
    "T3_RMSE_T"
   ]
  },
  {
   "cell_type": "code",
   "execution_count": 101,
   "id": "3347539b",
   "metadata": {},
   "outputs": [
    {
     "data": {
      "text/plain": [
       "-15.85677530173529"
      ]
     },
     "execution_count": 101,
     "metadata": {},
     "output_type": "execute_result"
    }
   ],
   "source": [
    "#MAPE (since we have standarized all the features,the mape value droped to negative which is uninterpretable)\n",
    "T3_MAPE_T = np.mean(np.abs(y_test-reg_pred3)/y_test)*100\n",
    "T3_MAPE_T"
   ]
  },
  {
   "cell_type": "markdown",
   "id": "843f8028",
   "metadata": {},
   "source": [
    "### <i> <u>TRIAL 4\n",
    " <b> <i>Measure multicollinearity between Independent Variables\n",
    " * When two variables are highly colinear then the coefficient's standard error between them will be high and it will affect the p value which will result in dropping an influential variable,however this will not affect the prediction accuracy."
   ]
  },
  {
   "cell_type": "code",
   "execution_count": 102,
   "id": "aa2910de",
   "metadata": {},
   "outputs": [
    {
     "data": {
      "text/plain": [
       "(10746, 23)"
      ]
     },
     "execution_count": 102,
     "metadata": {},
     "output_type": "execute_result"
    }
   ],
   "source": [
    "X_train.shape"
   ]
  },
  {
   "cell_type": "code",
   "execution_count": 103,
   "id": "76f07f54",
   "metadata": {
    "scrolled": false
   },
   "outputs": [],
   "source": [
    "# Measure multiple correlation between independent variables\n",
    "from statsmodels.stats.outliers_influence import variance_inflation_factor\n",
    "vif = [variance_inflation_factor(X_train.values, ix) for ix in range (X_train.shape[1])]"
   ]
  },
  {
   "cell_type": "markdown",
   "id": "272583ff",
   "metadata": {},
   "source": [
    "### VIF(Variance Inflation Factor)"
   ]
  },
  {
   "cell_type": "code",
   "execution_count": 104,
   "id": "7247b76c",
   "metadata": {},
   "outputs": [
    {
     "name": "stdout",
     "output_type": "stream",
     "text": [
      "carat : 25.688430330815336\n",
      "depth : 4.357694097387769\n",
      "table : 1.7066202027114314\n",
      "x : 191.40136389411242\n",
      "y : 9.210970235055216\n",
      "z : 214.07585473423785\n",
      "cut_Good : 3.5918173041053127\n",
      "cut_Ideal : 14.503372908536482\n",
      "cut_Premium : 8.824488813424562\n",
      "cut_Very Good : 7.662719670177667\n",
      "color_E : 2.4253065487137215\n",
      "color_F : 2.3566090434322273\n",
      "color_G : 2.7065131969033542\n",
      "color_H : 2.236670266875659\n",
      "color_I : 1.8490167983444987\n",
      "color_J : 1.4810550586074882\n",
      "clarity_IF : 2.289578343829282\n",
      "clarity_SI1 : 8.733968886292928\n",
      "clarity_SI2 : 6.337677163099932\n",
      "clarity_VS1 : 6.410267422847127\n",
      "clarity_VS2 : 8.663424971950173\n",
      "clarity_VVS1 : 3.505862858799554\n",
      "clarity_VVS2 : 4.306794096643457\n"
     ]
    }
   ],
   "source": [
    "i = 0\n",
    "for column in X_train.columns:\n",
    "    if i < 30:\n",
    "        print(column, \":\", vif[i])\n",
    "        i=i+1"
   ]
  },
  {
   "cell_type": "markdown",
   "id": "32fdf688",
   "metadata": {},
   "source": [
    "* <b>We can see variables which has high VIF such as Dimensions(x,y,z) and Carat.These variables are more\n",
    "  important for the prediction,they have good explanatory power over the targets(correlation from EDA shows that).\n",
    "  Therefore we will move to the next variable which is CUT and drop it."
   ]
  },
  {
   "cell_type": "code",
   "execution_count": 105,
   "id": "a0f58b33",
   "metadata": {},
   "outputs": [],
   "source": [
    "#Dropping all related \"cut\" dummy variables\n",
    "X_train = X_train.drop([\"cut_Good\",\"cut_Ideal\",\"cut_Premium\",\"cut_Very Good\"],axis=1)"
   ]
  },
  {
   "cell_type": "code",
   "execution_count": 106,
   "id": "a746761a",
   "metadata": {
    "scrolled": false
   },
   "outputs": [],
   "source": [
    "vif = [variance_inflation_factor(X_train.values, ix) for ix in range (X_train.shape[1])]"
   ]
  },
  {
   "cell_type": "code",
   "execution_count": 107,
   "id": "52b10e54",
   "metadata": {
    "scrolled": true
   },
   "outputs": [
    {
     "name": "stdout",
     "output_type": "stream",
     "text": [
      "carat : 25.619902174789623\n",
      "depth : 4.194692067875249\n",
      "table : 1.1549003407320924\n",
      "x : 188.7020008565162\n",
      "y : 9.196143146841962\n",
      "z : 211.33719657705703\n",
      "color_E : 2.3902711607491605\n",
      "color_F : 2.3361544825698917\n",
      "color_G : 2.667798925570674\n",
      "color_H : 2.2091065201417677\n",
      "color_I : 1.8311202160393376\n",
      "color_J : 1.4761084485414355\n",
      "clarity_IF : 1.355813449186244\n",
      "clarity_SI1 : 2.4805913609194428\n",
      "clarity_SI2 : 2.0590431431729606\n",
      "clarity_VS1 : 2.2051489378459452\n",
      "clarity_VS2 : 2.530985297651791\n",
      "clarity_VVS1 : 1.6373627372252617\n",
      "clarity_VVS2 : 1.7414861608458259\n"
     ]
    }
   ],
   "source": [
    "#VIF check again\n",
    "i = 0\n",
    "for column in X_train.columns:\n",
    "    if i < 30:\n",
    "        print(column, \":\", vif[i])\n",
    "        i=i+1"
   ]
  },
  {
   "cell_type": "markdown",
   "id": "0af96f42",
   "metadata": {},
   "source": [
    "*<b> We can see all the VIF of other variables have literally dropped very much which shows that multicollinearity has reduced a lot between variables.However as we said before it will not affect the prediction much."
   ]
  },
  {
   "cell_type": "markdown",
   "id": "5d6aa6af",
   "metadata": {},
   "source": [
    "##### <U>MODEL TRAINING"
   ]
  },
  {
   "cell_type": "code",
   "execution_count": 108,
   "id": "0819c02c",
   "metadata": {},
   "outputs": [
    {
     "data": {
      "text/plain": [
       "LinearRegression()"
      ]
     },
     "execution_count": 108,
     "metadata": {},
     "output_type": "execute_result"
    }
   ],
   "source": [
    "#Fitting the linear model to the train dataset for the model to get trained\n",
    "reg4 = LinearRegression()\n",
    "reg4.fit(X_train,y_train)"
   ]
  },
  {
   "cell_type": "code",
   "execution_count": 109,
   "id": "e2c16f6d",
   "metadata": {},
   "outputs": [
    {
     "data": {
      "text/plain": [
       "-0.8653671157751034"
      ]
     },
     "execution_count": 109,
     "metadata": {},
     "output_type": "execute_result"
    }
   ],
   "source": [
    "#Point of intercept of the Regression line over yaxis\n",
    "reg4.intercept_"
   ]
  },
  {
   "cell_type": "code",
   "execution_count": 110,
   "id": "3612c372",
   "metadata": {},
   "outputs": [
    {
     "data": {
      "text/plain": [
       "array([ 1.38130629, -0.02230843, -0.02858164, -0.19964516,  0.01069482,\n",
       "       -0.14380982, -0.04900697, -0.07556015, -0.12561465, -0.24574547,\n",
       "       -0.38586771, -0.60514726,  1.3410753 ,  0.93900877,  0.68251057,\n",
       "        1.17380124,  1.09701624,  1.2836473 ,  1.25904142])"
      ]
     },
     "execution_count": 110,
     "metadata": {},
     "output_type": "execute_result"
    }
   ],
   "source": [
    "#the regressors of each predictor variable  which determines the prediction\n",
    "reg4.coef_"
   ]
  },
  {
   "cell_type": "code",
   "execution_count": 111,
   "id": "529cc00c",
   "metadata": {},
   "outputs": [
    {
     "data": {
      "text/plain": [
       "0.920657617147512"
      ]
     },
     "execution_count": 111,
     "metadata": {},
     "output_type": "execute_result"
    }
   ],
   "source": [
    "#Rsquare value gives the fitness of the model with data(proportion of explained error over total error in prediction)\n",
    "T4_R2 = reg4.score(X_train,y_train)\n",
    "T4_R2"
   ]
  },
  {
   "cell_type": "markdown",
   "id": "1ff608fb",
   "metadata": {},
   "source": [
    "##### <U> MODEL VALIDATION"
   ]
  },
  {
   "cell_type": "code",
   "execution_count": 112,
   "id": "ba3dba7f",
   "metadata": {},
   "outputs": [
    {
     "data": {
      "text/plain": [
       "Index(['carat', 'depth', 'table', 'x', 'y', 'z', 'color_E', 'color_F',\n",
       "       'color_G', 'color_H', 'color_I', 'color_J', 'clarity_IF', 'clarity_SI1',\n",
       "       'clarity_SI2', 'clarity_VS1', 'clarity_VS2', 'clarity_VVS1',\n",
       "       'clarity_VVS2'],\n",
       "      dtype='object')"
      ]
     },
     "execution_count": 112,
     "metadata": {},
     "output_type": "execute_result"
    }
   ],
   "source": [
    "X_train.columns"
   ]
  },
  {
   "cell_type": "code",
   "execution_count": 113,
   "id": "1136f31f",
   "metadata": {},
   "outputs": [],
   "source": [
    "X_valid = X_valid.drop([\"cut_Good\",\"cut_Ideal\",\"cut_Premium\",\"cut_Very Good\"],axis=1)"
   ]
  },
  {
   "cell_type": "code",
   "execution_count": 114,
   "id": "0d1b3dca",
   "metadata": {},
   "outputs": [
    {
     "data": {
      "text/plain": [
       "array([ 2.25104965, -0.26741033,  0.45863151, ..., -0.98079847,\n",
       "       -0.87368434, -0.39082959])"
      ]
     },
     "execution_count": 114,
     "metadata": {},
     "output_type": "execute_result"
    }
   ],
   "source": [
    "#Using validation data to check the model performance over prediction\n",
    "reg_pred4 = reg4.predict(X_valid)\n",
    "reg_pred4"
   ]
  },
  {
   "cell_type": "code",
   "execution_count": 115,
   "id": "566c9bd0",
   "metadata": {},
   "outputs": [
    {
     "data": {
      "text/plain": [
       "0.18372279866536406"
      ]
     },
     "execution_count": 115,
     "metadata": {},
     "output_type": "execute_result"
    }
   ],
   "source": [
    "#MAE (mean absolute error)\n",
    "T4_MAE = np.mean(np.abs(y_valid-reg_pred4))\n",
    "T4_MAE"
   ]
  },
  {
   "cell_type": "code",
   "execution_count": 116,
   "id": "2bdd737d",
   "metadata": {},
   "outputs": [
    {
     "data": {
      "text/plain": [
       "0.07874610700404135"
      ]
     },
     "execution_count": 116,
     "metadata": {},
     "output_type": "execute_result"
    }
   ],
   "source": [
    "#MSE\n",
    "T4_MSE = np.mean((y_valid -reg_pred4)**2)\n",
    "T4_MSE"
   ]
  },
  {
   "cell_type": "code",
   "execution_count": 117,
   "id": "dc21a0e7",
   "metadata": {},
   "outputs": [
    {
     "data": {
      "text/plain": [
       "0.28061736760942174"
      ]
     },
     "execution_count": 117,
     "metadata": {},
     "output_type": "execute_result"
    }
   ],
   "source": [
    "#RMSE\n",
    "T4_RMSE =np.sqrt(np.mean((y_valid-reg_pred4)**2))\n",
    "T4_RMSE"
   ]
  },
  {
   "cell_type": "code",
   "execution_count": 118,
   "id": "155c16ff",
   "metadata": {},
   "outputs": [
    {
     "data": {
      "text/plain": [
       "-25.21227209675842"
      ]
     },
     "execution_count": 118,
     "metadata": {},
     "output_type": "execute_result"
    }
   ],
   "source": [
    "#MAPE (since we have standarized all the features,the mape value droped to negative which is uninterpretable)\n",
    "T4_MAPE = np.mean(np.abs(y_valid-reg_pred4)/y_valid)*100\n",
    "T4_MAPE"
   ]
  },
  {
   "cell_type": "markdown",
   "id": "bd4b3e37",
   "metadata": {},
   "source": [
    "##### <U> MODEL TESTING"
   ]
  },
  {
   "cell_type": "code",
   "execution_count": 119,
   "id": "bcc6db1b",
   "metadata": {},
   "outputs": [],
   "source": [
    "X_test = X_test.drop([\"cut_Good\",\"cut_Ideal\",\"cut_Premium\",\"cut_Very Good\"],axis=1)"
   ]
  },
  {
   "cell_type": "code",
   "execution_count": 120,
   "id": "c7669055",
   "metadata": {},
   "outputs": [
    {
     "data": {
      "text/plain": [
       "array([-0.75304204, -1.0073311 , -1.19026025, ..., -1.06828881,\n",
       "        0.53817379, -0.88492401])"
      ]
     },
     "execution_count": 120,
     "metadata": {},
     "output_type": "execute_result"
    }
   ],
   "source": [
    "#Using validation data to check the model performance over prediction\n",
    "reg_pred4 = reg4.predict(X_test)\n",
    "reg_pred4"
   ]
  },
  {
   "cell_type": "code",
   "execution_count": 121,
   "id": "7280af6e",
   "metadata": {},
   "outputs": [
    {
     "data": {
      "text/plain": [
       "0.18664300620518245"
      ]
     },
     "execution_count": 121,
     "metadata": {},
     "output_type": "execute_result"
    }
   ],
   "source": [
    "#MAE (mean absolute error)\n",
    "T4_MAE_T = np.mean(np.abs(y_test-reg_pred4))\n",
    "T4_MAE_T"
   ]
  },
  {
   "cell_type": "code",
   "execution_count": 122,
   "id": "42d4bf85",
   "metadata": {},
   "outputs": [
    {
     "data": {
      "text/plain": [
       "0.0847159113784274"
      ]
     },
     "execution_count": 122,
     "metadata": {},
     "output_type": "execute_result"
    }
   ],
   "source": [
    "#MSE\n",
    "T4_MSE_T = np.mean((y_test -reg_pred4)**2)\n",
    "T4_MSE_T"
   ]
  },
  {
   "cell_type": "code",
   "execution_count": 123,
   "id": "5078566a",
   "metadata": {},
   "outputs": [
    {
     "data": {
      "text/plain": [
       "0.2910599790050625"
      ]
     },
     "execution_count": 123,
     "metadata": {},
     "output_type": "execute_result"
    }
   ],
   "source": [
    "#RMSE\n",
    "T4_RMSE_T =np.sqrt(np.mean((y_test-reg_pred4)**2))\n",
    "T4_RMSE_T"
   ]
  },
  {
   "cell_type": "code",
   "execution_count": 124,
   "id": "448e1892",
   "metadata": {},
   "outputs": [
    {
     "data": {
      "text/plain": [
       "-14.980565749332058"
      ]
     },
     "execution_count": 124,
     "metadata": {},
     "output_type": "execute_result"
    }
   ],
   "source": [
    "#MAPE (since we have standarized all the features,the mape value droped to negative which is uninterpretable)\n",
    "T4_MAPE_T = np.mean(np.abs(y_test-reg_pred4)/y_test)*100\n",
    "T4_MAPE_T"
   ]
  },
  {
   "cell_type": "markdown",
   "id": "1b13ba32",
   "metadata": {},
   "source": [
    "#### PERFORMANCE OF LINEAR REGRESSION MODEL ON VALIDATION DATA FOR DIFFERENT TRIALS"
   ]
  },
  {
   "cell_type": "code",
   "execution_count": 125,
   "id": "cd89a3db",
   "metadata": {},
   "outputs": [
    {
     "data": {
      "text/html": [
       "<div>\n",
       "<style scoped>\n",
       "    .dataframe tbody tr th:only-of-type {\n",
       "        vertical-align: middle;\n",
       "    }\n",
       "\n",
       "    .dataframe tbody tr th {\n",
       "        vertical-align: top;\n",
       "    }\n",
       "\n",
       "    .dataframe thead th {\n",
       "        text-align: right;\n",
       "    }\n",
       "</style>\n",
       "<table border=\"1\" class=\"dataframe\">\n",
       "  <thead>\n",
       "    <tr style=\"text-align: right;\">\n",
       "      <th></th>\n",
       "      <th>R-Square</th>\n",
       "      <th>MAE</th>\n",
       "      <th>MSE</th>\n",
       "      <th>RMSE</th>\n",
       "      <th>MAPE</th>\n",
       "    </tr>\n",
       "  </thead>\n",
       "  <tbody>\n",
       "    <tr>\n",
       "      <th>All variables</th>\n",
       "      <td>0.921850</td>\n",
       "      <td>736.008484</td>\n",
       "      <td>1.265687e+06</td>\n",
       "      <td>1125.027341</td>\n",
       "      <td>40.149107</td>\n",
       "    </tr>\n",
       "    <tr>\n",
       "      <th>Log transformation of y</th>\n",
       "      <td>0.981697</td>\n",
       "      <td>435.607968</td>\n",
       "      <td>7.455716e+05</td>\n",
       "      <td>863.464855</td>\n",
       "      <td>10.587781</td>\n",
       "    </tr>\n",
       "    <tr>\n",
       "      <th>Standardizing Numerical variables</th>\n",
       "      <td>0.921850</td>\n",
       "      <td>0.182974</td>\n",
       "      <td>7.822381e-02</td>\n",
       "      <td>0.279685</td>\n",
       "      <td>-29.073551</td>\n",
       "    </tr>\n",
       "    <tr>\n",
       "      <th>Droping variables with high VIF with std.data</th>\n",
       "      <td>0.920658</td>\n",
       "      <td>0.183723</td>\n",
       "      <td>7.874611e-02</td>\n",
       "      <td>0.280617</td>\n",
       "      <td>-25.212272</td>\n",
       "    </tr>\n",
       "  </tbody>\n",
       "</table>\n",
       "</div>"
      ],
      "text/plain": [
       "                                               R-Square         MAE  \\\n",
       "All variables                                  0.921850  736.008484   \n",
       "Log transformation of y                        0.981697  435.607968   \n",
       "Standardizing Numerical variables              0.921850    0.182974   \n",
       "Droping variables with high VIF with std.data  0.920658    0.183723   \n",
       "\n",
       "                                                        MSE         RMSE  \\\n",
       "All variables                                  1.265687e+06  1125.027341   \n",
       "Log transformation of y                        7.455716e+05   863.464855   \n",
       "Standardizing Numerical variables              7.822381e-02     0.279685   \n",
       "Droping variables with high VIF with std.data  7.874611e-02     0.280617   \n",
       "\n",
       "                                                    MAPE  \n",
       "All variables                                  40.149107  \n",
       "Log transformation of y                        10.587781  \n",
       "Standardizing Numerical variables             -29.073551  \n",
       "Droping variables with high VIF with std.data -25.212272  "
      ]
     },
     "execution_count": 125,
     "metadata": {},
     "output_type": "execute_result"
    }
   ],
   "source": [
    "i = [\"All variables\",\"Log transformation of y\",\"Standardizing Numerical variables\",\"Droping variables with high VIF with std.data\"]\n",
    "train_result = pd.DataFrame({\"R-Square\":[T1_R2,T2_R2,T3_R2,T4_R2],\n",
    "                       \"MAE\":[T1_MAE,T2_MAE,T3_MAE,T4_MAE],\n",
    "                       \"MSE\":[T1_MSE,T2_MSE,T3_MSE,T4_MSE],\n",
    "                       \"RMSE\":[T1_RMSE,T2_RMSE,T3_RMSE,T4_RMSE],\n",
    "                       \"MAPE\":[T1_MAPE,T2_MAPE,T3_MAPE,T4_MAPE]\n",
    "                      },index = [i])\n",
    "train_result"
   ]
  },
  {
   "cell_type": "markdown",
   "id": "a115e8a1",
   "metadata": {},
   "source": [
    "## 4.MODEL TESTING RESULTS"
   ]
  },
  {
   "cell_type": "markdown",
   "id": "172c3629",
   "metadata": {},
   "source": [
    "#### PERFORMANCE OF LINEAR REGRESSION MODEL ON TEST DATA FOR DIFFERENT TRIALS"
   ]
  },
  {
   "cell_type": "code",
   "execution_count": 126,
   "id": "a3de9b1f",
   "metadata": {},
   "outputs": [
    {
     "data": {
      "text/html": [
       "<div>\n",
       "<style scoped>\n",
       "    .dataframe tbody tr th:only-of-type {\n",
       "        vertical-align: middle;\n",
       "    }\n",
       "\n",
       "    .dataframe tbody tr th {\n",
       "        vertical-align: top;\n",
       "    }\n",
       "\n",
       "    .dataframe thead th {\n",
       "        text-align: right;\n",
       "    }\n",
       "</style>\n",
       "<table border=\"1\" class=\"dataframe\">\n",
       "  <thead>\n",
       "    <tr style=\"text-align: right;\">\n",
       "      <th></th>\n",
       "      <th>MAE</th>\n",
       "      <th>MSE</th>\n",
       "      <th>RMSE</th>\n",
       "      <th>MAPE</th>\n",
       "    </tr>\n",
       "  </thead>\n",
       "  <tbody>\n",
       "    <tr>\n",
       "      <th>All variables</th>\n",
       "      <td>747.322422</td>\n",
       "      <td>1.354560e+06</td>\n",
       "      <td>1163.855674</td>\n",
       "      <td>40.392982</td>\n",
       "    </tr>\n",
       "    <tr>\n",
       "      <th>Log transformation of y</th>\n",
       "      <td>6634.736980</td>\n",
       "      <td>3.101778e+11</td>\n",
       "      <td>556936.094905</td>\n",
       "      <td>325.138726</td>\n",
       "    </tr>\n",
       "    <tr>\n",
       "      <th>Standardizing Numerical variables</th>\n",
       "      <td>0.185787</td>\n",
       "      <td>8.371650e-02</td>\n",
       "      <td>0.289338</td>\n",
       "      <td>-15.856775</td>\n",
       "    </tr>\n",
       "    <tr>\n",
       "      <th>Droping variables with high VIF with std.data</th>\n",
       "      <td>0.186643</td>\n",
       "      <td>8.471591e-02</td>\n",
       "      <td>0.291060</td>\n",
       "      <td>-14.980566</td>\n",
       "    </tr>\n",
       "  </tbody>\n",
       "</table>\n",
       "</div>"
      ],
      "text/plain": [
       "                                                       MAE           MSE  \\\n",
       "All variables                                   747.322422  1.354560e+06   \n",
       "Log transformation of y                        6634.736980  3.101778e+11   \n",
       "Standardizing Numerical variables                 0.185787  8.371650e-02   \n",
       "Droping variables with high VIF with std.data     0.186643  8.471591e-02   \n",
       "\n",
       "                                                        RMSE        MAPE  \n",
       "All variables                                    1163.855674   40.392982  \n",
       "Log transformation of y                        556936.094905  325.138726  \n",
       "Standardizing Numerical variables                   0.289338  -15.856775  \n",
       "Droping variables with high VIF with std.data       0.291060  -14.980566  "
      ]
     },
     "execution_count": 126,
     "metadata": {},
     "output_type": "execute_result"
    }
   ],
   "source": [
    "i = [\"All variables\",\"Log transformation of y\",\"Standardizing Numerical variables\",\"Droping variables with high VIF with std.data\"]\n",
    "train_result = pd.DataFrame({\n",
    "                       \"MAE\":[T1_MAE_T,T2_MAE_T,T3_MAE_T,T4_MAE_T],\n",
    "                       \"MSE\":[T1_MSE_T,T2_MSE_T,T3_MSE_T,T4_MSE_T],\n",
    "                       \"RMSE\":[T1_RMSE_T,T2_RMSE_T,T3_RMSE_T,T4_RMSE_T],\n",
    "                       \"MAPE\":[T1_MAPE_T,T2_MAPE_T,T3_MAPE_T,T4_MAPE_T]\n",
    "                      },index = [i])\n",
    "train_result"
   ]
  },
  {
   "cell_type": "markdown",
   "id": "7aaa1442",
   "metadata": {},
   "source": [
    "* <i><b> Standardizing the variables and training the model has resulted in better accuracy compared to other changes."
   ]
  },
  {
   "cell_type": "code",
   "execution_count": null,
   "id": "02121ac2",
   "metadata": {},
   "outputs": [],
   "source": []
  },
  {
   "cell_type": "code",
   "execution_count": null,
   "id": "2675b0d6",
   "metadata": {},
   "outputs": [],
   "source": []
  },
  {
   "cell_type": "code",
   "execution_count": null,
   "id": "8e6ef59f",
   "metadata": {},
   "outputs": [],
   "source": []
  },
  {
   "cell_type": "code",
   "execution_count": null,
   "id": "23b62362",
   "metadata": {},
   "outputs": [],
   "source": []
  },
  {
   "cell_type": "code",
   "execution_count": null,
   "id": "55c239c4",
   "metadata": {},
   "outputs": [],
   "source": []
  },
  {
   "cell_type": "code",
   "execution_count": null,
   "id": "25d56408",
   "metadata": {},
   "outputs": [],
   "source": []
  },
  {
   "cell_type": "code",
   "execution_count": null,
   "id": "ffb4d2d9",
   "metadata": {},
   "outputs": [],
   "source": []
  },
  {
   "cell_type": "code",
   "execution_count": null,
   "id": "d2ca74c3",
   "metadata": {},
   "outputs": [],
   "source": []
  },
  {
   "cell_type": "code",
   "execution_count": null,
   "id": "7d9d5ceb",
   "metadata": {},
   "outputs": [],
   "source": []
  },
  {
   "cell_type": "code",
   "execution_count": null,
   "id": "e2f57e20",
   "metadata": {},
   "outputs": [],
   "source": []
  },
  {
   "cell_type": "code",
   "execution_count": null,
   "id": "6f44fb17",
   "metadata": {},
   "outputs": [],
   "source": []
  },
  {
   "cell_type": "code",
   "execution_count": null,
   "id": "04bacc37",
   "metadata": {},
   "outputs": [],
   "source": []
  },
  {
   "cell_type": "code",
   "execution_count": null,
   "id": "f38c88bf",
   "metadata": {},
   "outputs": [],
   "source": []
  },
  {
   "cell_type": "markdown",
   "id": "be68300b",
   "metadata": {},
   "source": [
    "## 7.CONCLUSION AND RECOMMENDATION"
   ]
  },
  {
   "cell_type": "code",
   "execution_count": null,
   "id": "9ea9856f",
   "metadata": {},
   "outputs": [],
   "source": []
  },
  {
   "cell_type": "code",
   "execution_count": null,
   "id": "c25b05d0",
   "metadata": {},
   "outputs": [],
   "source": []
  },
  {
   "cell_type": "code",
   "execution_count": null,
   "id": "81a4714c",
   "metadata": {},
   "outputs": [],
   "source": []
  },
  {
   "cell_type": "code",
   "execution_count": null,
   "id": "efacb9cc",
   "metadata": {},
   "outputs": [],
   "source": []
  },
  {
   "cell_type": "markdown",
   "id": "e915ba80",
   "metadata": {},
   "source": [
    "## <font color=darkblue> Linear Regression using Statsmodels OLS method"
   ]
  },
  {
   "cell_type": "code",
   "execution_count": null,
   "id": "d57e893b",
   "metadata": {},
   "outputs": [],
   "source": []
  },
  {
   "cell_type": "code",
   "execution_count": null,
   "id": "08584e97",
   "metadata": {},
   "outputs": [],
   "source": []
  },
  {
   "cell_type": "code",
   "execution_count": null,
   "id": "81538518",
   "metadata": {},
   "outputs": [],
   "source": []
  },
  {
   "cell_type": "code",
   "execution_count": null,
   "id": "4ea29419",
   "metadata": {},
   "outputs": [],
   "source": []
  },
  {
   "cell_type": "code",
   "execution_count": null,
   "id": "2618a80f",
   "metadata": {},
   "outputs": [],
   "source": []
  },
  {
   "cell_type": "code",
   "execution_count": null,
   "id": "4a5456d9",
   "metadata": {},
   "outputs": [],
   "source": []
  },
  {
   "cell_type": "code",
   "execution_count": null,
   "id": "f4bc4a48",
   "metadata": {},
   "outputs": [],
   "source": []
  },
  {
   "cell_type": "markdown",
   "id": "b04eb565",
   "metadata": {},
   "source": []
  },
  {
   "cell_type": "code",
   "execution_count": null,
   "id": "848a7c7c",
   "metadata": {},
   "outputs": [],
   "source": []
  }
 ],
 "metadata": {
  "kernelspec": {
   "display_name": "Python 3 (ipykernel)",
   "language": "python",
   "name": "python3"
  },
  "language_info": {
   "codemirror_mode": {
    "name": "ipython",
    "version": 3
   },
   "file_extension": ".py",
   "mimetype": "text/x-python",
   "name": "python",
   "nbconvert_exporter": "python",
   "pygments_lexer": "ipython3",
   "version": "3.9.12"
  }
 },
 "nbformat": 4,
 "nbformat_minor": 5
}
